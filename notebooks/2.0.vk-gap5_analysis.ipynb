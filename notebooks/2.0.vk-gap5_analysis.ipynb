{
 "cells": [
  {
   "cell_type": "markdown",
   "metadata": {},
   "source": [
    "## 1. Basic libraries"
   ]
  },
  {
   "cell_type": "code",
   "execution_count": 1,
   "metadata": {},
   "outputs": [
    {
     "name": "stdout",
     "output_type": "stream",
     "text": [
      "Object `tqdm_notebook` not found.\n"
     ]
    }
   ],
   "source": [
    "# Data Science Packages\n",
    "import sys\n",
    "import matplotlib.pyplot as plt\n",
    "import numpy as np\n",
    "import pandas as pd\n",
    "from  matplotlib import pyplot\n",
    "import seaborn as sns\n",
    "import warnings\n",
    "from tqdm import tqdm, tqdm_notebook?"
   ]
  },
  {
   "cell_type": "code",
   "execution_count": 2,
   "metadata": {},
   "outputs": [],
   "source": [
    "# Seaborn Style\n",
    "sns.set(style='ticks')\n",
    "sns.set_style({'font.family': 'Hiragino Maru Gothic Pro'})\n",
    "sns.set_palette(\"cool\")\n",
    "\n",
    "# Pandas Style\n",
    "pd.set_option(\"display.max_column\", 9999)\n",
    "pd.set_option(\"display.max_row\", 9999)\n",
    "\n",
    "# Ignore annoying warning \n",
    "warnings.filterwarnings('ignore')"
   ]
  },
  {
   "cell_type": "code",
   "execution_count": 3,
   "metadata": {},
   "outputs": [],
   "source": [
    "%load_ext autoreload\n",
    "%autoreload 2"
   ]
  },
  {
   "cell_type": "code",
   "execution_count": 5,
   "metadata": {},
   "outputs": [],
   "source": [
    "from config import *"
   ]
  },
  {
   "cell_type": "code",
   "execution_count": 6,
   "metadata": {},
   "outputs": [],
   "source": [
    "from preprocessing import *"
   ]
  },
  {
   "cell_type": "markdown",
   "metadata": {},
   "source": [
    "## 2. Load and Preproess the data"
   ]
  },
  {
   "cell_type": "code",
   "execution_count": null,
   "metadata": {},
   "outputs": [],
   "source": [
    "#main()"
   ]
  },
  {
   "cell_type": "markdown",
   "metadata": {},
   "source": [
    "## 3. Load the preprocess data into the DataLoader through Dataset"
   ]
  },
  {
   "cell_type": "code",
   "execution_count": 7,
   "metadata": {},
   "outputs": [],
   "source": [
    "from datamodule import *"
   ]
  },
  {
   "cell_type": "code",
   "execution_count": null,
   "metadata": {},
   "outputs": [],
   "source": [
    "#main()"
   ]
  },
  {
   "cell_type": "markdown",
   "metadata": {},
   "source": [
    "## 4. Train the AutoEncder model"
   ]
  },
  {
   "cell_type": "code",
   "execution_count": 8,
   "metadata": {},
   "outputs": [],
   "source": [
    "from encoder import *\n",
    "from decoder import *\n",
    "from autoencoder import *"
   ]
  },
  {
   "cell_type": "code",
   "execution_count": null,
   "metadata": {},
   "outputs": [],
   "source": [
    "#main()"
   ]
  },
  {
   "cell_type": "code",
   "execution_count": 9,
   "metadata": {},
   "outputs": [],
   "source": [
    "# Load the TensorBoard notebook extension\n",
    "%load_ext tensorboard\n",
    "%reload_ext tensorboard"
   ]
  },
  {
   "cell_type": "code",
   "execution_count": 23,
   "metadata": {},
   "outputs": [
    {
     "data": {
      "text/html": [
       "\n",
       "      <iframe id=\"tensorboard-frame-ae7029f4d0756cfb\" width=\"100%\" height=\"800\" frameborder=\"0\">\n",
       "      </iframe>\n",
       "      <script>\n",
       "        (function() {\n",
       "          const frame = document.getElementById(\"tensorboard-frame-ae7029f4d0756cfb\");\n",
       "          const url = new URL(\"/\", window.location);\n",
       "          const port = 6007;\n",
       "          if (port) {\n",
       "            url.port = port;\n",
       "          }\n",
       "          frame.src = url;\n",
       "        })();\n",
       "      </script>\n",
       "    "
      ],
      "text/plain": [
       "<IPython.core.display.HTML object>"
      ]
     },
     "metadata": {},
     "output_type": "display_data"
    }
   ],
   "source": [
    "%tensorboard --logdir /Users/vikaschaturvedi/Documents/projects/predictive_care/experiment_gaps/models/lightning_logs/ --host localhost"
   ]
  },
  {
   "cell_type": "code",
   "execution_count": 11,
   "metadata": {},
   "outputs": [
    {
     "name": "stdout",
     "output_type": "stream",
     "text": [
      "epoch=59-step=3119.ckpt\r\n"
     ]
    }
   ],
   "source": [
    "cpetype='W724Ci'\n",
    "path_tensorboard = '../models/lightning_logs/cpe_replacement_autoencoder/'+cpetype+'/version_2/checkpoints/'\n",
    "! ls $path_tensorboard"
   ]
  },
  {
   "cell_type": "markdown",
   "metadata": {},
   "source": [
    "## 5. Train the Classifier model"
   ]
  },
  {
   "cell_type": "code",
   "execution_count": 12,
   "metadata": {},
   "outputs": [],
   "source": [
    "from classifier import *"
   ]
  },
  {
   "cell_type": "markdown",
   "metadata": {},
   "source": [
    "Define the classifier model with the pretrained AutoEncoder model and loading preprocessed data into the Classifier for the Training"
   ]
  },
  {
   "cell_type": "code",
   "execution_count": null,
   "metadata": {},
   "outputs": [],
   "source": [
    "#main()"
   ]
  },
  {
   "cell_type": "markdown",
   "metadata": {},
   "source": [
    "## 6. Evaluate the model"
   ]
  },
  {
   "cell_type": "markdown",
   "metadata": {},
   "source": [
    "Here we are going to load the train model to evaluate the performance per class"
   ]
  },
  {
   "cell_type": "code",
   "execution_count": 30,
   "metadata": {
    "scrolled": true
   },
   "outputs": [
    {
     "name": "stdout",
     "output_type": "stream",
     "text": [
      "epoch=59-step=3119.ckpt\r\n"
     ]
    }
   ],
   "source": [
    "cpetype='W724Ci'\n",
    "path_tensorboard = '../models/lightning_logs/cpe_replacement_classifier/'+cpetype+'/version_11/checkpoints/'\n",
    "! ls $path_tensorboard"
   ]
  },
  {
   "cell_type": "markdown",
   "metadata": {},
   "source": [
    "### 6.1 Load the trained model"
   ]
  },
  {
   "cell_type": "markdown",
   "metadata": {},
   "source": [
    "In this section we will load our model using the check point with best accuracy."
   ]
  },
  {
   "cell_type": "code",
   "execution_count": 31,
   "metadata": {},
   "outputs": [
    {
     "data": {
      "text/plain": [
       "ReplacementClassifier(\n",
       "  (accuracy): Accuracy()\n",
       "  (F1): F1()\n",
       "  (recall): Recall()\n",
       "  (feature_extractor): ConvNetAutoEncoder(\n",
       "    (encoder): ConvEncoder(\n",
       "      (conv1): Conv1d(190, 380, kernel_size=(3,), stride=(1,), padding=(1,))\n",
       "      (conv2): Conv1d(380, 760, kernel_size=(3,), stride=(1,), padding=(1,))\n",
       "      (pool): MaxPool1d(kernel_size=2, stride=2, padding=0, dilation=1, ceil_mode=False)\n",
       "      (flatten): Flatten(start_dim=1, end_dim=-1)\n",
       "      (batch_norm1): BatchNorm1d(380, eps=1e-05, momentum=0.1, affine=True, track_running_stats=True)\n",
       "      (batch_norm2): BatchNorm1d(760, eps=1e-05, momentum=0.1, affine=True, track_running_stats=True)\n",
       "      (linear): Linear(in_features=5320, out_features=500, bias=True)\n",
       "    )\n",
       "    (decoder): ConvDecoder(\n",
       "      (t_conv1): ConvTranspose1d(760, 380, kernel_size=(3,), stride=(2,))\n",
       "      (t_conv2): ConvTranspose1d(380, 190, kernel_size=(2,), stride=(2,))\n",
       "      (batch_norm1): BatchNorm1d(380, eps=1e-05, momentum=0.1, affine=True, track_running_stats=True)\n",
       "      (linear): Linear(in_features=500, out_features=5320, bias=True)\n",
       "    )\n",
       "  )\n",
       "  (lin1): Linear(in_features=500, out_features=150, bias=True)\n",
       "  (lin2): Linear(in_features=150, out_features=64, bias=True)\n",
       "  (classifier): Linear(in_features=64, out_features=2, bias=True)\n",
       "  (dropper): Dropout(p=0.25, inplace=False)\n",
       "  (criterion): BCELoss()\n",
       ")"
      ]
     },
     "execution_count": 31,
     "metadata": {},
     "output_type": "execute_result"
    }
   ],
   "source": [
    "from classifier import ReplacementClassifier\n",
    "\n",
    "classifier = ReplacementClassifier.load_from_checkpoint('../models/lightning_logs/cpe_replacement_classifier/W724Ci/version_11/checkpoints/epoch=59-step=3119.ckpt')\n",
    "classifier.eval()"
   ]
  },
  {
   "cell_type": "markdown",
   "metadata": {},
   "source": [
    "### 6.2 Training Results"
   ]
  },
  {
   "cell_type": "markdown",
   "metadata": {},
   "source": [
    "Here we are going to define the path to the folder where the preprocessed data is located. We are going to select a huge batch_size in order to query the complete data set in just one iteration."
   ]
  },
  {
   "cell_type": "code",
   "execution_count": 15,
   "metadata": {},
   "outputs": [],
   "source": [
    "cpetype = 'W724Ci'\n",
    "path_preprocessed = config['path']['root']+\"/data/preprocessed/data_w\"+str(config['dataset']['window'])+\"_g\"+str(config['dataset']['gap'])+\"/\"+cpetype\n",
    "data_module = ReplacementDataModule(path_preprocessed, batch_size=10000, num_workers=0)"
   ]
  },
  {
   "cell_type": "markdown",
   "metadata": {},
   "source": [
    "Lets setup the `data_module` in the stage `fit`."
   ]
  },
  {
   "cell_type": "code",
   "execution_count": 19,
   "metadata": {},
   "outputs": [],
   "source": [
    "import numpy as np\n",
    "from sklearn.metrics import multilabel_confusion_matrix,confusion_matrix,precision_score,recall_score,f1_score,accuracy_score\n",
    "\n",
    "def evaluation_metrics(y_true,y_pred):\n",
    "    '''\n",
    "    This function print the different evaluations metrics for different labels\n",
    "    \n",
    "    Args:\n",
    "        y_true: True Label\n",
    "        y_pred: Predicted Label\n",
    "    \n",
    "    '''\n",
    "\n",
    "    labels = [\"label_no_problem\", \"label_healthy\"]\n",
    "\n",
    "    conf_mat_dict={}\n",
    "    precision={}\n",
    "    recall={}\n",
    "    f1={}\n",
    "    accuracy={}\n",
    "\n",
    "    for label_col in range(len(labels)):\n",
    "        y_true_label = y_true[:, label_col]\n",
    "        y_pred_label = y_pred[:, label_col]\n",
    "        conf_mat_dict[labels[label_col]] = confusion_matrix(y_pred=y_pred_label, y_true=y_true_label)\n",
    "        precision[labels[label_col]] = precision_score(y_pred=y_pred_label, y_true=y_true_label)\n",
    "        recall[labels[label_col]] = recall_score(y_pred=y_pred_label, y_true=y_true_label)\n",
    "        f1[labels[label_col]] = f1_score(y_pred=y_pred_label, y_true=y_true_label)\n",
    "        accuracy[labels[label_col]] = accuracy_score(y_pred=y_pred_label, y_true=y_true_label)\n",
    "\n",
    "    for label, matrix in conf_mat_dict.items():\n",
    "        print(\"Confusion matrix for label {}:\".format(label))\n",
    "        print(matrix)\n",
    "        print('\\n')\n",
    "\n",
    "    for label, score in precision.items():\n",
    "        print(\"Precision for label {}:\".format(label))\n",
    "        print(score)\n",
    "        print('\\n')\n",
    "\n",
    "    for label, score in recall.items():\n",
    "        print(\"Recall for label {}:\".format(label))\n",
    "        print(score)\n",
    "        print('\\n')\n",
    "\n",
    "    for label, score in f1.items():\n",
    "        print(\"F1 score for label {}:\".format(label))\n",
    "        print(score)\n",
    "        print('\\n')\n",
    "        \n",
    "    for label, score in accuracy.items():\n",
    "        print(\"Accuracy for label {}:\".format(label))\n",
    "        print(score)\n",
    "        print('\\n')"
   ]
  },
  {
   "cell_type": "code",
   "execution_count": 17,
   "metadata": {},
   "outputs": [
    {
     "name": "stdout",
     "output_type": "stream",
     "text": [
      "Dim Input: torch.Size([1655, 30, 190])\n"
     ]
    }
   ],
   "source": [
    "data_module.setup(stage='fit')\n",
    "labels, matrix = next(iter(data_module.train_dataloader()))\n",
    "print('Dim Input:',matrix.shape)\n",
    "y_true = np.array(labels)\n",
    "y_pred = np.array(classifier(matrix).detach().numpy()).round()\n",
    "cm_train = multilabel_confusion_matrix(y_true, y_pred)"
   ]
  },
  {
   "cell_type": "code",
   "execution_count": 20,
   "metadata": {},
   "outputs": [
    {
     "name": "stdout",
     "output_type": "stream",
     "text": [
      "Confusion matrix for label label_no_problem:\n",
      "[[890 285]\n",
      " [ 50 430]]\n",
      "\n",
      "\n",
      "Confusion matrix for label label_healthy:\n",
      "[[744  39]\n",
      " [  6 866]]\n",
      "\n",
      "\n",
      "Precision for label label_no_problem:\n",
      "0.6013986013986014\n",
      "\n",
      "\n",
      "Precision for label label_healthy:\n",
      "0.9569060773480663\n",
      "\n",
      "\n",
      "Recall for label label_no_problem:\n",
      "0.8958333333333334\n",
      "\n",
      "\n",
      "Recall for label label_healthy:\n",
      "0.9931192660550459\n",
      "\n",
      "\n",
      "F1 score for label label_no_problem:\n",
      "0.7196652719665273\n",
      "\n",
      "\n",
      "F1 score for label label_healthy:\n",
      "0.9746764209341586\n",
      "\n",
      "\n",
      "Accuracy for label label_no_problem:\n",
      "0.797583081570997\n",
      "\n",
      "\n",
      "Accuracy for label label_healthy:\n",
      "0.972809667673716\n",
      "\n",
      "\n"
     ]
    }
   ],
   "source": [
    "evaluation_metrics(y_true,y_pred)"
   ]
  },
  {
   "cell_type": "markdown",
   "metadata": {},
   "source": [
    "### 6.3 Testing Results"
   ]
  },
  {
   "cell_type": "code",
   "execution_count": 21,
   "metadata": {},
   "outputs": [
    {
     "name": "stdout",
     "output_type": "stream",
     "text": [
      "Dim Input: torch.Size([197, 30, 190])\n"
     ]
    }
   ],
   "source": [
    "import numpy as np\n",
    "from sklearn.metrics import multilabel_confusion_matrix\n",
    "data_module.setup(stage='test')\n",
    "labels, matrix = next(iter(data_module.test_dataloader()))\n",
    "print('Dim Input:',matrix.shape)\n",
    "y_true = np.array(labels)\n",
    "y_pred = np.array(classifier(matrix).detach().numpy()).round()"
   ]
  },
  {
   "cell_type": "code",
   "execution_count": 22,
   "metadata": {},
   "outputs": [
    {
     "name": "stdout",
     "output_type": "stream",
     "text": [
      "Confusion matrix for label label_no_problem:\n",
      "[[102  36]\n",
      " [  4  55]]\n",
      "\n",
      "\n",
      "Confusion matrix for label label_healthy:\n",
      "[[93  5]\n",
      " [ 0 99]]\n",
      "\n",
      "\n",
      "Precision for label label_no_problem:\n",
      "0.6043956043956044\n",
      "\n",
      "\n",
      "Precision for label label_healthy:\n",
      "0.9519230769230769\n",
      "\n",
      "\n",
      "Recall for label label_no_problem:\n",
      "0.9322033898305084\n",
      "\n",
      "\n",
      "Recall for label label_healthy:\n",
      "1.0\n",
      "\n",
      "\n",
      "F1 score for label label_no_problem:\n",
      "0.7333333333333333\n",
      "\n",
      "\n",
      "F1 score for label label_healthy:\n",
      "0.9753694581280787\n",
      "\n",
      "\n",
      "Accuracy for label label_no_problem:\n",
      "0.7969543147208121\n",
      "\n",
      "\n",
      "Accuracy for label label_healthy:\n",
      "0.9746192893401016\n",
      "\n",
      "\n"
     ]
    }
   ],
   "source": [
    "#Dropout=0.25(before linear layer also), Adam optimizer with weight decay and single linear layer\n",
    "evaluation_metrics(y_true,y_pred)"
   ]
  },
  {
   "cell_type": "code",
   "execution_count": null,
   "metadata": {},
   "outputs": [],
   "source": []
  }
 ],
 "metadata": {
  "kernelspec": {
   "display_name": "Python [conda env:predictive-care-2]",
   "language": "python",
   "name": "conda-env-predictive-care-2-py"
  },
  "language_info": {
   "codemirror_mode": {
    "name": "ipython",
    "version": 3
   },
   "file_extension": ".py",
   "mimetype": "text/x-python",
   "name": "python",
   "nbconvert_exporter": "python",
   "pygments_lexer": "ipython3",
   "version": "3.8.8"
  },
  "pycharm": {
   "stem_cell": {
    "cell_type": "raw",
    "metadata": {
     "collapsed": false
    },
    "source": []
   }
  },
  "toc": {
   "base_numbering": 1,
   "nav_menu": {},
   "number_sections": true,
   "sideBar": true,
   "skip_h1_title": false,
   "title_cell": "Table of Contents",
   "title_sidebar": "Contents",
   "toc_cell": false,
   "toc_position": {},
   "toc_section_display": true,
   "toc_window_display": true
  }
 },
 "nbformat": 4,
 "nbformat_minor": 4
}
