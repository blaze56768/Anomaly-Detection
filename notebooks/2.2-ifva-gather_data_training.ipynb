{
 "cells": [
  {
   "cell_type": "markdown",
   "metadata": {},
   "source": [
    "# Predictive Care Initiative - Labeling"
   ]
  },
  {
   "cell_type": "markdown",
   "metadata": {},
   "source": [
    "The main goal of this notebook is to write a pyspark script that preprocess and creates a data set that combines statistics from the access network (`DSLAM`) and the customer premises devices (`CPE`). The above mentioned script should be able to:\n",
    "\n",
    "* Generate a filter data set based on a specified time range.\n",
    "* measurements per Line/port/cpe must be regularly collected.\n",
    "\n",
    "Also, in a second stage CPEs that report any kind of issues must be labled\n",
    "\n",
    "**Business Impact:**\n",
    "The Data generated out of this notebook (train and test) is used as input for ML modeling for CPE replacement usecase.\n",
    "\n",
    "**Key Insights:**\n",
    "* Data with issues are generated\n",
    "* Healthy CPE data are generated\n",
    "* Issues and Healthy CPE data is concatenated and stratified sampling is done in ration 90%:10% for train:test\n",
    "\n",
    "**Future Work:**\n",
    "* We have to sort this pipeline to gather techincal data on daily basis in HT prod by using part of this notebook\n"
   ]
  },
  {
   "cell_type": "markdown",
   "metadata": {},
   "source": [
    "### Table of Contents\n",
    "\n",
    "* [1.Import packages and config](#chapter1)\n",
    "    * [1.1 Spark configuration](#section_1_1)\n",
    "    * [1.2 Import packages](#section_1_2)\n",
    "    * [1.3 Lets setup some style!](#section_1_3)\n",
    "* [2.Gather Data](#chapter2)\n",
    "* [3.CPE replacement data](#chapter3)\n",
    "* [4. Tickets data](#chapter4)\n",
    "* [5.CPE refurbishment data](#chapter5)\n",
    "* [6.Join CPE refurbishment, tickets and replacement data](#chapter6)  \n",
    "* [7.Building dataset independet of `CPE` replacement events - healthy dataset.](#chapter7)\n",
    "* [8.8. Building dataset related with `CPE` replacement events - issue dataset](#chapter8)\n",
    "    * [8.1 Creating Windowing](#section_8_1)\n",
    "    * [8.2 Join `CPE` replacement  with history data](#section_8_2)\n",
    "* [9. Combine healthy +  issue CPE's and label them](#chapter9)\n",
    "    * [9.1 Read CPE's  with issue and healthy](#section_9_1)\n",
    "    * [9.2 Add dummy columns to df_healthy](#section_9_2)\n",
    "    * [9.3 Concatenate issue and healthy CPEs](#section_9_3)\n",
    "    * [9.4 Check for No thunderstorm](#section_9_4)\n",
    "    * [9.5 Get list of distinct issue types, to add new columns](#section_9_5)\n",
    "    * [9.6 Add columns to the df and assign default values for now](#section_9_6)\n",
    "    * [9.7 Fill labels based on issues](#section_9_7)\n",
    "    * [9.8 Stratified split](#section_9_8)\n",
    "* [10. Appendix](#chapter10)\n",
    "    * [A CPEs without any issues](#section_10_1)"
   ]
  },
  {
   "cell_type": "markdown",
   "metadata": {},
   "source": [
    "# 1. Import packages and config  <a class=\"anchor\" id=\"chapter1\"></a>"
   ]
  },
  {
   "cell_type": "markdown",
   "metadata": {},
   "source": [
    "Here is just some stuff we are gonna need!!"
   ]
  },
  {
   "cell_type": "markdown",
   "metadata": {},
   "source": [
    "##  1.1 Spark configuration  <a class=\"anchor\" id=\"section_1_1\"></a>"
   ]
  },
  {
   "cell_type": "markdown",
   "metadata": {},
   "source": [
    "Let's configure our spark session."
   ]
  },
  {
   "cell_type": "code",
   "execution_count": 1,
   "metadata": {
    "scrolled": true
   },
   "outputs": [
    {
     "data": {
      "text/html": [
       "Current session configs: <tt>{'conf': {'spark.driver.cores': '6', 'spark.driver.memory': '10g', 'spark.executor.cores': '6', 'spark.executor.memory': '10g', 'spark.dynamicAllocation.enabled': 'true', 'spark.dynamicAllocation.minExecutors': '4', 'spark.driver.maxResultSize': '4g'}, 'kind': 'pyspark'}</tt><br>"
      ],
      "text/plain": [
       "<IPython.core.display.HTML object>"
      ]
     },
     "metadata": {},
     "output_type": "display_data"
    },
    {
     "data": {
      "text/html": [
       "<table>\n",
       "<tr><th>ID</th><th>YARN Application ID</th><th>Kind</th><th>State</th><th>Spark UI</th><th>Driver log</th><th>Current session?</th></tr><tr><td>237</td><td>application_1620749185953_46577</td><td>pyspark</td><td>idle</td><td><a target=\"_blank\" href=\"http://lxcdhmasterv1d.dc.ht.hr:8088/proxy/application_1620749185953_46577/\">Link</a></td><td><a target=\"_blank\" href=\"http://lxcdhworkerph4d.dc.ht.hr:8042/node/containerlogs/container_e60_1620749185953_46577_01_000001/tsystems_smalhotra\">Link</a></td><td></td></tr><tr><td>276</td><td>application_1620749185953_47232</td><td>pyspark</td><td>idle</td><td><a target=\"_blank\" href=\"http://lxcdhmasterv1d.dc.ht.hr:8088/proxy/application_1620749185953_47232/\">Link</a></td><td><a target=\"_blank\" href=\"http://lxcdhworkerph4d.dc.ht.hr:8042/node/containerlogs/container_e60_1620749185953_47232_01_000001/tsystems_akaur\">Link</a></td><td></td></tr><tr><td>277</td><td>application_1620749185953_47247</td><td>pyspark</td><td>idle</td><td><a target=\"_blank\" href=\"http://lxcdhmasterv1d.dc.ht.hr:8088/proxy/application_1620749185953_47247/\">Link</a></td><td><a target=\"_blank\" href=\"http://lxcdhworkerph6d.dc.ht.hr:8042/node/containerlogs/container_e60_1620749185953_47247_01_000001/tsystems_akaur\">Link</a></td><td></td></tr><tr><td>279</td><td>application_1620749185953_47264</td><td>pyspark</td><td>idle</td><td><a target=\"_blank\" href=\"http://lxcdhmasterv1d.dc.ht.hr:8088/proxy/application_1620749185953_47264/\">Link</a></td><td><a target=\"_blank\" href=\"http://lxcdhworkerph7d.dc.ht.hr:8042/node/containerlogs/container_e60_1620749185953_47264_01_000002/tsystems_akaur\">Link</a></td><td></td></tr><tr><td>280</td><td>application_1620749185953_47288</td><td>pyspark</td><td>idle</td><td><a target=\"_blank\" href=\"http://lxcdhmasterv1d.dc.ht.hr:8088/proxy/application_1620749185953_47288/\">Link</a></td><td><a target=\"_blank\" href=\"http://lxcdhworkerph1d.dc.ht.hr:8042/node/containerlogs/container_e60_1620749185953_47288_01_000001/tsystems_akaur\">Link</a></td><td></td></tr><tr><td>285</td><td>application_1620749185953_47417</td><td>pyspark</td><td>idle</td><td><a target=\"_blank\" href=\"http://lxcdhmasterv1d.dc.ht.hr:8088/proxy/application_1620749185953_47417/\">Link</a></td><td><a target=\"_blank\" href=\"http://lxcdhworkerph7d.dc.ht.hr:8042/node/containerlogs/container_e60_1620749185953_47417_01_000001/bus_mpavisic\">Link</a></td><td></td></tr><tr><td>286</td><td>application_1620749185953_47418</td><td>pyspark</td><td>idle</td><td><a target=\"_blank\" href=\"http://lxcdhmasterv1d.dc.ht.hr:8088/proxy/application_1620749185953_47418/\">Link</a></td><td><a target=\"_blank\" href=\"http://lxcdhworkerph1d.dc.ht.hr:8042/node/containerlogs/container_e60_1620749185953_47418_01_000001/bus_mpavisic\">Link</a></td><td></td></tr><tr><td>287</td><td>application_1620749185953_47424</td><td>pyspark</td><td>idle</td><td><a target=\"_blank\" href=\"http://lxcdhmasterv1d.dc.ht.hr:8088/proxy/application_1620749185953_47424/\">Link</a></td><td><a target=\"_blank\" href=\"http://lxcdhworkerph3d.dc.ht.hr:8042/node/containerlogs/container_e60_1620749185953_47424_01_000002/bus_mpavisic\">Link</a></td><td></td></tr></table>"
      ],
      "text/plain": [
       "<IPython.core.display.HTML object>"
      ]
     },
     "metadata": {},
     "output_type": "display_data"
    }
   ],
   "source": [
    "%%configure -f\n",
    "{\"conf\":\n",
    " {\"spark.driver.cores\": \"6\",\n",
    "  \"spark.driver.memory\": \"10g\",\n",
    "  \"spark.executor.cores\": \"6\",\n",
    "  \"spark.executor.memory\": \"10g\",\n",
    "  \"spark.dynamicAllocation.enabled\": \"true\",\n",
    "  \"spark.dynamicAllocation.minExecutors\" : \"4\",\n",
    "  \"spark.driver.maxResultSize\": \"4g\"\n",
    "    }\n",
    "}"
   ]
  },
  {
   "cell_type": "code",
   "execution_count": 2,
   "metadata": {},
   "outputs": [],
   "source": [
    "%%cleanup -f"
   ]
  },
  {
   "cell_type": "markdown",
   "metadata": {},
   "source": [
    "## 1.2 Import packages <a class=\"anchor\" id=\"section_1_2\"></a>"
   ]
  },
  {
   "cell_type": "code",
   "execution_count": 2,
   "metadata": {},
   "outputs": [
    {
     "name": "stdout",
     "output_type": "stream",
     "text": [
      "Starting Spark application\n"
     ]
    },
    {
     "data": {
      "text/html": [
       "<table>\n",
       "<tr><th>ID</th><th>YARN Application ID</th><th>Kind</th><th>State</th><th>Spark UI</th><th>Driver log</th><th>Current session?</th></tr><tr><td>289</td><td>application_1620749185953_47449</td><td>pyspark</td><td>idle</td><td><a target=\"_blank\" href=\"http://lxcdhmasterv1d.dc.ht.hr:8088/proxy/application_1620749185953_47449/\">Link</a></td><td><a target=\"_blank\" href=\"http://lxcdhworkerph8d.dc.ht.hr:8042/node/containerlogs/container_e60_1620749185953_47449_01_000001/dt_srajan\">Link</a></td><td>✔</td></tr></table>"
      ],
      "text/plain": [
       "<IPython.core.display.HTML object>"
      ]
     },
     "metadata": {},
     "output_type": "display_data"
    },
    {
     "data": {
      "application/vnd.jupyter.widget-view+json": {
       "model_id": "",
       "version_major": 2,
       "version_minor": 0
      },
      "text/plain": [
       "FloatProgress(value=0.0, bar_style='info', description='Progress:', layout=Layout(height='25px', width='50%'),…"
      ]
     },
     "metadata": {},
     "output_type": "display_data"
    },
    {
     "name": "stdout",
     "output_type": "stream",
     "text": [
      "SparkSession available as 'spark'.\n"
     ]
    },
    {
     "data": {
      "application/vnd.jupyter.widget-view+json": {
       "model_id": "",
       "version_major": 2,
       "version_minor": 0
      },
      "text/plain": [
       "FloatProgress(value=0.0, bar_style='info', description='Progress:', layout=Layout(height='25px', width='50%'),…"
      ]
     },
     "metadata": {},
     "output_type": "display_data"
    }
   ],
   "source": [
    "# Data Science Packages\n",
    "import sys\n",
    "import matplotlib\n",
    "import matplotlib.pyplot as plt\n",
    "import numpy as np\n",
    "import pandas as pd\n",
    "from  matplotlib import pyplot\n",
    "import seaborn as sns\n",
    "import warnings\n",
    "from datetime import datetime\n",
    "from datetime import timedelta\n",
    "import datetime\n",
    "\n",
    "\n",
    "#Spark Packages\n",
    "from pyspark.sql import SparkSession\n",
    "import pyspark.sql.functions as F\n",
    "from pyspark.sql import DataFrame\n",
    "from pyspark.sql import types \n",
    "import pyspark.sql.types\n",
    "from pyspark.sql.functions import UserDefinedFunction"
   ]
  },
  {
   "cell_type": "markdown",
   "metadata": {},
   "source": [
    "## 1.3  Let's setup some style! <a class=\"anchor\" id=\"section_1_3\"></a>"
   ]
  },
  {
   "cell_type": "markdown",
   "metadata": {},
   "source": [
    "This is not a requirement but anyway you know that they say:\n",
    "> \"Fashions fade, style is eternal.\" <br/>\n",
    "_Yves Saint Laurent_"
   ]
  },
  {
   "cell_type": "code",
   "execution_count": 3,
   "metadata": {},
   "outputs": [
    {
     "data": {
      "application/vnd.jupyter.widget-view+json": {
       "model_id": "",
       "version_major": 2,
       "version_minor": 0
      },
      "text/plain": [
       "FloatProgress(value=0.0, bar_style='info', description='Progress:', layout=Layout(height='25px', width='50%'),…"
      ]
     },
     "metadata": {},
     "output_type": "display_data"
    }
   ],
   "source": [
    "# Matplotlib\n",
    "\n",
    "#matplotlib.use('agg')\n",
    "#plt.switch_backend('agg')\n",
    "\n",
    "# Seaborn Style\n",
    "sns.set(style='ticks')\n",
    "sns.set_style({'font.family': 'Hiragino Maru Gothic Pro'})\n",
    "sns.set_palette(\"cool\")\n",
    "\n",
    "# Pandas Style\n",
    "pd.set_option(\"display.max_column\", 9999)\n",
    "pd.set_option(\"display.max_row\", 9999)\n",
    "\n",
    "# Ignore annoying warning \n",
    "warnings.filterwarnings('ignore')"
   ]
  },
  {
   "cell_type": "markdown",
   "metadata": {},
   "source": [
    "# 2. Gather data <a class=\"anchor\" id=\"chapter2\"></a>"
   ]
  },
  {
   "cell_type": "markdown",
   "metadata": {},
   "source": [
    "In this section we are going load the required data. (more information take a look into `1.0-lfva-gather-data.ipynb`)"
   ]
  },
  {
   "cell_type": "code",
   "execution_count": 4,
   "metadata": {},
   "outputs": [
    {
     "data": {
      "application/vnd.jupyter.widget-view+json": {
       "model_id": "",
       "version_major": 2,
       "version_minor": 0
      },
      "text/plain": [
       "FloatProgress(value=0.0, bar_style='info', description='Progress:', layout=Layout(height='25px', width='50%'),…"
      ]
     },
     "metadata": {},
     "output_type": "display_data"
    }
   ],
   "source": [
    "from datetime import datetime\n",
    "from datetime import timedelta\n",
    "#import datetime\n",
    "\n",
    "#Spark Packages\n",
    "from pyspark.sql import SparkSession\n",
    "import pyspark.sql.functions as F\n",
    "\n",
    "def spark_init():\n",
    "    \"\"\"Init Spark session.\n",
    "    Returns:\n",
    "        object: spark session.\n",
    "    \"\"\"\n",
    "    spark = SparkSession.builder \\\n",
    "        .master('yarn') \\\n",
    "        .appName('predictive_care') \\\n",
    "        .enableHiveSupport() \\\n",
    "        .getOrCreate()\n",
    "    spark.sparkContext.setLogLevel(\"ERROR\")\n",
    "    return spark\n",
    "\n",
    "\n",
    "def data_import(database, table, start_time, end_time, spark):\n",
    "    \"\"\"Function to load data from Hive tables based on start time and end time.\n",
    "    \n",
    "    Args:\n",
    "        database (string): Database name in HIVE.\n",
    "        table (string): Table name in HIVE.\n",
    "        start_time (str): Start time for the query.\n",
    "        end_time (str): End time for the query.\n",
    "        spark (obj): Spark session object.\n",
    "        \n",
    "    Returns:\n",
    "        dataframe :  spark dataframe with loaded data.\n",
    "    \"\"\"\n",
    "    start_time = parsing_date_format(start_time, \"%Y-%m-%d\")\n",
    "    end_time = parsing_date_format(end_time, \"%Y-%m-%d\")\n",
    "\n",
    "    df = spark.sql(\"select * from {0}.{1} where {2} between '{3}' and '{4}' \" \\\n",
    "              .format(database, table, 'datum', start_time, end_time))\n",
    "    return df\n",
    "\n",
    "def generate_date_series(start, stop):\n",
    "    return [start + timedelta(days=x) for x in range(0, (stop-start).days + 1)] \n",
    "\n",
    "def parsing_date_format(datetime_str, target_date_format):\n",
    "    \"\"\"Fuction to modify the date format.\n",
    "    \n",
    "    Args:\n",
    "        datetime_str (str): Date in original format. expected \"%Y-%m-%d\".\n",
    "        target_date_format (str): Desire date format e.g \"%Y%m%d\".\n",
    "    \n",
    "    Returns\n",
    "        str: Date in target format.\n",
    "    \"\"\"\n",
    "    date_obj = datetime.strptime(datetime_str, \"%Y-%m-%d\").date()\n",
    "    return date_obj.strftime(target_date_format)\n",
    "\n",
    "def flatten_df(df):\n",
    "    \"\"\"This funtion flat a nested dataframe.\n",
    "    \n",
    "    Args:\n",
    "        df (dataframe): Input nested dataframe.\n",
    "        \n",
    "    Returns:\n",
    "        flat_df (dataframe): Output flatted datframe.\n",
    "    \"\"\"\n",
    "    flat_cols = [col[0] for col in df.dtypes if col[1][:6] != 'struct']\n",
    "    nested_cols = [col[0] for col in df.dtypes if col[1][:6] == 'struct']\n",
    "    flat_df = df.select(flat_cols +\\\n",
    "                   [F.col(root_col+'.'+nested_col).alias(root_col+'_'+nested_col)\\\n",
    "                    for root_col in nested_cols\\\n",
    "                    for nested_col in df.select(root_col+'.*').columns])\n",
    "    return flat_df\n",
    "\n",
    "def rename_cols(df, prefix):\n",
    "    \"\"\"Column renameb by adding a prefix.\n",
    "    \n",
    "    Args:\n",
    "        df (dataframe): Input dataframe.\n",
    "        \n",
    "    Returns:\n",
    "        df (dataframe): Output datframe witha ppended prefix to columns.\n",
    "    \"\"\"\n",
    "    for feature in df.columns:\n",
    "        df = df.withColumnRenamed(feature,prefix+feature)\n",
    "    return df\n",
    "\n",
    "def change_data_type(df, cols_to_convert, datatype):\n",
    "    \"\"\" Change data type for columns from one type to another.\n",
    "    Args:\n",
    "        df (dataframe): Input spark dataframe. \n",
    "        cols_to_convert (list): list of columns.\n",
    "        datatype(object): Intended data type.\n",
    "    Returns:\n",
    "        df (dataframe): Spark df with proper datatype.\n",
    "    \"\"\"\n",
    "    for col_name in cols_to_convert:\n",
    "        df = df.withColumn(col_name, F.col(col_name).cast(datatype))\n",
    "    return df\n",
    "\n",
    "def fix_cpetype(df):\n",
    "        df_inventory = df.filter(F.col('cpetype').isNotNull()).select('assetid','cpetype').groupBy('assetid', 'cpetype').count()\n",
    "        df_inventory = df_inventory.select('assetid','cpetype')\n",
    "        df_inventory = df_inventory.dropDuplicates(subset = ['assetid'])\n",
    "        df = df.drop('cpetype')\n",
    "        df = df.join(df_inventory, on=['assetid'], how='left')\n",
    "        df = df.filter(F.col('cpetype').isNotNull())\n",
    "        return df\n",
    "\n",
    "def gather_data (start_time, end_time, spark):\n",
    "    \"\"\"This Funtion gather the relevant information from HDFS in the relevant time frame.\n",
    "    \n",
    "    Args:\n",
    "        start_time (str): Start time for the query.\n",
    "        end_time (str): End time for the query.\n",
    "        spark (obj): Spark session object.\n",
    "        \n",
    "    Returns:\n",
    "        dataframe :  spark dataframe with loaded data.\n",
    "    \n",
    "    \"\"\"\n",
    "    #loading data\n",
    "    df_dslam = data_import('cdl_blos', 'pol_day_aggregation', start_time, end_time, spark) #per day\n",
    "    df_snmp = data_import('cdl_blos', 'snmp_traps_agg', start_time, end_time, spark) #per day\n",
    "    df_acs = data_import('cdl_acscoll', 'cdl_acscoll_xdsl_line_prq',start_time, end_time, spark)# cat, mm, counter/delta\n",
    "    # Delta/counter values in df_acs doesnt make sense\n",
    "    \n",
    "    # create key\n",
    "    df_key = df_dslam.select('assetid').distinct()\n",
    "    df_key = df_key.withColumn('start', F.lit(start_time)).withColumn('stop', F.lit(end_time))\n",
    "    df_key = df_key.withColumn('start', F.col('start').cast(types.DateType()))\n",
    "    df_key = df_key.withColumn('stop', F.col('stop').cast(types.DateType()))\n",
    "    \n",
    "    spark.udf.register(\"generate_date_series\", generate_date_series, types.ArrayType(types.DateType()) )\n",
    "    df_key.createOrReplaceTempView(\"keydf\")\n",
    "\n",
    "    df_key = spark.sql(\"SELECT assetid, explode(generate_date_series(start, stop)) as date FROM keydf\")\n",
    "    print('df_key - printSchema', df_key.printSchema())\n",
    "    \n",
    "    #flatteing nested fields\n",
    "    df_acs = flatten_df(df_acs)\n",
    "    \n",
    "    #dropping missing keys\n",
    "    df_dslam =df_dslam.na.drop(subset=['assetid','datum'])\n",
    "    df_snmp =df_snmp.na.drop(subset=['assetid','datum'])\n",
    "    df_acs = df_acs.na.drop(subset=['crm_assetId','datum'])\n",
    "    \n",
    "    # Drop multiple samples per day\n",
    "    df_dslam = df_dslam.dropDuplicates(['assetid','datum'])\n",
    "    df_snmp = df_snmp.dropDuplicates(['assetid','datum'])\n",
    "    df_acs = df_acs.dropDuplicates(['crm_assetId','datum'])\n",
    "    \n",
    "    #Renamming for conditional join\n",
    "    df_dslam = rename_cols(df_dslam, 'dslam_')\n",
    "    df_snmp = rename_cols(df_snmp, 'snmp_')\n",
    "    df_acs = rename_cols(df_acs, 'acs_')\n",
    "    \n",
    "    \n",
    "    #Join\n",
    "    \n",
    "    df = df_key.join(df_dslam, [(df_key.assetid == df_dslam.dslam_assetid) & (df_key.date == df_dslam.dslam_datum)], how='left')\n",
    "    df = df.join(df_snmp, [(df.assetid == df_snmp.snmp_assetid) & (df.date == df_snmp.snmp_datum)], how='left')\n",
    "    df = df.join(df_acs, [(df.assetid == df_acs.acs_crm_assetId) & (df.date == df_acs.acs_datum)], how='left')\n",
    "    df = df.drop('dslam_assetid', 'acs_crm_assetId','acs_datum','snmp_assetid', 'snmp_datum')\n",
    "    df = df.withColumnRenamed('date','datum')\n",
    "  \n",
    "    \n",
    "    #change data types as all types are string\n",
    "    cols_to_convert_to_long = ['acs_xdslline_dslUptime', 'acs_xdslline_cpeUptime','acs_xdslline_cpuUsagePercentage',\n",
    "                           'acs_xdslline_freeMemoryKb', 'acs_xdslline_totalMemoryKb', 'acs_xdslline_usedMemoryKb',\n",
    "                           'acs_xdslline_natCurrent', 'acs_xdslline_natMax', 'acs_xdslline_crc', 'acs_xdslline_fec',\n",
    "                           'acs_xdslline_hec', 'acs_xdslline_cellDelin', 'acs_xdslline_erroredSecs', 'acs_xdslline_initErrors',\n",
    "                           'acs_xdslline_initTimeOuts', 'acs_xdslline_severelyErroredSecs', 'acs_xdslline_linkRetrain',\n",
    "                           'acs_xdslline_lossOfFraming', 'acs_xdslline_lossOfPower','acs_xdslline_transmitBlocks', 'acs_xdslline_receiveBlocks', \n",
    "                           'acs_xdslline_downAttenuationDb', 'acs_xdslline_downCurrRateKbps', 'acs_xdslline_downMaxRateKbps', \n",
    "                           'acs_xdslline_downNoiseMarginDb', 'acs_xdslline_downPowerDbm', 'acs_xdslline_upAttenuationDb', 'acs_xdslline_upCurrRateKbps', 'acs_xdslline_upMaxRateKbps', \n",
    "                           'acs_xdslline_upNoiseMarginDb', 'acs_xdslline_upPowerDbm', 'acs_xdslline_atuccrc',\n",
    "                            'acs_xdslline_atucfec','acs_xdslline_atuchec']\n",
    "    df = change_data_type(df, cols_to_convert=cols_to_convert_to_long, datatype=types.LongType())\n",
    "    \n",
    "    #feature list\n",
    "    feature_list = ['dslam_distinct_modulation', 'dslam_no_of_dominant_modulation', 'dslam_code_of_dominant_modulation', \n",
    "     'dslam_avg_bitrate_us', 'dslam_avg_bitrate_ds', 'dslam_avg_attenuation_ds', 'dslam_avg_attenuation_us',\n",
    "     'dslam_avg_power_us', 'dslam_avg_power_ds', 'dslam_avg_att_bitrate_us', 'dslam_avg_att_bitrate_ds', \n",
    "     'dslam_avg_snr_us', 'dslam_avg_snr_ds', 'dslam_no_counts', 'dslam_avg_bandline_ds', 'dslam_avg_bandline_us', \n",
    "     'dslam_sum_cv_us', 'dslam_count_cv_us', 'dslam_sum_cv_ds', 'dslam_count_cv_ds', 'dslam_sum_es_ds', \n",
    "     'dslam_count_es_ds', 'dslam_sum_es_us', 'dslam_count_es_us', 'dslam_sum_ses_ds', 'dslam_count_ses_ds', \n",
    "     'dslam_sum_ses_us', 'dslam_count_ses_us', 'dslam_sum_fec_ds', 'dslam_count_fec_ds', 'dslam_sum_fec_us', \n",
    "     'dslam_count_fec_us', 'dslam_inits', 'dslam_port_inst_id', 'dslam_rg_port_inst_id', 'dslam_prim_izvod_inst_id', \n",
    "     'snmp_no_lossoflink', 'snmp_no_linkup', 'snmp_no_dyinggasp', 'acs_xdslline_dslUptime', 'acs_xdslline_cpeUptime', \n",
    "     'acs_xdslline_cpuUsagePercentage', 'acs_xdslline_freeMemoryKb', 'acs_xdslline_totalMemoryKb', \n",
    "     'acs_xdslline_usedMemoryKb', 'acs_xdslline_natCurrent', 'acs_xdslline_natMax', 'acs_xdslline_crc', \n",
    "     'acs_xdslline_fec', 'acs_xdslline_hec', 'acs_xdslline_cellDelin', 'acs_xdslline_erroredSecs', 'acs_xdslline_initErrors',\n",
    "     'acs_xdslline_initTimeOuts', 'acs_xdslline_severelyErroredSecs', 'acs_xdslline_linkRetrain', 'acs_xdslline_lossOfFraming', \n",
    "     'acs_xdslline_lossOfPower', 'acs_xdslline_transmitBlocks', 'acs_xdslline_receiveBlocks', 'acs_xdslline_downAttenuationDb', \n",
    "     'acs_xdslline_downCurrRateKbps', 'acs_xdslline_downMaxRateKbps', 'acs_xdslline_downNoiseMarginDb', 'acs_xdslline_downPowerDbm', \n",
    "     'acs_xdslline_upAttenuationDb', 'acs_xdslline_upCurrRateKbps', 'acs_xdslline_upMaxRateKbps', 'acs_xdslline_upNoiseMarginDb', \n",
    "     'acs_xdslline_upPowerDbm', 'acs_xdslline_atuccrc', 'acs_xdslline_atucfec', 'acs_xdslline_atuchec', 'datum', 'assetid', \n",
    "     'dslam_date_inserted', 'dslam_platforma', 'dslam_model', 'dslam_card_type', 'dslam_status_porta', 'dslam_bandwidth', \n",
    "     'dslam_vdsl_adsl', 'dslam_vendor', 'dslam_status', 'dslam_internet', 'dslam_iptv', 'dslam_voip', 'dslam_regija', \n",
    "     'acs_@type', 'acs_status', 'acs_description', 'acs_crm_accessNetwork', 'acs_crm_dslamFrame', 'acs_crm_dslamSlot', \n",
    "     'acs_crm_serviceName', 'acs_crm_productClass', 'acs_xdslline_manufacturer', 'acs_xdslline_manufacturerOui', 'acs_xdslline_softwareVersion', \n",
    "     'acs_xdslline_additionalSoftwareVersion', 'acs_xdslline_anexType', 'acs_xdslline_dslType', 'acs_xdslline_linkEncapsulationType', \n",
    "     'acs_xdslline_pppoEConnectionStatus', 'acs_xdslline_pppoELastConnectionError', 'acs_xdslline_pppoENATEnabled', \n",
    "     'acs_xdslline_pppoEUsername', 'acs_createdmsec']\n",
    "    \n",
    "    df = df.select(*feature_list)\n",
    "    df = df.withColumnRenamed('acs_crm_productClass', 'cpetype')\n",
    "    \n",
    "    #Sorting by date\n",
    "    df = df.orderBy(df.datum.asc())\n",
    "    df = fix_cpetype(df)\n",
    "    return df\n"
   ]
  },
  {
   "cell_type": "markdown",
   "metadata": {},
   "source": [
    "# 3. `CPE` replacement data <a class=\"anchor\" id=\"chapter3\"></a>"
   ]
  },
  {
   "cell_type": "markdown",
   "metadata": {},
   "source": [
    "Le's load the `CPE replacement dataset`. - The day the CPE was replaced due to issues and it also contains for which ticket ID the replacement happened"
   ]
  },
  {
   "cell_type": "code",
   "execution_count": 13,
   "metadata": {},
   "outputs": [
    {
     "data": {
      "application/vnd.jupyter.widget-view+json": {
       "model_id": "",
       "version_major": 2,
       "version_minor": 0
      },
      "text/plain": [
       "FloatProgress(value=0.0, bar_style='info', description='Progress:', layout=Layout(height='25px', width='50%'),…"
      ]
     },
     "metadata": {},
     "output_type": "display_data"
    }
   ],
   "source": [
    "path_cpe_replacement1 = \"hdfs://nameservicedev1//user/dt_srajan/predictive_care/replacement/cpe_replacement.csv\"\n",
    "df_cpe_replacement1 = spark.read.option(\"encoding\", \"ISO-8859-1\").option(\"inferSchema\", \"true\").csv(path_cpe_replacement1,header = True,sep=\";\")\n"
   ]
  },
  {
   "cell_type": "code",
   "execution_count": 14,
   "metadata": {},
   "outputs": [
    {
     "data": {
      "application/vnd.jupyter.widget-view+json": {
       "model_id": "",
       "version_major": 2,
       "version_minor": 0
      },
      "text/plain": [
       "FloatProgress(value=0.0, bar_style='info', description='Progress:', layout=Layout(height='25px', width='50%'),…"
      ]
     },
     "metadata": {},
     "output_type": "display_data"
    }
   ],
   "source": [
    "# New CPE replacament data for Jan to May 2020, Jan to July 2021"
   ]
  },
  {
   "cell_type": "code",
   "execution_count": 15,
   "metadata": {},
   "outputs": [
    {
     "data": {
      "application/vnd.jupyter.widget-view+json": {
       "model_id": "",
       "version_major": 2,
       "version_minor": 0
      },
      "text/plain": [
       "FloatProgress(value=0.0, bar_style='info', description='Progress:', layout=Layout(height='25px', width='50%'),…"
      ]
     },
     "metadata": {},
     "output_type": "display_data"
    }
   ],
   "source": [
    "path_cpe_replacement2 = \"hdfs://nameservicedev1//user/dt_srajan/predictive_care/replacement/replacement_new_data/CPE replacement_2020_01-06.csv\"\n",
    "df_cpe_replacement2 = spark.read.option(\"encoding\", \"ISO-8859-1\").option(\"inferSchema\", \"true\").csv(path_cpe_replacement2,header = True,sep=\";\")\n"
   ]
  },
  {
   "cell_type": "code",
   "execution_count": 16,
   "metadata": {},
   "outputs": [
    {
     "data": {
      "application/vnd.jupyter.widget-view+json": {
       "model_id": "",
       "version_major": 2,
       "version_minor": 0
      },
      "text/plain": [
       "FloatProgress(value=0.0, bar_style='info', description='Progress:', layout=Layout(height='25px', width='50%'),…"
      ]
     },
     "metadata": {},
     "output_type": "display_data"
    }
   ],
   "source": [
    "path_cpe_replacement3 = \"hdfs://nameservicedev1//user/dt_srajan/predictive_care/replacement/replacement_new_data/CPE replacement_2021_01-07.csv\"\n",
    "df_cpe_replacement3 = spark.read.option(\"encoding\", \"ISO-8859-1\").option(\"inferSchema\", \"true\").csv(path_cpe_replacement3,header = True,sep=\";\")\n",
    "df_cpe_replacement3 = df_cpe_replacement3.filter((df_cpe_replacement3.Month == 1) | (df_cpe_replacement3.Month == 2) | (df_cpe_replacement3.Month == 3) | (df_cpe_replacement3.Month == 4))"
   ]
  },
  {
   "cell_type": "code",
   "execution_count": 17,
   "metadata": {},
   "outputs": [
    {
     "data": {
      "application/vnd.jupyter.widget-view+json": {
       "model_id": "",
       "version_major": 2,
       "version_minor": 0
      },
      "text/plain": [
       "FloatProgress(value=0.0, bar_style='info', description='Progress:', layout=Layout(height='25px', width='50%'),…"
      ]
     },
     "metadata": {},
     "output_type": "display_data"
    }
   ],
   "source": [
    "df_cpe_replacement1 = df_cpe_replacement1.select('TICKET_ID','ASSET_ID', 'CPE_SERIAL_NUMBER')\n",
    "df_cpe_replacement2 = df_cpe_replacement2.select('TICKET_ID','ASSET_ID', 'CPE_SERIAL_NUMBER')\n",
    "df_cpe_replacement3 = df_cpe_replacement3.select('TICKET_ID','ASSET_ID', 'CPE_SERIAL_NUMBER')"
   ]
  },
  {
   "cell_type": "code",
   "execution_count": 18,
   "metadata": {},
   "outputs": [
    {
     "data": {
      "application/vnd.jupyter.widget-view+json": {
       "model_id": "",
       "version_major": 2,
       "version_minor": 0
      },
      "text/plain": [
       "FloatProgress(value=0.0, bar_style='info', description='Progress:', layout=Layout(height='25px', width='50%'),…"
      ]
     },
     "metadata": {},
     "output_type": "display_data"
    },
    {
     "name": "stdout",
     "output_type": "stream",
     "text": [
      "65522"
     ]
    }
   ],
   "source": [
    "df_cpe_replacement1.count()"
   ]
  },
  {
   "cell_type": "code",
   "execution_count": 19,
   "metadata": {},
   "outputs": [
    {
     "data": {
      "application/vnd.jupyter.widget-view+json": {
       "model_id": "",
       "version_major": 2,
       "version_minor": 0
      },
      "text/plain": [
       "FloatProgress(value=0.0, bar_style='info', description='Progress:', layout=Layout(height='25px', width='50%'),…"
      ]
     },
     "metadata": {},
     "output_type": "display_data"
    },
    {
     "name": "stdout",
     "output_type": "stream",
     "text": [
      "20265"
     ]
    }
   ],
   "source": [
    "df_cpe_replacement2.count()"
   ]
  },
  {
   "cell_type": "code",
   "execution_count": 20,
   "metadata": {},
   "outputs": [
    {
     "data": {
      "application/vnd.jupyter.widget-view+json": {
       "model_id": "",
       "version_major": 2,
       "version_minor": 0
      },
      "text/plain": [
       "FloatProgress(value=0.0, bar_style='info', description='Progress:', layout=Layout(height='25px', width='50%'),…"
      ]
     },
     "metadata": {},
     "output_type": "display_data"
    },
    {
     "name": "stdout",
     "output_type": "stream",
     "text": [
      "23633"
     ]
    }
   ],
   "source": [
    "df_cpe_replacement3.count()"
   ]
  },
  {
   "cell_type": "code",
   "execution_count": 21,
   "metadata": {},
   "outputs": [
    {
     "data": {
      "application/vnd.jupyter.widget-view+json": {
       "model_id": "",
       "version_major": 2,
       "version_minor": 0
      },
      "text/plain": [
       "FloatProgress(value=0.0, bar_style='info', description='Progress:', layout=Layout(height='25px', width='50%'),…"
      ]
     },
     "metadata": {},
     "output_type": "display_data"
    }
   ],
   "source": [
    "df_cpe_replacement = df_cpe_replacement1.union(df_cpe_replacement2).union(df_cpe_replacement3)"
   ]
  },
  {
   "cell_type": "code",
   "execution_count": 22,
   "metadata": {},
   "outputs": [
    {
     "data": {
      "application/vnd.jupyter.widget-view+json": {
       "model_id": "",
       "version_major": 2,
       "version_minor": 0
      },
      "text/plain": [
       "FloatProgress(value=0.0, bar_style='info', description='Progress:', layout=Layout(height='25px', width='50%'),…"
      ]
     },
     "metadata": {},
     "output_type": "display_data"
    },
    {
     "name": "stdout",
     "output_type": "stream",
     "text": [
      "109420"
     ]
    }
   ],
   "source": [
    "df_cpe_replacement.count()"
   ]
  },
  {
   "cell_type": "code",
   "execution_count": 24,
   "metadata": {},
   "outputs": [
    {
     "data": {
      "application/vnd.jupyter.widget-view+json": {
       "model_id": "",
       "version_major": 2,
       "version_minor": 0
      },
      "text/plain": [
       "FloatProgress(value=0.0, bar_style='info', description='Progress:', layout=Layout(height='25px', width='50%'),…"
      ]
     },
     "metadata": {},
     "output_type": "display_data"
    },
    {
     "name": "stdout",
     "output_type": "stream",
     "text": [
      "109420"
     ]
    }
   ],
   "source": [
    "65522 + 20265 + 23633"
   ]
  },
  {
   "cell_type": "code",
   "execution_count": 25,
   "metadata": {},
   "outputs": [
    {
     "data": {
      "application/vnd.jupyter.widget-view+json": {
       "model_id": "",
       "version_major": 2,
       "version_minor": 0
      },
      "text/plain": [
       "FloatProgress(value=0.0, bar_style='info', description='Progress:', layout=Layout(height='25px', width='50%'),…"
      ]
     },
     "metadata": {},
     "output_type": "display_data"
    }
   ],
   "source": [
    "df_cpe_replacement = df_cpe_replacement.dropDuplicates()"
   ]
  },
  {
   "cell_type": "code",
   "execution_count": 26,
   "metadata": {},
   "outputs": [
    {
     "data": {
      "application/vnd.jupyter.widget-view+json": {
       "model_id": "",
       "version_major": 2,
       "version_minor": 0
      },
      "text/plain": [
       "FloatProgress(value=0.0, bar_style='info', description='Progress:', layout=Layout(height='25px', width='50%'),…"
      ]
     },
     "metadata": {},
     "output_type": "display_data"
    },
    {
     "name": "stdout",
     "output_type": "stream",
     "text": [
      "109237"
     ]
    }
   ],
   "source": [
    "df_cpe_replacement.count()"
   ]
  },
  {
   "cell_type": "code",
   "execution_count": 27,
   "metadata": {},
   "outputs": [
    {
     "data": {
      "application/vnd.jupyter.widget-view+json": {
       "model_id": "",
       "version_major": 2,
       "version_minor": 0
      },
      "text/plain": [
       "FloatProgress(value=0.0, bar_style='info', description='Progress:', layout=Layout(height='25px', width='50%'),…"
      ]
     },
     "metadata": {},
     "output_type": "display_data"
    },
    {
     "name": "stdout",
     "output_type": "stream",
     "text": [
      "root\n",
      " |-- TICKET_ID: integer (nullable = true)\n",
      " |-- ASSET_ID: integer (nullable = true)\n",
      " |-- CPE_SERIAL_NUMBER: string (nullable = true)"
     ]
    }
   ],
   "source": [
    "df_cpe_replacement.printSchema()"
   ]
  },
  {
   "cell_type": "markdown",
   "metadata": {},
   "source": [
    "# 4. Tickets data <a class=\"anchor\" id=\"chapter4\"></a>\n"
   ]
  },
  {
   "cell_type": "markdown",
   "metadata": {},
   "source": [
    "Let's load the `Tickets dataset`."
   ]
  },
  {
   "cell_type": "markdown",
   "metadata": {},
   "source": [
    "The tickets are divided in two files then we are going to loaded individualy"
   ]
  },
  {
   "cell_type": "code",
   "execution_count": 28,
   "metadata": {
    "scrolled": true
   },
   "outputs": [
    {
     "data": {
      "application/vnd.jupyter.widget-view+json": {
       "model_id": "",
       "version_major": 2,
       "version_minor": 0
      },
      "text/plain": [
       "FloatProgress(value=0.0, bar_style='info', description='Progress:', layout=Layout(height='25px', width='50%'),…"
      ]
     },
     "metadata": {},
     "output_type": "display_data"
    }
   ],
   "source": [
    "path_tickets_1 = \"hdfs://nameservicedev1//user/dt_srajan/predictive_care/tickets/Smetnje_0107-1510_2020.csv\"\n",
    "df_tickets_1 = spark.read.option(\"encoding\", \"ISO-8859-1\").option(\"inferSchema\", \"true\").csv(path_tickets_1,header = True,sep=\";\")\n",
    "df_tickets_1 = df_tickets_1.select('TICKET_ID','START_DATE_TIME_DONAT','ASSET_ID','Uzrok_smetnje')\n",
    "\n",
    "path_tickets_2 = \"hdfs://nameservicedev1//user/dt_srajan/predictive_care/tickets/FAULTS_E2E_01102020-31122020.csv\"\n",
    "df_tickets_2 = spark.read.option(\"encoding\", \"ISO-8859-1\").option(\"inferSchema\", \"true\").csv(path_tickets_2,header = True,sep=\";\")\n",
    "df_tickets_2 = df_tickets_2.select('TICKET_ID','START_DATE_TIME_DONAT','ASSET_ID','Uzrok_smetnje')\n",
    "\n",
    "path_tickets_3 = \"hdfs://nameservicedev1//user/dt_srajan/predictive_care/tickets/FAULTS_01012020-30062020.csv\"\n",
    "df_tickets_3 = spark.read.option(\"encoding\", \"ISO-8859-1\").option(\"inferSchema\", \"true\").csv(path_tickets_3,header = True,sep=\";\")\n",
    "df_tickets_3 = df_tickets_3.select('TICKET_ID','START_DATE_TIME_DONAT','ASSET_ID','Uzrok_smetnje')\n",
    "\n",
    "path_tickets_4 = \"hdfs://nameservicedev1//user/dt_srajan/predictive_care/tickets/FAULTS_01012021-30042021.csv\"\n",
    "df_tickets_4 = spark.read.option(\"encoding\", \"ISO-8859-1\").option(\"inferSchema\", \"true\").csv(path_tickets_4,header = True,sep=\";\")\n",
    "df_tickets_4 = df_tickets_4.select('TICKET_ID','START_DATE_TIME_DONAT','ASSET_ID','Uzrok_smetnje')\n"
   ]
  },
  {
   "cell_type": "markdown",
   "metadata": {},
   "source": [
    "Now we can ajust the timestamp."
   ]
  },
  {
   "cell_type": "code",
   "execution_count": 29,
   "metadata": {},
   "outputs": [
    {
     "data": {
      "application/vnd.jupyter.widget-view+json": {
       "model_id": "",
       "version_major": 2,
       "version_minor": 0
      },
      "text/plain": [
       "FloatProgress(value=0.0, bar_style='info', description='Progress:', layout=Layout(height='25px', width='50%'),…"
      ]
     },
     "metadata": {},
     "output_type": "display_data"
    },
    {
     "name": "stdout",
     "output_type": "stream",
     "text": [
      "+---------+---------------------+---------+--------------------+-------------------+\n",
      "|TICKET_ID|START_DATE_TIME_DONAT| ASSET_ID|       Uzrok_smetnje|  START_DATE_TICKET|\n",
      "+---------+---------------------+---------+--------------------+-------------------+\n",
      "| 45450341|  2020-07-01T00:18:32| 77725692|Neispravna oprema...|2020-07-01 00:18:32|\n",
      "| 45450966|  2020-07-01T06:13:03| 93950417|Neispravna oprema...|2020-07-01 06:13:03|\n",
      "| 45450975|  2020-07-01T06:23:56| 84248683|           Nepoznato|2020-07-01 06:23:56|\n",
      "| 45451012|  2020-07-01T07:16:33| 46489303|Neispravna oprema...|2020-07-01 07:16:33|\n",
      "| 45451016|  2020-07-01T07:21:50|110578838|Neispravna oprema...|2020-07-01 07:21:50|\n",
      "+---------+---------------------+---------+--------------------+-------------------+\n",
      "only showing top 5 rows"
     ]
    }
   ],
   "source": [
    "df_tickets_1 = df_tickets_1.select('TICKET_ID','START_DATE_TIME_DONAT','ASSET_ID','Uzrok_smetnje')\n",
    "df_tickets_1 = df_tickets_1.withColumn('START_DATE_TICKET',F.unix_timestamp('START_DATE_TIME_DONAT', \"yyyy-MM-dd'T'HH:mm:ss\").cast(types.TimestampType()))\n",
    "df_tickets_1 = df_tickets_1.withColumn('START_DATE_TICKET',F.date_format(F.col(\"START_DATE_TICKET\"), \"yyy-MM-dd HH:mm:ss\"))\n",
    "df_tickets_1.show(5)"
   ]
  },
  {
   "cell_type": "code",
   "execution_count": 30,
   "metadata": {},
   "outputs": [
    {
     "data": {
      "application/vnd.jupyter.widget-view+json": {
       "model_id": "",
       "version_major": 2,
       "version_minor": 0
      },
      "text/plain": [
       "FloatProgress(value=0.0, bar_style='info', description='Progress:', layout=Layout(height='25px', width='50%'),…"
      ]
     },
     "metadata": {},
     "output_type": "display_data"
    },
    {
     "name": "stdout",
     "output_type": "stream",
     "text": [
      "+---------+---------------------+---------+--------------------+-------------------+\n",
      "|TICKET_ID|START_DATE_TIME_DONAT| ASSET_ID|       Uzrok_smetnje|  START_DATE_TICKET|\n",
      "+---------+---------------------+---------+--------------------+-------------------+\n",
      "| 45910206|  2020-10-01 00:52:52| 44780554|      Grmljavina - 7|2020-10-01 00:52:52|\n",
      "| 45912033|  2020-10-01 06:46:19|104882889|Neispravna oprema...|2020-10-01 06:46:19|\n",
      "| 45912181|  2020-10-01 07:42:24| 47060490|        Blokada - 39|2020-10-01 07:42:24|\n",
      "| 45912199|  2020-10-01 07:44:49| 67918605|      Grmljavina - 7|2020-10-01 07:44:49|\n",
      "| 45912247|  2020-10-01 08:03:04| 45621657|      Grmljavina - 7|2020-10-01 08:03:04|\n",
      "+---------+---------------------+---------+--------------------+-------------------+\n",
      "only showing top 5 rows"
     ]
    }
   ],
   "source": [
    "df_tickets_2 = df_tickets_2.select('TICKET_ID','START_DATE_TIME_DONAT','ASSET_ID','Uzrok_smetnje')\n",
    "df_tickets_2 = df_tickets_2.withColumn('START_DATE_TICKET',F.unix_timestamp('START_DATE_TIME_DONAT', \"yyyy-MM-dd HH:mm:ss\").cast(types.TimestampType()))\n",
    "df_tickets_2 = df_tickets_2.withColumn('START_DATE_TICKET',F.date_format(F.col(\"START_DATE_TICKET\"), \"yyy-MM-dd HH:mm:ss\"))\n",
    "df_tickets_2.show(5)"
   ]
  },
  {
   "cell_type": "code",
   "execution_count": 31,
   "metadata": {},
   "outputs": [
    {
     "data": {
      "application/vnd.jupyter.widget-view+json": {
       "model_id": "",
       "version_major": 2,
       "version_minor": 0
      },
      "text/plain": [
       "FloatProgress(value=0.0, bar_style='info', description='Progress:', layout=Layout(height='25px', width='50%'),…"
      ]
     },
     "metadata": {},
     "output_type": "display_data"
    },
    {
     "name": "stdout",
     "output_type": "stream",
     "text": [
      "+---------+---------------------+---------+--------------------+-------------------+\n",
      "|TICKET_ID|START_DATE_TIME_DONAT| ASSET_ID|       Uzrok_smetnje|  START_DATE_TICKET|\n",
      "+---------+---------------------+---------+--------------------+-------------------+\n",
      "| 44533445|  2020-01-01T08:38:03| 80381835|Prekid; odvod; kr...|2020-01-01 08:38:03|\n",
      "| 44533446|  2020-01-01T08:41:15| 44873887|Neispravna oprema...|2020-01-01 08:41:15|\n",
      "| 44533451|  2020-01-01T08:54:18| 63048511|Neispravna oprema...|2020-01-01 08:54:18|\n",
      "| 44533452|  2020-01-01T08:56:10|103753032|Neispravna oprema...|2020-01-01 08:56:10|\n",
      "| 44533457|  2020-01-01T09:03:49| 62359651|Neispravna oprema...|2020-01-01 09:03:49|\n",
      "+---------+---------------------+---------+--------------------+-------------------+\n",
      "only showing top 5 rows"
     ]
    }
   ],
   "source": [
    "df_tickets_3 = df_tickets_3.select('TICKET_ID','START_DATE_TIME_DONAT','ASSET_ID','Uzrok_smetnje')\n",
    "df_tickets_3 = df_tickets_3.withColumn('START_DATE_TICKET',F.unix_timestamp('START_DATE_TIME_DONAT', \"yyyy-MM-dd'T'HH:mm:ss\").cast(types.TimestampType()))\n",
    "df_tickets_3 = df_tickets_3.withColumn('START_DATE_TICKET',F.date_format(F.col(\"START_DATE_TICKET\"), \"yyy-MM-dd HH:mm:ss\"))\n",
    "df_tickets_3.show(5)"
   ]
  },
  {
   "cell_type": "code",
   "execution_count": 32,
   "metadata": {},
   "outputs": [
    {
     "data": {
      "application/vnd.jupyter.widget-view+json": {
       "model_id": "",
       "version_major": 2,
       "version_minor": 0
      },
      "text/plain": [
       "FloatProgress(value=0.0, bar_style='info', description='Progress:', layout=Layout(height='25px', width='50%'),…"
      ]
     },
     "metadata": {},
     "output_type": "display_data"
    },
    {
     "name": "stdout",
     "output_type": "stream",
     "text": [
      "+---------+---------------------+---------+--------------------+-------------------+\n",
      "|TICKET_ID|START_DATE_TIME_DONAT| ASSET_ID|       Uzrok_smetnje|  START_DATE_TICKET|\n",
      "+---------+---------------------+---------+--------------------+-------------------+\n",
      "| 46602934|  2021-01-01T01:15:38|104147316|Neispravna oprema...|2021-01-01 01:15:38|\n",
      "| 46603675|  2021-01-01T08:19:32| 80580807|     Dotrajalost - 1|2021-01-01 08:19:32|\n",
      "| 46603738|  2021-01-01T09:22:58| 53887615|Nije utvrðen uzro...|2021-01-01 09:22:58|\n",
      "| 46603822|  2021-01-01T10:41:08|101461236|     Oksidacija - 13|2021-01-01 10:41:08|\n",
      "| 46603829|  2021-01-01T10:45:18| 49508282|      Grmljavina - 7|2021-01-01 10:45:18|\n",
      "+---------+---------------------+---------+--------------------+-------------------+\n",
      "only showing top 5 rows"
     ]
    }
   ],
   "source": [
    "df_tickets_4 = df_tickets_4.select('TICKET_ID','START_DATE_TIME_DONAT','ASSET_ID','Uzrok_smetnje')\n",
    "df_tickets_4 = df_tickets_4.withColumn('START_DATE_TICKET',F.unix_timestamp('START_DATE_TIME_DONAT', \"yyyy-MM-dd'T'HH:mm:ss\").cast(types.TimestampType()))\n",
    "df_tickets_4 = df_tickets_4.withColumn('START_DATE_TICKET',F.date_format(F.col(\"START_DATE_TICKET\"), \"yyy-MM-dd HH:mm:ss\"))\n",
    "df_tickets_4.show(5)"
   ]
  },
  {
   "cell_type": "markdown",
   "metadata": {},
   "source": [
    "Here we are going to join the 4 tickets dataset"
   ]
  },
  {
   "cell_type": "code",
   "execution_count": 33,
   "metadata": {},
   "outputs": [
    {
     "data": {
      "application/vnd.jupyter.widget-view+json": {
       "model_id": "",
       "version_major": 2,
       "version_minor": 0
      },
      "text/plain": [
       "FloatProgress(value=0.0, bar_style='info', description='Progress:', layout=Layout(height='25px', width='50%'),…"
      ]
     },
     "metadata": {},
     "output_type": "display_data"
    }
   ],
   "source": [
    "df_tickets = df_tickets_1.union(df_tickets_2)\n",
    "df_tickets = df_tickets.union(df_tickets_3)\n",
    "df_tickets = df_tickets.union(df_tickets_4)\n",
    "df_tickets = df_tickets.dropDuplicates()\n",
    "df_tickets = df_tickets.withColumnRenamed('Uzrok_smetnje', 'TICKET_TENTATIVE_ROOT_CAUSE')\n",
    "df_tickets = df_tickets.drop('START_DATE_TIME_DONAT')"
   ]
  },
  {
   "cell_type": "code",
   "execution_count": 34,
   "metadata": {},
   "outputs": [
    {
     "data": {
      "application/vnd.jupyter.widget-view+json": {
       "model_id": "",
       "version_major": 2,
       "version_minor": 0
      },
      "text/plain": [
       "FloatProgress(value=0.0, bar_style='info', description='Progress:', layout=Layout(height='25px', width='50%'),…"
      ]
     },
     "metadata": {},
     "output_type": "display_data"
    },
    {
     "name": "stdout",
     "output_type": "stream",
     "text": [
      "658190"
     ]
    }
   ],
   "source": [
    "df_tickets.select('ASSET_ID').distinct().count()"
   ]
  },
  {
   "cell_type": "markdown",
   "metadata": {},
   "source": [
    "Let's check the time range of the available tickets"
   ]
  },
  {
   "cell_type": "code",
   "execution_count": 35,
   "metadata": {},
   "outputs": [
    {
     "data": {
      "application/vnd.jupyter.widget-view+json": {
       "model_id": "",
       "version_major": 2,
       "version_minor": 0
      },
      "text/plain": [
       "FloatProgress(value=0.0, bar_style='info', description='Progress:', layout=Layout(height='25px', width='50%'),…"
      ]
     },
     "metadata": {},
     "output_type": "display_data"
    },
    {
     "name": "stdout",
     "output_type": "stream",
     "text": [
      "+-------------------+\n",
      "|  START_DATE_TICKET|\n",
      "+-------------------+\n",
      "|            1250315|\n",
      "|               null|\n",
      "|               null|\n",
      "|2020-01-01 00:13:34|\n",
      "|2021-04-30 23:57:23|\n",
      "+-------------------+"
     ]
    }
   ],
   "source": [
    "df_tickets.describe().select('START_DATE_TICKET').show()"
   ]
  },
  {
   "cell_type": "markdown",
   "metadata": {},
   "source": [
    "Now the tickets is matching with the time range of `cpe replacement dataset`"
   ]
  },
  {
   "cell_type": "markdown",
   "metadata": {},
   "source": [
    "# 5. `CPE` refurbishment data <a class=\"anchor\" id=\"chapter5\"></a>"
   ]
  },
  {
   "cell_type": "markdown",
   "metadata": {},
   "source": [
    "Dictionary:\n",
    "\n",
    "* _ID_ - internal ID, not relevant\t\n",
    "* _Serijski_broj_ = CPE serial number, use to connect to the replacement dataset\t\n",
    "* _SAP_sifra_ = unique for the type of the CPE\t\n",
    "* _Model_opreme_ = Cpe type\n",
    "* _Garancija_ = warranty - yes / no / unknown / empty\t\n",
    "* _Iz_tablice_serijskih_brojeva_ = is it from ser. No. table\t\n",
    "* _Datum_kraja_garancije_ = end of warranty date\t\n",
    "* _Datum_ulaznog_skeniranja_ = entry scan date, when CPE came to refurbishment center, should be after fau*lt was closed\n",
    "* _Broj_ponovljenih_skeniranja_ = no. of repeated scans - CPE was more than once in the refurbishment center\t\n",
    "* _Potrebna_detaljna_analiza_ = not relevant\t\n",
    "* _Ulazno_skeniranje_obavio_ = who did the scanning\t\n",
    "* _Izvor_opreme_ = code of the warehouse\t\n",
    "* _Hardverski_osteceno_ = hardware damange / physically broken\t\n",
    "* Status_Tehnicara = status / what to do \t\n",
    "* _Status_tehnicara_odredio_\t\n",
    "* _Datum_statusa_tehnicara_ = date when status was entered\t\n",
    "* _Izlazno_skeniranje_obavio_ = scanned at the end\t\n",
    "* _Skladiste_izlaz_ = destination / where it went from here\t\n",
    "* _Datum_izlaznog_skeniranja_ = date of scanning when it went out of refurbishment center\t\n",
    "* _Vrsta_kvara_ = what was the issue with the CPE\n"
   ]
  },
  {
   "cell_type": "markdown",
   "metadata": {},
   "source": [
    "Let's load the data and take a look"
   ]
  },
  {
   "cell_type": "code",
   "execution_count": 36,
   "metadata": {},
   "outputs": [
    {
     "data": {
      "application/vnd.jupyter.widget-view+json": {
       "model_id": "",
       "version_major": 2,
       "version_minor": 0
      },
      "text/plain": [
       "FloatProgress(value=0.0, bar_style='info', description='Progress:', layout=Layout(height='25px', width='50%'),…"
      ]
     },
     "metadata": {},
     "output_type": "display_data"
    },
    {
     "name": "stdout",
     "output_type": "stream",
     "text": [
      "-RECORD 0---------------------------------------------------------------\n",
      " Datum_ulaznog_skeniranja    | 14/01/2020                               \n",
      " Izvor_opreme                | XI03                                     \n",
      " Serijski_broj               | j835bh004425                             \n",
      " SAP_sifra                   | 3410023305                               \n",
      " Model_opreme                | MAX WLAN Speedport Plus Sercomm          \n",
      " Datum_kraja_garancije       | 07/11/2020                               \n",
      " Broj_ponovljenih_skeniranja | 0                                        \n",
      " Hardverski_osteceno         | null                                     \n",
      " Datum_statusa_tehnicara     | 14/01/2020                               \n",
      " Status_Tehnicara            | Otpis                                    \n",
      " Vrsta kvara                 | Manje fiziÄko ili toplinsko oÅ¡teÄenje \n",
      " Datum_izlaznog_skeniranja   | 14/01/2020                               \n",
      " Skladiste_izlaz             | Centralno skladiÅ¡te-pogon 302 (otpis)   \n",
      " Tip opreme                  | HSIAD Speedport"
     ]
    }
   ],
   "source": [
    "path_cpe_refurbishment = \"hdfs://nameservicedev1//user/dt_srajan/predictive_care/replacement/CPE_refurbishment_2020_2021.csv\"\n",
    "df_cpe_refurbishment = spark.read.option(\"encoding\", \"ISO-8859-1\").option(\"inferSchema\", \"true\").csv(path_cpe_refurbishment,header = True,sep=\",\")\n",
    "df_cpe_refurbishment.limit(1).show(200,truncate=False, vertical=True)"
   ]
  },
  {
   "cell_type": "code",
   "execution_count": 37,
   "metadata": {},
   "outputs": [
    {
     "data": {
      "application/vnd.jupyter.widget-view+json": {
       "model_id": "",
       "version_major": 2,
       "version_minor": 0
      },
      "text/plain": [
       "FloatProgress(value=0.0, bar_style='info', description='Progress:', layout=Layout(height='25px', width='50%'),…"
      ]
     },
     "metadata": {},
     "output_type": "display_data"
    }
   ],
   "source": [
    "from pyspark.sql.types import *\n",
    "\n",
    "df_cpe_refurbishment = df_cpe_refurbishment.withColumn('DATE_SCAN_END',F.when(F.unix_timestamp('Datum_izlaznog_skeniranja', \"dd/MM/yyyy\").cast(TimestampType()).isNotNull (),\\\n",
    "                                                                      F.unix_timestamp('Datum_izlaznog_skeniranja', \"dd/MM/yyyy\").cast(TimestampType()))\\\n",
    "                                                                .otherwise(None))\\\n",
    "                                            .withColumn('DATE_SCAN_START',F.when(F.unix_timestamp('Datum_ulaznog_skeniranja', \"dd/MM/yyyy\").cast(TimestampType()).isNotNull (),\\\n",
    "                                                                      F.unix_timestamp('Datum_ulaznog_skeniranja', \"dd/MM/yyyy\").cast(TimestampType()))\\\n",
    "                                                                .otherwise(None))\n",
    "\n",
    "df_cpe_refurbishment = df_cpe_refurbishment.withColumn('DATE_SCAN_END',F.date_format(F.col(\"DATE_SCAN_END\"), \"yyyy-MM-dd HH:mm:ss\"))\\\n",
    "                                            .withColumn('DATE_SCAN_START',F.date_format(F.col(\"DATE_SCAN_START\"), \"yyyy-MM-dd HH:mm:ss\"))\n",
    "\n",
    "df_cpe_refurbishment = df_cpe_refurbishment.withColumnRenamed('Vrsta kvara', 'Vrsta_kvara')"
   ]
  },
  {
   "cell_type": "code",
   "execution_count": 38,
   "metadata": {},
   "outputs": [
    {
     "data": {
      "application/vnd.jupyter.widget-view+json": {
       "model_id": "",
       "version_major": 2,
       "version_minor": 0
      },
      "text/plain": [
       "FloatProgress(value=0.0, bar_style='info', description='Progress:', layout=Layout(height='25px', width='50%'),…"
      ]
     },
     "metadata": {},
     "output_type": "display_data"
    },
    {
     "name": "stdout",
     "output_type": "stream",
     "text": [
      "-RECORD 0----------------------------------------\n",
      " Datum_ulaznog_skeniranja  | 14/01/2020          \n",
      " DATE_SCAN_START           | 2020-01-14 00:00:00 \n",
      " Datum_izlaznog_skeniranja | 14/01/2020          \n",
      " DATE_SCAN_END             | 2020-01-14 00:00:00 \n",
      "-RECORD 1----------------------------------------\n",
      " Datum_ulaznog_skeniranja  | 14/01/2020          \n",
      " DATE_SCAN_START           | 2020-01-14 00:00:00 \n",
      " Datum_izlaznog_skeniranja | 14/01/2020          \n",
      " DATE_SCAN_END             | 2020-01-14 00:00:00 \n",
      "-RECORD 2----------------------------------------\n",
      " Datum_ulaznog_skeniranja  | 14/01/2020          \n",
      " DATE_SCAN_START           | 2020-01-14 00:00:00 \n",
      " Datum_izlaznog_skeniranja | 14/01/2020          \n",
      " DATE_SCAN_END             | 2020-01-14 00:00:00"
     ]
    }
   ],
   "source": [
    "df_cpe_refurbishment.select('Datum_ulaznog_skeniranja','DATE_SCAN_START', \"Datum_izlaznog_skeniranja\", \"DATE_SCAN_END\").limit(3).show(200,truncate=False, vertical=True)"
   ]
  },
  {
   "cell_type": "code",
   "execution_count": 39,
   "metadata": {},
   "outputs": [
    {
     "data": {
      "application/vnd.jupyter.widget-view+json": {
       "model_id": "",
       "version_major": 2,
       "version_minor": 0
      },
      "text/plain": [
       "FloatProgress(value=0.0, bar_style='info', description='Progress:', layout=Layout(height='25px', width='50%'),…"
      ]
     },
     "metadata": {},
     "output_type": "display_data"
    },
    {
     "name": "stdout",
     "output_type": "stream",
     "text": [
      "+-------+-------------------+-------------------+\n",
      "|summary|    DATE_SCAN_START|      DATE_SCAN_END|\n",
      "+-------+-------------------+-------------------+\n",
      "|  count|              90920|              90920|\n",
      "|   mean|               null|               null|\n",
      "| stddev|               null|               null|\n",
      "|    min|2020-01-02 00:00:00|2020-01-14 00:00:00|\n",
      "|    max|2021-04-23 00:00:00|2021-04-30 00:00:00|\n",
      "+-------+-------------------+-------------------+"
     ]
    }
   ],
   "source": [
    "df_cpe_refurbishment.select('DATE_SCAN_START',  \"DATE_SCAN_END\").describe().show()"
   ]
  },
  {
   "cell_type": "code",
   "execution_count": 40,
   "metadata": {},
   "outputs": [
    {
     "data": {
      "application/vnd.jupyter.widget-view+json": {
       "model_id": "",
       "version_major": 2,
       "version_minor": 0
      },
      "text/plain": [
       "FloatProgress(value=0.0, bar_style='info', description='Progress:', layout=Layout(height='25px', width='50%'),…"
      ]
     },
     "metadata": {},
     "output_type": "display_data"
    },
    {
     "name": "stdout",
     "output_type": "stream",
     "text": [
      "'path_cpe_refurbishment = \"hdfs://nameservicedev1//user/dt_srajan/predictive_care/replacement/cpe_refurbishment.csv\"\\ndf_cpe_refurbishment = spark.read.option(\"encoding\", \"ISO-8859-1\").option(\"inferSchema\", \"true\").csv(path_cpe_refurbishment,header = True,sep=\";\")\\ndf_cpe_refurbishment.limit(1).show(200,truncate=False, vertical=True)\\n\\ndf_cpe_refurbishment = df_cpe_refurbishment.withColumn(\\'DATE_SCAN_END\\',F.when(F.unix_timestamp(\\'Datum_izlaznog_skeniranja\\', \"dd.MM.yyyy HH:mm\").cast(TimestampType()).isNotNull (),                                                                      F.unix_timestamp(\\'Datum_izlaznog_skeniranja\\', \"dd.MM.yyyy HH:mm\").cast(TimestampType()))                                                                .otherwise(None))                                            .withColumn(\\'DATE_SCAN_START\\',F.when(F.unix_timestamp(\\'Datum_ulaznog_skeniranja\\', \"dd.MM.yyyy HH:mm\").cast(TimestampType()).isNotNull (),                                                                      F.unix_timestamp(\\'Datum_ulaznog_skeniranja\\', \"dd.MM.yyyy HH:mm\").cast(TimestampType()))                                                                .otherwise(None))\\n\\ndf_cpe_refurbishment = df_cpe_refurbishment.withColumn(\\'DATE_SCAN_END\\',F.date_format(F.col(\"DATE_SCAN_END\"), \"yyyy-MM-dd HH:mm:ss\"))                                            .withColumn(\\'DATE_SCAN_START\\',F.date_format(F.col(\"DATE_SCAN_START\"), \"yyyy-MM-dd HH:mm:ss\"))\\n\\ndf_cpe_refurbishment.select(\\'Datum_ulaznog_skeniranja\\',\\'DATE_SCAN_START\\', \"Datum_izlaznog_skeniranja\", \"DATE_SCAN_END\").limit(3).show(200,truncate=False, vertical=True)\\n\\ndf_cpe_refurbishment.select(\\'DATE_SCAN_START\\',  \"DATE_SCAN_END\").describe().show()'"
     ]
    }
   ],
   "source": [
    "# Old refurbishment data \n",
    "\"\"\"path_cpe_refurbishment = \"hdfs://nameservicedev1//user/dt_srajan/predictive_care/replacement/cpe_refurbishment.csv\"\n",
    "df_cpe_refurbishment = spark.read.option(\"encoding\", \"ISO-8859-1\").option(\"inferSchema\", \"true\").csv(path_cpe_refurbishment,header = True,sep=\";\")\n",
    "df_cpe_refurbishment.limit(1).show(200,truncate=False, vertical=True)\n",
    "\n",
    "df_cpe_refurbishment = df_cpe_refurbishment.withColumn('DATE_SCAN_END',F.when(F.unix_timestamp('Datum_izlaznog_skeniranja', \"dd.MM.yyyy HH:mm\").cast(TimestampType()).isNotNull (),\\\n",
    "                                                                      F.unix_timestamp('Datum_izlaznog_skeniranja', \"dd.MM.yyyy HH:mm\").cast(TimestampType()))\\\n",
    "                                                                .otherwise(None))\\\n",
    "                                            .withColumn('DATE_SCAN_START',F.when(F.unix_timestamp('Datum_ulaznog_skeniranja', \"dd.MM.yyyy HH:mm\").cast(TimestampType()).isNotNull (),\\\n",
    "                                                                      F.unix_timestamp('Datum_ulaznog_skeniranja', \"dd.MM.yyyy HH:mm\").cast(TimestampType()))\\\n",
    "                                                                .otherwise(None))\n",
    "\n",
    "df_cpe_refurbishment = df_cpe_refurbishment.withColumn('DATE_SCAN_END',F.date_format(F.col(\"DATE_SCAN_END\"), \"yyyy-MM-dd HH:mm:ss\"))\\\n",
    "                                            .withColumn('DATE_SCAN_START',F.date_format(F.col(\"DATE_SCAN_START\"), \"yyyy-MM-dd HH:mm:ss\"))\n",
    "\n",
    "df_cpe_refurbishment.select('Datum_ulaznog_skeniranja','DATE_SCAN_START', \"Datum_izlaznog_skeniranja\", \"DATE_SCAN_END\").limit(3).show(200,truncate=False, vertical=True)\n",
    "\n",
    "df_cpe_refurbishment.select('DATE_SCAN_START',  \"DATE_SCAN_END\").describe().show()\"\"\""
   ]
  },
  {
   "cell_type": "markdown",
   "metadata": {},
   "source": [
    "Let's filter where issue type is NULL"
   ]
  },
  {
   "cell_type": "code",
   "execution_count": 41,
   "metadata": {},
   "outputs": [
    {
     "data": {
      "application/vnd.jupyter.widget-view+json": {
       "model_id": "",
       "version_major": 2,
       "version_minor": 0
      },
      "text/plain": [
       "FloatProgress(value=0.0, bar_style='info', description='Progress:', layout=Layout(height='25px', width='50%'),…"
      ]
     },
     "metadata": {},
     "output_type": "display_data"
    }
   ],
   "source": [
    "df_cpe_refurbishment = df_cpe_refurbishment.filter(df_cpe_refurbishment.Vrsta_kvara != 'NULL')\n"
   ]
  },
  {
   "cell_type": "markdown",
   "metadata": {},
   "source": [
    "Lets translate the issue_type to english"
   ]
  },
  {
   "cell_type": "code",
   "execution_count": 42,
   "metadata": {},
   "outputs": [
    {
     "data": {
      "application/vnd.jupyter.widget-view+json": {
       "model_id": "",
       "version_major": 2,
       "version_minor": 0
      },
      "text/plain": [
       "FloatProgress(value=0.0, bar_style='info', description='Progress:', layout=Layout(height='25px', width='50%'),…"
      ]
     },
     "metadata": {},
     "output_type": "display_data"
    }
   ],
   "source": [
    "df_cpe_refurbishment = df_cpe_refurbishment.withColumn('Vrsta_kvara', F.regexp_replace('Vrsta_kvara', 'Napajanje', 'power_supply')) \\\n",
    "     .withColumn('Vrsta_kvara', F.regexp_replace('Vrsta_kvara', 'ZnaÄajno fiziÄko oÅ¡teÄenje - nepopravljivo', 'significant_physical_damage_irreparable')) \\\n",
    "     .withColumn('Vrsta_kvara', F.regexp_replace('Vrsta_kvara', 'Ne prijavljuje se u ACS', 'does_not_log_into_acs')) \\\n",
    "     .withColumn('Vrsta_kvara', F.regexp_replace('Vrsta_kvara', 'Reset ne radi', 'reset_not_work')) \\\n",
    "     .withColumn('Vrsta_kvara', F.regexp_replace('Vrsta_kvara', 'Manje fiziÄko ili toplinsko oÅ¡teÄenje', 'minor_physical_thermal_damage')) \\\n",
    "     .withColumn('Vrsta_kvara', F.regexp_replace('Vrsta_kvara', 'Ispravan', 'no_problem')) \\\n",
    "     .withColumn('Vrsta_kvara', F.regexp_replace('Vrsta_kvara', 'OptiÄki port', 'optical_port')) \\\n",
    "     .withColumn('Vrsta_kvara', F.regexp_replace('Vrsta_kvara', 'SIM utor', 'sim_slot')) \\\n",
    "     .withColumn('Vrsta_kvara', F.regexp_replace('Vrsta_kvara', 'WIFI', 'wifi')) \\\n",
    "     .withColumn('Vrsta_kvara', F.regexp_replace('Vrsta_kvara', 'Blokiran', 'blocked')) \\\n",
    "     .withColumn('Vrsta_kvara', F.regexp_replace('Vrsta_kvara', 'Resetira se sam', 'reset_itself')) \\\n",
    "     .withColumn('Vrsta_kvara', F.regexp_replace('Vrsta_kvara', 'Internet ne radi', 'internet_not_working')) \\\n",
    "     .withColumn('Vrsta_kvara', F.regexp_replace('Vrsta_kvara', 'DSL port', 'dsl_port')) \\\n",
    "     .withColumn('Vrsta_kvara', F.regexp_replace('Vrsta_kvara', 'Pregrijavanje ureÄaja', 'device_overheating')) \\\n",
    "     .withColumn('Vrsta_kvara', F.regexp_replace('Vrsta_kvara', 'LAN port', 'lan_port')) \\\n",
    "     .withColumn('Vrsta_kvara', F.regexp_replace('Vrsta_kvara', 'Slaba brzina', 'poor_speed')) \\\n",
    "     .withColumn('Vrsta_kvara', F.regexp_replace('Vrsta_kvara', 'Telefon port', 'telefon_port')) \\\n",
    "     .withColumn('Vrsta_kvara', F.regexp_replace('Vrsta_kvara', 'Software', 'software'))"
   ]
  },
  {
   "cell_type": "code",
   "execution_count": 43,
   "metadata": {},
   "outputs": [
    {
     "data": {
      "application/vnd.jupyter.widget-view+json": {
       "model_id": "",
       "version_major": 2,
       "version_minor": 0
      },
      "text/plain": [
       "FloatProgress(value=0.0, bar_style='info', description='Progress:', layout=Layout(height='25px', width='50%'),…"
      ]
     },
     "metadata": {},
     "output_type": "display_data"
    },
    {
     "name": "stdout",
     "output_type": "stream",
     "text": [
      "+----------------------------------------------+\n",
      "|Vrsta_kvara                                   |\n",
      "+----------------------------------------------+\n",
      "|telefon_port/ internet_not_working            |\n",
      "|does_not_log_into_acs/ lan_port               |\n",
      "|no_problem                                    |\n",
      "|telefon_port/ lan_port                        |\n",
      "|minor_physical_thermal_damage                 |\n",
      "|telefon_port/ power_supply/ dsl_port          |\n",
      "|lan_port/ dsl_port                            |\n",
      "|reset_itself/ does_not_log_into_acs           |\n",
      "|reset_itself/ dsl_port                        |\n",
      "|wifi                                          |\n",
      "|does_not_log_into_acs                         |\n",
      "|minor_physical_thermal_damage/ lan_port       |\n",
      "|reset_itself/ power_supply                    |\n",
      "|device_overheating/ lan_port                  |\n",
      "|software                                      |\n",
      "|does_not_log_into_acs/ blocked                |\n",
      "|wifi/ telefon_port                            |\n",
      "|reset_not_work/ device_overheating            |\n",
      "|power_supply                                  |\n",
      "|power_supply/ lan_port                        |\n",
      "|dsl_port                                      |\n",
      "|device_overheating/ dsl_port                  |\n",
      "|power_supply/ lan_port/ dsl_port              |\n",
      "|lan_port                                      |\n",
      "|device_overheating                            |\n",
      "|reset_itself/ device_overheating              |\n",
      "|reset_itself/ reset_not_work/ dsl_port        |\n",
      "|telefon_port/ lan_port/ dsl_port              |\n",
      "|minor_physical_thermal_damage/ dsl_port       |\n",
      "|telefon_port/ dsl_port                        |\n",
      "|reset_itself/ reset_not_work                  |\n",
      "|poor_speed                                    |\n",
      "|device_overheating/ power_supply              |\n",
      "|internet_not_working                          |\n",
      "|internet_not_working/ dsl_port                |\n",
      "|software/ device_overheating                  |\n",
      "|telefon_port/ power_supply/ lan_port/ dsl_port|\n",
      "|power_supply/ dsl_port                        |\n",
      "|optical_port                                  |\n",
      "|significant_physical_damage_irreparable       |\n",
      "|telefon_port/ power_supply/ lan_port          |\n",
      "|reset_itself                                  |\n",
      "|telefon_port                                  |\n",
      "|wifi/ device_overheating                      |\n",
      "|telefon_port/ power_supply                    |\n",
      "|sim_slot                                      |\n",
      "|reset_not_work                                |\n",
      "|blocked                                       |\n",
      "|power_supply/ minor_physical_thermal_damage   |\n",
      "|wifi/ internet_not_working                    |\n",
      "+----------------------------------------------+"
     ]
    }
   ],
   "source": [
    "df_cpe_refurbishment.select('Vrsta_kvara').distinct().show(100, truncate=False)"
   ]
  },
  {
   "cell_type": "markdown",
   "metadata": {},
   "source": [
    "Finally, let's rename some columns, alter space in issues and select the columns of interest. "
   ]
  },
  {
   "cell_type": "code",
   "execution_count": 44,
   "metadata": {},
   "outputs": [
    {
     "data": {
      "application/vnd.jupyter.widget-view+json": {
       "model_id": "",
       "version_major": 2,
       "version_minor": 0
      },
      "text/plain": [
       "FloatProgress(value=0.0, bar_style='info', description='Progress:', layout=Layout(height='25px', width='50%'),…"
      ]
     },
     "metadata": {},
     "output_type": "display_data"
    }
   ],
   "source": [
    "df_cpe_refurbishment = df_cpe_refurbishment.withColumnRenamed('Vrsta_kvara', 'CPE_ISSUE')\\\n",
    "                                            .withColumnRenamed('Serijski_broj', 'CPE_SERIAL_NUMBER')\n",
    "                                            \n",
    "\n"
   ]
  },
  {
   "cell_type": "code",
   "execution_count": 45,
   "metadata": {},
   "outputs": [
    {
     "data": {
      "application/vnd.jupyter.widget-view+json": {
       "model_id": "",
       "version_major": 2,
       "version_minor": 0
      },
      "text/plain": [
       "FloatProgress(value=0.0, bar_style='info', description='Progress:', layout=Layout(height='25px', width='50%'),…"
      ]
     },
     "metadata": {},
     "output_type": "display_data"
    }
   ],
   "source": [
    "spaceDeleteUDF = F.udf(lambda s: s.replace(\"/ \", \"/\"), StringType())\n",
    "df_cpe_refurbishment = df_cpe_refurbishment.withColumn(\"CPE_ISSUE\", spaceDeleteUDF(\"CPE_ISSUE\"))"
   ]
  },
  {
   "cell_type": "code",
   "execution_count": 46,
   "metadata": {},
   "outputs": [
    {
     "data": {
      "application/vnd.jupyter.widget-view+json": {
       "model_id": "",
       "version_major": 2,
       "version_minor": 0
      },
      "text/plain": [
       "FloatProgress(value=0.0, bar_style='info', description='Progress:', layout=Layout(height='25px', width='50%'),…"
      ]
     },
     "metadata": {},
     "output_type": "display_data"
    },
    {
     "name": "stdout",
     "output_type": "stream",
     "text": [
      "-RECORD 0------------------------------------------\n",
      " CPE_SERIAL_NUMBER | j835bh004425                  \n",
      " DATE_SCAN_START   | 2020-01-14 00:00:00           \n",
      " DATE_SCAN_END     | 2020-01-14 00:00:00           \n",
      " CPE_ISSUE         | minor_physical_thermal_damage \n",
      "-RECORD 1------------------------------------------\n",
      " CPE_SERIAL_NUMBER | J833BH004104                  \n",
      " DATE_SCAN_START   | 2020-01-14 00:00:00           \n",
      " DATE_SCAN_END     | 2020-01-14 00:00:00           \n",
      " CPE_ISSUE         | minor_physical_thermal_damage \n",
      "-RECORD 2------------------------------------------\n",
      " CPE_SERIAL_NUMBER | J902BH013132                  \n",
      " DATE_SCAN_START   | 2020-01-14 00:00:00           \n",
      " DATE_SCAN_END     | 2020-01-14 00:00:00           \n",
      " CPE_ISSUE         | minor_physical_thermal_damage"
     ]
    }
   ],
   "source": [
    "df_cpe_refurbishment = df_cpe_refurbishment.select('CPE_SERIAL_NUMBER', 'DATE_SCAN_START','DATE_SCAN_END','CPE_ISSUE')\n",
    "df_cpe_refurbishment.limit(3).show(200,truncate=False, vertical=True)"
   ]
  },
  {
   "cell_type": "markdown",
   "metadata": {},
   "source": [
    "# 6. Join `CPE` refurbishment, tickets and replacement data <a class=\"anchor\" id=\"chapter6\"></a>\n"
   ]
  },
  {
   "cell_type": "markdown",
   "metadata": {},
   "source": [
    "First we are going to join `df_tickets` and `df_cpe_replacement` based on the fields `TICKET_ID` and `ASSET_ID`"
   ]
  },
  {
   "cell_type": "code",
   "execution_count": 47,
   "metadata": {},
   "outputs": [
    {
     "data": {
      "application/vnd.jupyter.widget-view+json": {
       "model_id": "",
       "version_major": 2,
       "version_minor": 0
      },
      "text/plain": [
       "FloatProgress(value=0.0, bar_style='info', description='Progress:', layout=Layout(height='25px', width='50%'),…"
      ]
     },
     "metadata": {},
     "output_type": "display_data"
    },
    {
     "name": "stdout",
     "output_type": "stream",
     "text": [
      "root\n",
      " |-- TICKET_ID: string (nullable = true)\n",
      " |-- ASSET_ID: string (nullable = true)\n",
      " |-- TICKET_TENTATIVE_ROOT_CAUSE: string (nullable = true)\n",
      " |-- START_DATE_TICKET: string (nullable = true)"
     ]
    }
   ],
   "source": [
    "df_tickets.printSchema()"
   ]
  },
  {
   "cell_type": "markdown",
   "metadata": {},
   "source": [
    "`START_DATE_TICKET`- date user called customer care"
   ]
  },
  {
   "cell_type": "code",
   "execution_count": 48,
   "metadata": {},
   "outputs": [
    {
     "data": {
      "application/vnd.jupyter.widget-view+json": {
       "model_id": "",
       "version_major": 2,
       "version_minor": 0
      },
      "text/plain": [
       "FloatProgress(value=0.0, bar_style='info', description='Progress:', layout=Layout(height='25px', width='50%'),…"
      ]
     },
     "metadata": {},
     "output_type": "display_data"
    },
    {
     "name": "stdout",
     "output_type": "stream",
     "text": [
      "root\n",
      " |-- TICKET_ID: integer (nullable = true)\n",
      " |-- ASSET_ID: integer (nullable = true)\n",
      " |-- CPE_SERIAL_NUMBER: string (nullable = true)"
     ]
    }
   ],
   "source": [
    "df_cpe_replacement.printSchema()"
   ]
  },
  {
   "cell_type": "code",
   "execution_count": 49,
   "metadata": {},
   "outputs": [
    {
     "data": {
      "application/vnd.jupyter.widget-view+json": {
       "model_id": "",
       "version_major": 2,
       "version_minor": 0
      },
      "text/plain": [
       "FloatProgress(value=0.0, bar_style='info', description='Progress:', layout=Layout(height='25px', width='50%'),…"
      ]
     },
     "metadata": {},
     "output_type": "display_data"
    }
   ],
   "source": [
    "df_cpe_replacement_tickets = df_cpe_replacement.join(df_tickets, on=['TICKET_ID','ASSET_ID'], how='inner')\n"
   ]
  },
  {
   "cell_type": "code",
   "execution_count": 50,
   "metadata": {},
   "outputs": [
    {
     "data": {
      "application/vnd.jupyter.widget-view+json": {
       "model_id": "",
       "version_major": 2,
       "version_minor": 0
      },
      "text/plain": [
       "FloatProgress(value=0.0, bar_style='info', description='Progress:', layout=Layout(height='25px', width='50%'),…"
      ]
     },
     "metadata": {},
     "output_type": "display_data"
    },
    {
     "name": "stdout",
     "output_type": "stream",
     "text": [
      "root\n",
      " |-- TICKET_ID: integer (nullable = true)\n",
      " |-- ASSET_ID: integer (nullable = true)\n",
      " |-- CPE_SERIAL_NUMBER: string (nullable = true)\n",
      " |-- TICKET_TENTATIVE_ROOT_CAUSE: string (nullable = true)\n",
      " |-- START_DATE_TICKET: string (nullable = true)"
     ]
    }
   ],
   "source": [
    "df_cpe_replacement_tickets.printSchema()"
   ]
  },
  {
   "cell_type": "code",
   "execution_count": 51,
   "metadata": {},
   "outputs": [
    {
     "data": {
      "application/vnd.jupyter.widget-view+json": {
       "model_id": "",
       "version_major": 2,
       "version_minor": 0
      },
      "text/plain": [
       "FloatProgress(value=0.0, bar_style='info', description='Progress:', layout=Layout(height='25px', width='50%'),…"
      ]
     },
     "metadata": {},
     "output_type": "display_data"
    }
   ],
   "source": [
    "df_cpe_replacement_tickets = df_cpe_replacement_tickets.na.drop(subset=[\"CPE_SERIAL_NUMBER\",\"START_DATE_TICKET\"]) \n"
   ]
  },
  {
   "cell_type": "code",
   "execution_count": 52,
   "metadata": {},
   "outputs": [
    {
     "data": {
      "application/vnd.jupyter.widget-view+json": {
       "model_id": "",
       "version_major": 2,
       "version_minor": 0
      },
      "text/plain": [
       "FloatProgress(value=0.0, bar_style='info', description='Progress:', layout=Layout(height='25px', width='50%'),…"
      ]
     },
     "metadata": {},
     "output_type": "display_data"
    },
    {
     "name": "stdout",
     "output_type": "stream",
     "text": [
      "root\n",
      " |-- TICKET_ID: integer (nullable = true)\n",
      " |-- ASSET_ID: integer (nullable = true)\n",
      " |-- CPE_SERIAL_NUMBER: string (nullable = true)\n",
      " |-- TICKET_TENTATIVE_ROOT_CAUSE: string (nullable = true)\n",
      " |-- START_DATE_TICKET: string (nullable = true)"
     ]
    }
   ],
   "source": [
    "df_cpe_replacement_tickets.printSchema()"
   ]
  },
  {
   "cell_type": "markdown",
   "metadata": {},
   "source": [
    "Let's take a look how the joied DF looks like"
   ]
  },
  {
   "cell_type": "code",
   "execution_count": 53,
   "metadata": {},
   "outputs": [
    {
     "data": {
      "application/vnd.jupyter.widget-view+json": {
       "model_id": "",
       "version_major": 2,
       "version_minor": 0
      },
      "text/plain": [
       "FloatProgress(value=0.0, bar_style='info', description='Progress:', layout=Layout(height='25px', width='50%'),…"
      ]
     },
     "metadata": {},
     "output_type": "display_data"
    },
    {
     "name": "stdout",
     "output_type": "stream",
     "text": [
      "+---------+--------+-----------------+---------------------------+-------------------+\n",
      "|TICKET_ID|ASSET_ID|CPE_SERIAL_NUMBER|TICKET_TENTATIVE_ROOT_CAUSE|  START_DATE_TICKET|\n",
      "+---------+--------+-----------------+---------------------------+-------------------+\n",
      "| 45921147|50661075|       J537018077|             Grmljavina - 7|2020-10-02 10:23:27|\n",
      "| 45922430|47121661| FYN6R19309909486|       Prekid; odvod; kr...|2020-10-02 12:37:57|\n",
      "| 45924364|28383510|      CP1040NT1PT|             Grmljavina - 7|2020-10-02 19:07:18|\n",
      "| 45931074|89449348|       J730007258|             Grmljavina - 7|2020-10-05 09:21:44|\n",
      "| 45952326|77890535|       J724006004|       Prekid; odvod; kr...|2020-10-08 14:46:36|\n",
      "+---------+--------+-----------------+---------------------------+-------------------+\n",
      "only showing top 5 rows"
     ]
    }
   ],
   "source": [
    "df_cpe_replacement_tickets.show(5)"
   ]
  },
  {
   "cell_type": "markdown",
   "metadata": {},
   "source": [
    "What about how many unique `ASSET_ID` we get"
   ]
  },
  {
   "cell_type": "code",
   "execution_count": 54,
   "metadata": {},
   "outputs": [
    {
     "data": {
      "application/vnd.jupyter.widget-view+json": {
       "model_id": "",
       "version_major": 2,
       "version_minor": 0
      },
      "text/plain": [
       "FloatProgress(value=0.0, bar_style='info', description='Progress:', layout=Layout(height='25px', width='50%'),…"
      ]
     },
     "metadata": {},
     "output_type": "display_data"
    },
    {
     "name": "stdout",
     "output_type": "stream",
     "text": [
      "86891"
     ]
    }
   ],
   "source": [
    "df_cpe_replacement_tickets.select('ASSET_ID').distinct().count()"
   ]
  },
  {
   "cell_type": "markdown",
   "metadata": {},
   "source": [
    "Let's joing with `df_cpe_refurbishment` dataset on `CPE_SERIAL_NUMBER` field."
   ]
  },
  {
   "cell_type": "code",
   "execution_count": 55,
   "metadata": {},
   "outputs": [
    {
     "data": {
      "application/vnd.jupyter.widget-view+json": {
       "model_id": "",
       "version_major": 2,
       "version_minor": 0
      },
      "text/plain": [
       "FloatProgress(value=0.0, bar_style='info', description='Progress:', layout=Layout(height='25px', width='50%'),…"
      ]
     },
     "metadata": {},
     "output_type": "display_data"
    },
    {
     "name": "stdout",
     "output_type": "stream",
     "text": [
      "root\n",
      " |-- CPE_SERIAL_NUMBER: string (nullable = true)\n",
      " |-- DATE_SCAN_START: string (nullable = true)\n",
      " |-- DATE_SCAN_END: string (nullable = true)\n",
      " |-- CPE_ISSUE: string (nullable = true)"
     ]
    }
   ],
   "source": [
    "df_cpe_refurbishment.printSchema()"
   ]
  },
  {
   "cell_type": "code",
   "execution_count": 56,
   "metadata": {},
   "outputs": [
    {
     "data": {
      "application/vnd.jupyter.widget-view+json": {
       "model_id": "",
       "version_major": 2,
       "version_minor": 0
      },
      "text/plain": [
       "FloatProgress(value=0.0, bar_style='info', description='Progress:', layout=Layout(height='25px', width='50%'),…"
      ]
     },
     "metadata": {},
     "output_type": "display_data"
    },
    {
     "name": "stdout",
     "output_type": "stream",
     "text": [
      "root\n",
      " |-- TICKET_ID: integer (nullable = true)\n",
      " |-- ASSET_ID: integer (nullable = true)\n",
      " |-- CPE_SERIAL_NUMBER: string (nullable = true)\n",
      " |-- TICKET_TENTATIVE_ROOT_CAUSE: string (nullable = true)\n",
      " |-- START_DATE_TICKET: string (nullable = true)"
     ]
    }
   ],
   "source": [
    "df_cpe_replacement_tickets.printSchema()"
   ]
  },
  {
   "cell_type": "code",
   "execution_count": 57,
   "metadata": {},
   "outputs": [
    {
     "data": {
      "application/vnd.jupyter.widget-view+json": {
       "model_id": "",
       "version_major": 2,
       "version_minor": 0
      },
      "text/plain": [
       "FloatProgress(value=0.0, bar_style='info', description='Progress:', layout=Layout(height='25px', width='50%'),…"
      ]
     },
     "metadata": {},
     "output_type": "display_data"
    },
    {
     "name": "stdout",
     "output_type": "stream",
     "text": [
      "-RECORD 0------------------------------------------\n",
      " CPE_SERIAL_NUMBER           | J533008527          \n",
      " TICKET_ID                   | 46064204            \n",
      " ASSET_ID                    | 48337008            \n",
      " TICKET_TENTATIVE_ROOT_CAUSE | Grmljavina - 7      \n",
      " START_DATE_TICKET           | 2020-10-26 17:11:38 \n",
      " DATE_SCAN_START             | 2020-12-08 00:00:00 \n",
      " DATE_SCAN_END               | 2021-01-26 00:00:00 \n",
      " CPE_ISSUE                   | no_problem"
     ]
    }
   ],
   "source": [
    "df_cpe_replace_scan = df_cpe_replacement_tickets.join(df_cpe_refurbishment, on=['CPE_SERIAL_NUMBER'], how=\"inner\")\n",
    "\n",
    "df_cpe_replace_scan.limit(1).show(200,truncate=False, vertical=True)"
   ]
  },
  {
   "cell_type": "code",
   "execution_count": 58,
   "metadata": {},
   "outputs": [
    {
     "data": {
      "application/vnd.jupyter.widget-view+json": {
       "model_id": "",
       "version_major": 2,
       "version_minor": 0
      },
      "text/plain": [
       "FloatProgress(value=0.0, bar_style='info', description='Progress:', layout=Layout(height='25px', width='50%'),…"
      ]
     },
     "metadata": {},
     "output_type": "display_data"
    },
    {
     "name": "stdout",
     "output_type": "stream",
     "text": [
      "27458"
     ]
    }
   ],
   "source": [
    "df_cpe_replace_scan.select('ASSET_ID').distinct().count()"
   ]
  },
  {
   "cell_type": "markdown",
   "metadata": {},
   "source": [
    "Now, we need to select only the cases whene the `DATE_SCAN_END` happend after `DATE_TICKET` in other to filterout the cpes that were previosly in the  refurbishment center. "
   ]
  },
  {
   "cell_type": "code",
   "execution_count": 62,
   "metadata": {},
   "outputs": [
    {
     "data": {
      "application/vnd.jupyter.widget-view+json": {
       "model_id": "",
       "version_major": 2,
       "version_minor": 0
      },
      "text/plain": [
       "FloatProgress(value=0.0, bar_style='info', description='Progress:', layout=Layout(height='25px', width='50%'),…"
      ]
     },
     "metadata": {},
     "output_type": "display_data"
    },
    {
     "name": "stdout",
     "output_type": "stream",
     "text": [
      "-RECORD 0---------------------------------------------\n",
      " CPE_SERIAL_NUMBER           | J820005367             \n",
      " TICKET_ID                   | 45469275               \n",
      " ASSET_ID                    | 78851136               \n",
      " TICKET_TENTATIVE_ROOT_CAUSE | Neispravna oprema - 33 \n",
      " START_DATE_TICKET           | 2020-07-03 12:03:04    \n",
      " DATE_SCAN_START             | 2020-10-27 00:00:00    \n",
      " DATE_SCAN_END               | 2020-12-14 00:00:00    \n",
      " CPE_ISSUE                   | power_supply/dsl_port"
     ]
    }
   ],
   "source": [
    "df_cpe_replace_scan = df_cpe_replace_scan.filter(F.col('DATE_SCAN_END')>F.col('START_DATE_TICKET'))\\\n",
    "                                        .filter(F.col('DATE_SCAN_START')>F.col('START_DATE_TICKET'))\n",
    "df_cpe_replace_scan.limit(1).show(200,truncate=False, vertical=True)"
   ]
  },
  {
   "cell_type": "code",
   "execution_count": 63,
   "metadata": {},
   "outputs": [
    {
     "data": {
      "application/vnd.jupyter.widget-view+json": {
       "model_id": "",
       "version_major": 2,
       "version_minor": 0
      },
      "text/plain": [
       "FloatProgress(value=0.0, bar_style='info', description='Progress:', layout=Layout(height='25px', width='50%'),…"
      ]
     },
     "metadata": {},
     "output_type": "display_data"
    },
    {
     "name": "stdout",
     "output_type": "stream",
     "text": [
      "26039"
     ]
    }
   ],
   "source": [
    "df_cpe_replace_scan.select('ASSET_ID').distinct().count()"
   ]
  },
  {
   "cell_type": "markdown",
   "metadata": {},
   "source": [
    "Now to avoid `cpes` with multiple tickets we are going to filter out when a `cpe` has more than one replacement entry."
   ]
  },
  {
   "cell_type": "code",
   "execution_count": 64,
   "metadata": {},
   "outputs": [
    {
     "data": {
      "application/vnd.jupyter.widget-view+json": {
       "model_id": "",
       "version_major": 2,
       "version_minor": 0
      },
      "text/plain": [
       "FloatProgress(value=0.0, bar_style='info', description='Progress:', layout=Layout(height='25px', width='50%'),…"
      ]
     },
     "metadata": {},
     "output_type": "display_data"
    }
   ],
   "source": [
    "df_cpe_replace_scan = df_cpe_replace_scan.dropDuplicates([\"ASSET_ID\"])"
   ]
  },
  {
   "cell_type": "code",
   "execution_count": 65,
   "metadata": {},
   "outputs": [
    {
     "data": {
      "application/vnd.jupyter.widget-view+json": {
       "model_id": "",
       "version_major": 2,
       "version_minor": 0
      },
      "text/plain": [
       "FloatProgress(value=0.0, bar_style='info', description='Progress:', layout=Layout(height='25px', width='50%'),…"
      ]
     },
     "metadata": {},
     "output_type": "display_data"
    },
    {
     "name": "stdout",
     "output_type": "stream",
     "text": [
      "26039"
     ]
    }
   ],
   "source": [
    "df_cpe_replace_scan.select('ASSET_ID').distinct().count()"
   ]
  },
  {
   "cell_type": "markdown",
   "metadata": {},
   "source": [
    "We can now count how many valid cpe replacement cases we have."
   ]
  },
  {
   "cell_type": "code",
   "execution_count": 66,
   "metadata": {
    "scrolled": true
   },
   "outputs": [
    {
     "data": {
      "application/vnd.jupyter.widget-view+json": {
       "model_id": "",
       "version_major": 2,
       "version_minor": 0
      },
      "text/plain": [
       "FloatProgress(value=0.0, bar_style='info', description='Progress:', layout=Layout(height='25px', width='50%'),…"
      ]
     },
     "metadata": {},
     "output_type": "display_data"
    },
    {
     "name": "stdout",
     "output_type": "stream",
     "text": [
      "+-------+-------------------+-------------------+-------------------+\n",
      "|summary|  START_DATE_TICKET|    DATE_SCAN_START|      DATE_SCAN_END|\n",
      "+-------+-------------------+-------------------+-------------------+\n",
      "|  count|              26039|              26039|              26039|\n",
      "|   mean|               null|               null|               null|\n",
      "| stddev|               null|               null|               null|\n",
      "|    min|2020-01-01 08:38:03|2020-01-10 00:00:00|2020-02-25 00:00:00|\n",
      "|    max|2021-03-30 14:45:44|2021-04-12 00:00:00|2021-04-30 00:00:00|\n",
      "+-------+-------------------+-------------------+-------------------+"
     ]
    }
   ],
   "source": [
    "df_cpe_replace_scan.select('START_DATE_TICKET','DATE_SCAN_START','DATE_SCAN_END').describe().show()"
   ]
  },
  {
   "cell_type": "markdown",
   "metadata": {},
   "source": [
    "Test"
   ]
  },
  {
   "cell_type": "code",
   "execution_count": 67,
   "metadata": {},
   "outputs": [
    {
     "data": {
      "application/vnd.jupyter.widget-view+json": {
       "model_id": "",
       "version_major": 2,
       "version_minor": 0
      },
      "text/plain": [
       "FloatProgress(value=0.0, bar_style='info', description='Progress:', layout=Layout(height='25px', width='50%'),…"
      ]
     },
     "metadata": {},
     "output_type": "display_data"
    },
    {
     "name": "stdout",
     "output_type": "stream",
     "text": [
      "+-------------------------------------------+---------------+--------------------+\n",
      "|CPE_ISSUE                                  |CPE_ISSUE_COUNT|CPE_ISSUE_PECENT    |\n",
      "+-------------------------------------------+---------------+--------------------+\n",
      "|no_problem                                 |13371          |51.349898229578706  |\n",
      "|dsl_port                                   |3904           |14.992895272475902  |\n",
      "|power_supply                               |3697           |14.197933868428127  |\n",
      "|telefon_port                               |1471           |5.649218479972349   |\n",
      "|minor_physical_thermal_damage              |1238           |4.754406851261569   |\n",
      "|reset_itself                               |616            |2.365682245861976   |\n",
      "|power_supply/dsl_port                      |345            |1.3249356734129576  |\n",
      "|lan_port                                   |264            |1.0138638196551326  |\n",
      "|significant_physical_damage_irreparable    |207            |0.7949614040477745  |\n",
      "|does_not_log_into_acs                      |177            |0.6797496063596913  |\n",
      "|wifi                                       |164            |0.6298244940281885  |\n",
      "|power_supply/lan_port/dsl_port             |107            |0.4109220784208303  |\n",
      "|device_overheating                         |102            |0.3917201121394831  |\n",
      "|power_supply/lan_port                      |81             |0.3110718537578248  |\n",
      "|reset_not_work                             |65             |0.24962556165751373 |\n",
      "|telefon_port/power_supply/dsl_port         |40             |0.15361573025077768 |\n",
      "|lan_port/dsl_port                          |29             |0.11137140443181381 |\n",
      "|internet_not_working                       |28             |0.10753101117554438 |\n",
      "|telefon_port/power_supply/lan_port/dsl_port|26             |0.09985022466300549 |\n",
      "|telefon_port/power_supply/lan_port         |25             |0.09600983140673605 |\n",
      "|telefon_port/dsl_port                      |15             |0.05760589884404163 |\n",
      "|telefon_port/power_supply                  |15             |0.05760589884404163 |\n",
      "|telefon_port/lan_port                      |12             |0.0460847190752333  |\n",
      "|device_overheating/dsl_port                |12             |0.0460847190752333  |\n",
      "|reset_itself/dsl_port                      |5              |0.01920196628134721 |\n",
      "|telefon_port/lan_port/dsl_port             |5              |0.01920196628134721 |\n",
      "|reset_itself/device_overheating            |3              |0.011521179768808325|\n",
      "|software                                   |2              |0.007680786512538884|\n",
      "|poor_speed                                 |2              |0.007680786512538884|\n",
      "|minor_physical_thermal_damage/dsl_port     |2              |0.007680786512538884|\n",
      "|telefon_port/internet_not_working          |2              |0.007680786512538884|\n",
      "|internet_not_working/dsl_port              |1              |0.003840393256269442|\n",
      "|reset_itself/power_supply                  |1              |0.003840393256269442|\n",
      "|blocked                                    |1              |0.003840393256269442|\n",
      "|software/device_overheating                |1              |0.003840393256269442|\n",
      "|device_overheating/power_supply            |1              |0.003840393256269442|\n",
      "|does_not_log_into_acs/lan_port             |1              |0.003840393256269442|\n",
      "|minor_physical_thermal_damage/lan_port     |1              |0.003840393256269442|\n",
      "+-------------------------------------------+---------------+--------------------+"
     ]
    }
   ],
   "source": [
    "df_cpe_replace_scan_stat = df_cpe_replace_scan.groupBy('CPE_ISSUE').agg(F.count('CPE_ISSUE').alias('CPE_ISSUE_COUNT'))\n",
    "df_cpe_replace_scan_stat = df_cpe_replace_scan_stat.withColumn('CPE_ISSUE_PECENT', 100*F.col('CPE_ISSUE_COUNT')/df_cpe_replace_scan.count())\n",
    "df_cpe_replace_scan_stat.sort(F.col(\"CPE_ISSUE_PECENT\").desc()).show(100, truncate = False)"
   ]
  },
  {
   "cell_type": "code",
   "execution_count": 68,
   "metadata": {},
   "outputs": [
    {
     "data": {
      "application/vnd.jupyter.widget-view+json": {
       "model_id": "",
       "version_major": 2,
       "version_minor": 0
      },
      "text/plain": [
       "FloatProgress(value=0.0, bar_style='info', description='Progress:', layout=Layout(height='25px', width='50%'),…"
      ]
     },
     "metadata": {},
     "output_type": "display_data"
    }
   ],
   "source": [
    "df_cpe_replace_scan_no_thunder = df_cpe_replace_scan.filter(F.col('TICKET_TENTATIVE_ROOT_CAUSE')!='Grmljavina - 7')"
   ]
  },
  {
   "cell_type": "code",
   "execution_count": 69,
   "metadata": {},
   "outputs": [
    {
     "data": {
      "application/vnd.jupyter.widget-view+json": {
       "model_id": "",
       "version_major": 2,
       "version_minor": 0
      },
      "text/plain": [
       "FloatProgress(value=0.0, bar_style='info', description='Progress:', layout=Layout(height='25px', width='50%'),…"
      ]
     },
     "metadata": {},
     "output_type": "display_data"
    },
    {
     "name": "stdout",
     "output_type": "stream",
     "text": [
      "16106"
     ]
    }
   ],
   "source": [
    "df_cpe_replace_scan_no_thunder.select('ASSET_ID').distinct().count()"
   ]
  },
  {
   "cell_type": "code",
   "execution_count": 70,
   "metadata": {},
   "outputs": [
    {
     "data": {
      "application/vnd.jupyter.widget-view+json": {
       "model_id": "",
       "version_major": 2,
       "version_minor": 0
      },
      "text/plain": [
       "FloatProgress(value=0.0, bar_style='info', description='Progress:', layout=Layout(height='25px', width='50%'),…"
      ]
     },
     "metadata": {},
     "output_type": "display_data"
    },
    {
     "name": "stdout",
     "output_type": "stream",
     "text": [
      "+---------------------------------------+---------------+--------------------+\n",
      "|CPE_ISSUE                              |CPE_ISSUE_COUNT|CPE_ISSUE_PECENT    |\n",
      "+---------------------------------------+---------------+--------------------+\n",
      "|no_problem                             |11264          |43.258189638618994  |\n",
      "|power_supply                           |1095           |4.205230615615039   |\n",
      "|dsl_port                               |1065           |4.090018817926956   |\n",
      "|minor_physical_thermal_damage          |1056           |4.0554552786205305  |\n",
      "|telefon_port                           |663            |2.54618072890664    |\n",
      "|reset_itself                           |237            |0.9101732017358578  |\n",
      "|wifi                                   |153            |0.5875801682092247  |\n",
      "|lan_port                               |131            |0.5030915165712969  |\n",
      "|significant_physical_damage_irreparable|93             |0.35715657283305813 |\n",
      "|does_not_log_into_acs                  |92             |0.3533161795767887  |\n",
      "|power_supply/dsl_port                  |70             |0.26882752793886094 |\n",
      "|reset_not_work                         |53             |0.20354084258228042 |\n",
      "|device_overheating                     |33             |0.12673297745689158 |\n",
      "|internet_not_working                   |25             |0.09600983140673605 |\n",
      "|power_supply/lan_port/dsl_port         |16             |0.06144629210031107 |\n",
      "|power_supply/lan_port                  |10             |0.03840393256269442 |\n",
      "|lan_port/dsl_port                      |7              |0.026882752793886095|\n",
      "|telefon_port/power_supply/dsl_port     |5              |0.01920196628134721 |\n",
      "|telefon_port/power_supply/lan_port     |5              |0.01920196628134721 |\n",
      "|telefon_port/power_supply              |4              |0.015361573025077768|\n",
      "|reset_itself/dsl_port                  |3              |0.011521179768808325|\n",
      "|telefon_port/dsl_port                  |3              |0.011521179768808325|\n",
      "|telefon_port/lan_port                  |2              |0.007680786512538884|\n",
      "|device_overheating/dsl_port            |2              |0.007680786512538884|\n",
      "|software                               |2              |0.007680786512538884|\n",
      "|telefon_port/internet_not_working      |1              |0.003840393256269442|\n",
      "|reset_itself/power_supply              |1              |0.003840393256269442|\n",
      "|minor_physical_thermal_damage/dsl_port |1              |0.003840393256269442|\n",
      "|poor_speed                             |1              |0.003840393256269442|\n",
      "|does_not_log_into_acs/lan_port         |1              |0.003840393256269442|\n",
      "|reset_itself/device_overheating        |1              |0.003840393256269442|\n",
      "|blocked                                |1              |0.003840393256269442|\n",
      "|device_overheating/power_supply        |1              |0.003840393256269442|\n",
      "+---------------------------------------+---------------+--------------------+"
     ]
    }
   ],
   "source": [
    "df_cpe_replace_scan_stat = df_cpe_replace_scan_no_thunder.groupBy('CPE_ISSUE').agg(F.count('CPE_ISSUE').alias('CPE_ISSUE_COUNT'))\n",
    "df_cpe_replace_scan_stat = df_cpe_replace_scan_stat.withColumn('CPE_ISSUE_PECENT', 100*F.col('CPE_ISSUE_COUNT')/df_cpe_replace_scan.count())\n",
    "df_cpe_replace_scan_stat.sort(F.col(\"CPE_ISSUE_PECENT\").desc()).show(100, truncate = False)"
   ]
  },
  {
   "cell_type": "markdown",
   "metadata": {},
   "source": [
    "Now, we can count how number of issues per type tha we can uses later in our training"
   ]
  },
  {
   "cell_type": "markdown",
   "metadata": {},
   "source": [
    "# 7. Building dataset independet of `CPE` replacement events - healthy dataset. <a class=\"anchor\" id=\"chapter7\"></a>"
   ]
  },
  {
   "cell_type": "markdown",
   "metadata": {},
   "source": [
    "In order to have control of posible class imbalance if we train with all available `cpes` we are goning to write a funtion to create a dataset with specific number of `cpes` which will not present in the `cpe replamente list`."
   ]
  },
  {
   "cell_type": "markdown",
   "metadata": {},
   "source": [
    "> **Warnning:** when dealing with an imbalanced dataset, if classes are not well separable with the given variables and if our goal is to get the best possible accuracy, the best classifier can be a “naive” one that always answer the majority class. Resampling methods can be used but have to be thought carefully: they should not be used as stand alone solutions but have to be coupled with a rework of the problem to serve a specific goal. But reworking the problem itself is often the best way to tackle an imbalanced classes problem: the classifier and the decision rule have to be set with respect to a well chosen goal that can be, for example, minimising a cost."
   ]
  },
  {
   "cell_type": "markdown",
   "metadata": {},
   "source": [
    "Here we are going to create a black list of `CPE` which are not associeted to `cpe replacemenet`"
   ]
  },
  {
   "cell_type": "code",
   "execution_count": 71,
   "metadata": {},
   "outputs": [
    {
     "data": {
      "application/vnd.jupyter.widget-view+json": {
       "model_id": "",
       "version_major": 2,
       "version_minor": 0
      },
      "text/plain": [
       "FloatProgress(value=0.0, bar_style='info', description='Progress:', layout=Layout(height='25px', width='50%'),…"
      ]
     },
     "metadata": {},
     "output_type": "display_data"
    },
    {
     "name": "stdout",
     "output_type": "stream",
     "text": [
      "+-----------------------+----------------------+------------------------+\n",
      "|START_DATE_TICKET_MONTH|START_DATE_TICKET_YEAR|count(DISTINCT ASSET_ID)|\n",
      "+-----------------------+----------------------+------------------------+\n",
      "|                      1|                  2020|                   59083|\n",
      "|                      1|                  2021|                   63646|\n",
      "|                      2|                  2021|                   54704|\n",
      "|                      2|                  2020|                   59158|\n",
      "|                      3|                  2021|                   58819|\n",
      "|                      3|                  2020|                   71186|\n",
      "|                      4|                  2021|                   53476|\n",
      "|                      4|                  2020|                   60142|\n",
      "|                      5|                  2020|                   64201|\n",
      "|                      6|                  2020|                   71707|\n",
      "|                      7|                  2020|                   75373|\n",
      "|                      8|                  2020|                   71450|\n",
      "|                      9|                  2020|                   69276|\n",
      "|                     10|                  2020|                   65977|\n",
      "|                     11|                  2020|                   56025|\n",
      "|                     12|                  2020|                   58211|\n",
      "+-----------------------+----------------------+------------------------+"
     ]
    }
   ],
   "source": [
    "df_tickets_per_month = df_tickets.withColumn('START_DATE_TICKET_MONTH',F.month('START_DATE_TICKET')).withColumn('START_DATE_TICKET_YEAR',F.year('START_DATE_TICKET'))\n",
    "df_group_tickets = df_tickets_per_month.groupBy('START_DATE_TICKET_MONTH', 'START_DATE_TICKET_YEAR').agg(F.countDistinct(\"ASSET_ID\"))\n",
    "df_group_tickets = df_group_tickets.dropna()\n",
    "df_group_tickets.orderBy('START_DATE_TICKET_MONTH').show()"
   ]
  },
  {
   "cell_type": "markdown",
   "metadata": {},
   "source": [
    "Now, we are going to select the data from `cpes` that were not reported in the `replacement list`.\n",
    ">**Note:** it is important to take into account that the only dates of with data in the all the required tables are:\n"
   ]
  },
  {
   "cell_type": "markdown",
   "metadata": {},
   "source": [
    "| Hive Table / Dataset | Start date | End date |\n",
    "| :- | -: | :-: |\n",
    "| cdl_acscoll_wifi_params_prq | 2019-03-07 | 2020-09-04 |\n",
    "| cdl_acscoll_xdsl_line_prq | 2020-01-01 | 2020-10-28 |\n",
    "| tickets | 2020-06-0 | 2020-12-2 |\n",
    "| scan start | 2020-01-08 | 2021-01-25 |\n",
    "| scan end | 2020-06-18 | 2021-01-29 |"
   ]
  },
  {
   "cell_type": "markdown",
   "metadata": {},
   "source": [
    "From all 3 tables in gather_date we have data from Jan 2020 to April 2021 as like tickets data"
   ]
  },
  {
   "cell_type": "code",
   "execution_count": 72,
   "metadata": {},
   "outputs": [
    {
     "data": {
      "application/vnd.jupyter.widget-view+json": {
       "model_id": "",
       "version_major": 2,
       "version_minor": 0
      },
      "text/plain": [
       "FloatProgress(value=0.0, bar_style='info', description='Progress:', layout=Layout(height='25px', width='50%'),…"
      ]
     },
     "metadata": {},
     "output_type": "display_data"
    },
    {
     "name": "stdout",
     "output_type": "stream",
     "text": [
      "root\n",
      " |-- assetid: integer (nullable = true)\n",
      " |-- date: date (nullable = true)\n",
      "\n",
      "('df_key - printSchema', None)"
     ]
    }
   ],
   "source": [
    "start_time, end_time = '2020-01-01', '2021-04-30' #jan 2020 to april 2021\n",
    "df_stats  = gather_data (start_time, end_time,spark)\n",
    "\n",
    "df_cpe_blacklist = df_tickets.select(\"ASSET_ID\").distinct()\n",
    "df_cpe_blacklist= df_cpe_blacklist.withColumnRenamed('ASSET_ID','assetid')\n",
    "\n",
    "df_cpe_healthy = df_stats.join(df_cpe_blacklist, on=['assetid'], how='left_anti')\n"
   ]
  },
  {
   "cell_type": "code",
   "execution_count": 73,
   "metadata": {},
   "outputs": [
    {
     "data": {
      "application/vnd.jupyter.widget-view+json": {
       "model_id": "",
       "version_major": 2,
       "version_minor": 0
      },
      "text/plain": [
       "FloatProgress(value=0.0, bar_style='info', description='Progress:', layout=Layout(height='25px', width='50%'),…"
      ]
     },
     "metadata": {},
     "output_type": "display_data"
    }
   ],
   "source": [
    "df_cpe_healthy = df_cpe_healthy.withColumn('assetid', F.col('assetid').cast(types.StringType()))\n",
    "df_cpe_healthy = df_cpe_healthy.withColumn('datum',  F.to_date(F.unix_timestamp('datum', 'yyyy-MM-dd').cast('timestamp')))\n"
   ]
  },
  {
   "cell_type": "markdown",
   "metadata": {},
   "source": [
    "how many unique Healthy `cpes` we have from Jan 202 to Apr 2021?"
   ]
  },
  {
   "cell_type": "code",
   "execution_count": 74,
   "metadata": {},
   "outputs": [
    {
     "data": {
      "application/vnd.jupyter.widget-view+json": {
       "model_id": "",
       "version_major": 2,
       "version_minor": 0
      },
      "text/plain": [
       "FloatProgress(value=0.0, bar_style='info', description='Progress:', layout=Layout(height='25px', width='50%'),…"
      ]
     },
     "metadata": {},
     "output_type": "display_data"
    },
    {
     "name": "stdout",
     "output_type": "stream",
     "text": [
      "250597"
     ]
    }
   ],
   "source": [
    "df_cpe_healthy.select('assetid').distinct().count()"
   ]
  },
  {
   "cell_type": "markdown",
   "metadata": {},
   "source": [
    "now we can select 10K of those CPEs"
   ]
  },
  {
   "cell_type": "code",
   "execution_count": 75,
   "metadata": {},
   "outputs": [
    {
     "data": {
      "application/vnd.jupyter.widget-view+json": {
       "model_id": "",
       "version_major": 2,
       "version_minor": 0
      },
      "text/plain": [
       "FloatProgress(value=0.0, bar_style='info', description='Progress:', layout=Layout(height='25px', width='50%'),…"
      ]
     },
     "metadata": {},
     "output_type": "display_data"
    }
   ],
   "source": [
    "cpe_healty_unique_10k = df_cpe_healthy.select('assetid').distinct().limit(20000)\n"
   ]
  },
  {
   "cell_type": "code",
   "execution_count": 76,
   "metadata": {},
   "outputs": [
    {
     "data": {
      "application/vnd.jupyter.widget-view+json": {
       "model_id": "",
       "version_major": 2,
       "version_minor": 0
      },
      "text/plain": [
       "FloatProgress(value=0.0, bar_style='info', description='Progress:', layout=Layout(height='25px', width='50%'),…"
      ]
     },
     "metadata": {},
     "output_type": "display_data"
    }
   ],
   "source": [
    "cpe_healty_unique_10k.write.format(\"parquet\").mode('overwrite').option(\"header\",\"true\").save(\"hdfs://nameservicedev1//user/dt_srajan/cpe_healty_unique_20k_new\")"
   ]
  },
  {
   "cell_type": "code",
   "execution_count": 77,
   "metadata": {},
   "outputs": [
    {
     "data": {
      "application/vnd.jupyter.widget-view+json": {
       "model_id": "",
       "version_major": 2,
       "version_minor": 0
      },
      "text/plain": [
       "FloatProgress(value=0.0, bar_style='info', description='Progress:', layout=Layout(height='25px', width='50%'),…"
      ]
     },
     "metadata": {},
     "output_type": "display_data"
    }
   ],
   "source": [
    "cpe_healty_unique_10k = spark.read.parquet('hdfs://nameservicedev1//user/dt_srajan/cpe_healty_unique_20k_new')"
   ]
  },
  {
   "cell_type": "markdown",
   "metadata": {},
   "source": [
    "Join with df_cpe_healthy to get all information "
   ]
  },
  {
   "cell_type": "code",
   "execution_count": 78,
   "metadata": {},
   "outputs": [
    {
     "data": {
      "application/vnd.jupyter.widget-view+json": {
       "model_id": "",
       "version_major": 2,
       "version_minor": 0
      },
      "text/plain": [
       "FloatProgress(value=0.0, bar_style='info', description='Progress:', layout=Layout(height='25px', width='50%'),…"
      ]
     },
     "metadata": {},
     "output_type": "display_data"
    }
   ],
   "source": [
    "df_cpe_healthy_10k = cpe_healty_unique_10k.join(df_cpe_healthy, on=['assetid'], how='inner')\n"
   ]
  },
  {
   "cell_type": "code",
   "execution_count": 79,
   "metadata": {},
   "outputs": [
    {
     "data": {
      "application/vnd.jupyter.widget-view+json": {
       "model_id": "",
       "version_major": 2,
       "version_minor": 0
      },
      "text/plain": [
       "FloatProgress(value=0.0, bar_style='info', description='Progress:', layout=Layout(height='25px', width='50%'),…"
      ]
     },
     "metadata": {},
     "output_type": "display_data"
    },
    {
     "name": "stdout",
     "output_type": "stream",
     "text": [
      "20000"
     ]
    }
   ],
   "source": [
    "df_cpe_healthy_10k.select('assetid').distinct().count()"
   ]
  },
  {
   "cell_type": "markdown",
   "metadata": {},
   "source": [
    "#### Get Random Start date and end date Test"
   ]
  },
  {
   "cell_type": "code",
   "execution_count": 80,
   "metadata": {},
   "outputs": [
    {
     "data": {
      "application/vnd.jupyter.widget-view+json": {
       "model_id": "",
       "version_major": 2,
       "version_minor": 0
      },
      "text/plain": [
       "FloatProgress(value=0.0, bar_style='info', description='Progress:', layout=Layout(height='25px', width='50%'),…"
      ]
     },
     "metadata": {},
     "output_type": "display_data"
    }
   ],
   "source": [
    "from datetime import timedelta, date\n",
    "\n",
    "def daterange(date1, date2):\n",
    "    for n in range(int ((date2 - date1).days)+1):\n",
    "        yield date1 + timedelta(n)\n",
    "        "
   ]
  },
  {
   "cell_type": "code",
   "execution_count": 81,
   "metadata": {},
   "outputs": [
    {
     "data": {
      "application/vnd.jupyter.widget-view+json": {
       "model_id": "",
       "version_major": 2,
       "version_minor": 0
      },
      "text/plain": [
       "FloatProgress(value=0.0, bar_style='info', description='Progress:', layout=Layout(height='25px', width='50%'),…"
      ]
     },
     "metadata": {},
     "output_type": "display_data"
    }
   ],
   "source": [
    "# Enter the range of dates available for selecting end date - so lets start feom Feb 2, 2020 as we tae data for 32 days from Jan 2020\n",
    "start_dt = date(2020, 2, 2)\n",
    "end_dt = date(2021, 4, 30)\n",
    "lst=[]\n",
    "for dt in daterange(start_dt, end_dt):\n",
    "    new_dt = dt.strftime(\"%Y-%m-%d\")\n",
    "    lst.append(new_dt)"
   ]
  },
  {
   "cell_type": "markdown",
   "metadata": {},
   "source": [
    "#### Get start_date"
   ]
  },
  {
   "cell_type": "code",
   "execution_count": 82,
   "metadata": {},
   "outputs": [
    {
     "data": {
      "application/vnd.jupyter.widget-view+json": {
       "model_id": "",
       "version_major": 2,
       "version_minor": 0
      },
      "text/plain": [
       "FloatProgress(value=0.0, bar_style='info', description='Progress:', layout=Layout(height='25px', width='50%'),…"
      ]
     },
     "metadata": {},
     "output_type": "display_data"
    }
   ],
   "source": [
    "def generate_start_date(end_date,n_days):\n",
    "    \"\"\" Function to define start time and end time for the query\n",
    "    Args:\n",
    "        enddate (int): end date for data load in days.\n",
    "        n_days (int): days\n",
    "    Returns:\n",
    "      {\n",
    "      start_date(object): endtime of query,\n",
    "      }\n",
    "    \"\"\"\n",
    "\n",
    "    end_date_1 = datetime.strptime(end_date, \"%Y-%m-%d\").date()\n",
    "    start_date = (end_date_1 - timedelta(days=n_days))\n",
    "    start_date = start_date.strftime(\"%Y-%m-%d\")\n",
    "    return start_date"
   ]
  },
  {
   "cell_type": "markdown",
   "metadata": {},
   "source": [
    "Assign the distinct cpe id to pandas df to get start and en in df"
   ]
  },
  {
   "cell_type": "code",
   "execution_count": 83,
   "metadata": {},
   "outputs": [
    {
     "data": {
      "application/vnd.jupyter.widget-view+json": {
       "model_id": "",
       "version_major": 2,
       "version_minor": 0
      },
      "text/plain": [
       "FloatProgress(value=0.0, bar_style='info', description='Progress:', layout=Layout(height='25px', width='50%'),…"
      ]
     },
     "metadata": {},
     "output_type": "display_data"
    }
   ],
   "source": [
    "healthy = df_cpe_healthy_10k.select('assetid').distinct().toPandas()"
   ]
  },
  {
   "cell_type": "code",
   "execution_count": 84,
   "metadata": {},
   "outputs": [
    {
     "data": {
      "application/vnd.jupyter.widget-view+json": {
       "model_id": "",
       "version_major": 2,
       "version_minor": 0
      },
      "text/plain": [
       "FloatProgress(value=0.0, bar_style='info', description='Progress:', layout=Layout(height='25px', width='50%'),…"
      ]
     },
     "metadata": {},
     "output_type": "display_data"
    }
   ],
   "source": [
    "healthy['end_date'] = healthy.apply(lambda x: np.random.choice(lst),axis=1)\n",
    "healthy['start_date'] = healthy.apply(lambda x: generate_start_date(x['end_date'],31),axis=1) # 32 days"
   ]
  },
  {
   "cell_type": "code",
   "execution_count": 85,
   "metadata": {},
   "outputs": [
    {
     "data": {
      "application/vnd.jupyter.widget-view+json": {
       "model_id": "",
       "version_major": 2,
       "version_minor": 0
      },
      "text/plain": [
       "FloatProgress(value=0.0, bar_style='info', description='Progress:', layout=Layout(height='25px', width='50%'),…"
      ]
     },
     "metadata": {},
     "output_type": "display_data"
    },
    {
     "name": "stdout",
     "output_type": "stream",
     "text": [
      "     assetid    end_date  start_date\n",
      "0   37323317  2020-11-28  2020-10-28\n",
      "1   43434736  2021-01-01  2020-12-01\n",
      "2   66811827  2021-02-05  2021-01-05\n",
      "3   95041058  2020-02-06  2020-01-06\n",
      "4  104098584  2020-09-29  2020-08-29"
     ]
    }
   ],
   "source": [
    "healthy.head(5)"
   ]
  },
  {
   "cell_type": "code",
   "execution_count": 86,
   "metadata": {},
   "outputs": [
    {
     "data": {
      "application/vnd.jupyter.widget-view+json": {
       "model_id": "",
       "version_major": 2,
       "version_minor": 0
      },
      "text/plain": [
       "FloatProgress(value=0.0, bar_style='info', description='Progress:', layout=Layout(height='25px', width='50%'),…"
      ]
     },
     "metadata": {},
     "output_type": "display_data"
    }
   ],
   "source": [
    "healthy['assetid'] = healthy['assetid'].astype('string')\n",
    "healthy['end_date'] = healthy['end_date'].astype('string')\n",
    "healthy['start_date'] = healthy['start_date'].astype('string')"
   ]
  },
  {
   "cell_type": "code",
   "execution_count": 87,
   "metadata": {},
   "outputs": [
    {
     "data": {
      "application/vnd.jupyter.widget-view+json": {
       "model_id": "",
       "version_major": 2,
       "version_minor": 0
      },
      "text/plain": [
       "FloatProgress(value=0.0, bar_style='info', description='Progress:', layout=Layout(height='25px', width='50%'),…"
      ]
     },
     "metadata": {},
     "output_type": "display_data"
    },
    {
     "name": "stdout",
     "output_type": "stream",
     "text": [
      "assetid       object\n",
      "end_date      object\n",
      "start_date    object\n",
      "dtype: object"
     ]
    }
   ],
   "source": [
    "healthy.dtypes"
   ]
  },
  {
   "cell_type": "code",
   "execution_count": 88,
   "metadata": {},
   "outputs": [
    {
     "data": {
      "application/vnd.jupyter.widget-view+json": {
       "model_id": "",
       "version_major": 2,
       "version_minor": 0
      },
      "text/plain": [
       "FloatProgress(value=0.0, bar_style='info', description='Progress:', layout=Layout(height='25px', width='50%'),…"
      ]
     },
     "metadata": {},
     "output_type": "display_data"
    }
   ],
   "source": [
    "mySchema = StructType([ StructField(\"assetid\", StringType(), True)\\\n",
    "                        ,StructField(\"end_date\", StringType(), True)\\\n",
    "                        ,StructField(\"start_date\", StringType(), True)\n",
    "                      \n",
    "                      ])\n"
   ]
  },
  {
   "cell_type": "code",
   "execution_count": 89,
   "metadata": {},
   "outputs": [
    {
     "data": {
      "application/vnd.jupyter.widget-view+json": {
       "model_id": "",
       "version_major": 2,
       "version_minor": 0
      },
      "text/plain": [
       "FloatProgress(value=0.0, bar_style='info', description='Progress:', layout=Layout(height='25px', width='50%'),…"
      ]
     },
     "metadata": {},
     "output_type": "display_data"
    }
   ],
   "source": [
    "df_healthy = spark.createDataFrame(healthy, schema = mySchema)"
   ]
  },
  {
   "cell_type": "code",
   "execution_count": 90,
   "metadata": {},
   "outputs": [
    {
     "data": {
      "application/vnd.jupyter.widget-view+json": {
       "model_id": "",
       "version_major": 2,
       "version_minor": 0
      },
      "text/plain": [
       "FloatProgress(value=0.0, bar_style='info', description='Progress:', layout=Layout(height='25px', width='50%'),…"
      ]
     },
     "metadata": {},
     "output_type": "display_data"
    }
   ],
   "source": [
    "df_healthy.write.format(\"parquet\").mode('overwrite').option(\"header\",\"true\").save(\"hdfs://nameservicedev1//user/dt_srajan/df_healthy_new\")\n"
   ]
  },
  {
   "cell_type": "code",
   "execution_count": 91,
   "metadata": {},
   "outputs": [
    {
     "data": {
      "application/vnd.jupyter.widget-view+json": {
       "model_id": "",
       "version_major": 2,
       "version_minor": 0
      },
      "text/plain": [
       "FloatProgress(value=0.0, bar_style='info', description='Progress:', layout=Layout(height='25px', width='50%'),…"
      ]
     },
     "metadata": {},
     "output_type": "display_data"
    }
   ],
   "source": [
    "df_healthy = spark.read.parquet('hdfs://nameservicedev1//user/dt_srajan/df_healthy_new')"
   ]
  },
  {
   "cell_type": "code",
   "execution_count": 92,
   "metadata": {},
   "outputs": [
    {
     "data": {
      "application/vnd.jupyter.widget-view+json": {
       "model_id": "",
       "version_major": 2,
       "version_minor": 0
      },
      "text/plain": [
       "FloatProgress(value=0.0, bar_style='info', description='Progress:', layout=Layout(height='25px', width='50%'),…"
      ]
     },
     "metadata": {},
     "output_type": "display_data"
    },
    {
     "name": "stdout",
     "output_type": "stream",
     "text": [
      "root\n",
      " |-- assetid: string (nullable = true)\n",
      " |-- end_date: string (nullable = true)\n",
      " |-- start_date: string (nullable = true)"
     ]
    }
   ],
   "source": [
    "df_healthy.printSchema()"
   ]
  },
  {
   "cell_type": "code",
   "execution_count": 93,
   "metadata": {},
   "outputs": [
    {
     "data": {
      "application/vnd.jupyter.widget-view+json": {
       "model_id": "",
       "version_major": 2,
       "version_minor": 0
      },
      "text/plain": [
       "FloatProgress(value=0.0, bar_style='info', description='Progress:', layout=Layout(height='25px', width='50%'),…"
      ]
     },
     "metadata": {},
     "output_type": "display_data"
    },
    {
     "name": "stdout",
     "output_type": "stream",
     "text": [
      "20000"
     ]
    }
   ],
   "source": [
    "df_healthy.count()"
   ]
  },
  {
   "cell_type": "code",
   "execution_count": 94,
   "metadata": {},
   "outputs": [
    {
     "data": {
      "application/vnd.jupyter.widget-view+json": {
       "model_id": "",
       "version_major": 2,
       "version_minor": 0
      },
      "text/plain": [
       "FloatProgress(value=0.0, bar_style='info', description='Progress:', layout=Layout(height='25px', width='50%'),…"
      ]
     },
     "metadata": {},
     "output_type": "display_data"
    }
   ],
   "source": [
    "df_healthy = df_healthy.withColumn('start_date', F.col('start_date').cast(types.DateType()))\n",
    "df_healthy = df_healthy.withColumn('end_date', F.col('end_date').cast(types.DateType()))"
   ]
  },
  {
   "cell_type": "code",
   "execution_count": 95,
   "metadata": {},
   "outputs": [
    {
     "data": {
      "application/vnd.jupyter.widget-view+json": {
       "model_id": "",
       "version_major": 2,
       "version_minor": 0
      },
      "text/plain": [
       "FloatProgress(value=0.0, bar_style='info', description='Progress:', layout=Layout(height='25px', width='50%'),…"
      ]
     },
     "metadata": {},
     "output_type": "display_data"
    }
   ],
   "source": [
    "spark.udf.register(\"generate_date_series\", generate_date_series, types.ArrayType(types.DateType()) )\n",
    "df_healthy.createOrReplaceTempView(\"keydf\")"
   ]
  },
  {
   "cell_type": "code",
   "execution_count": 96,
   "metadata": {},
   "outputs": [
    {
     "data": {
      "application/vnd.jupyter.widget-view+json": {
       "model_id": "",
       "version_major": 2,
       "version_minor": 0
      },
      "text/plain": [
       "FloatProgress(value=0.0, bar_style='info', description='Progress:', layout=Layout(height='25px', width='50%'),…"
      ]
     },
     "metadata": {},
     "output_type": "display_data"
    }
   ],
   "source": [
    "df_date_expanded = spark.sql('select *, explode(generate_date_series(start_date, end_date)) as date FROM keydf ')"
   ]
  },
  {
   "cell_type": "code",
   "execution_count": 97,
   "metadata": {},
   "outputs": [
    {
     "data": {
      "application/vnd.jupyter.widget-view+json": {
       "model_id": "",
       "version_major": 2,
       "version_minor": 0
      },
      "text/plain": [
       "FloatProgress(value=0.0, bar_style='info', description='Progress:', layout=Layout(height='25px', width='50%'),…"
      ]
     },
     "metadata": {},
     "output_type": "display_data"
    }
   ],
   "source": [
    "#df_date_expanded.show(40)"
   ]
  },
  {
   "cell_type": "code",
   "execution_count": 98,
   "metadata": {},
   "outputs": [
    {
     "data": {
      "application/vnd.jupyter.widget-view+json": {
       "model_id": "",
       "version_major": 2,
       "version_minor": 0
      },
      "text/plain": [
       "FloatProgress(value=0.0, bar_style='info', description='Progress:', layout=Layout(height='25px', width='50%'),…"
      ]
     },
     "metadata": {},
     "output_type": "display_data"
    }
   ],
   "source": [
    "df_date_expanded = df_date_expanded.select('assetid', 'date').withColumnRenamed('date', 'datum')"
   ]
  },
  {
   "cell_type": "code",
   "execution_count": 99,
   "metadata": {},
   "outputs": [
    {
     "data": {
      "application/vnd.jupyter.widget-view+json": {
       "model_id": "",
       "version_major": 2,
       "version_minor": 0
      },
      "text/plain": [
       "FloatProgress(value=0.0, bar_style='info', description='Progress:', layout=Layout(height='25px', width='50%'),…"
      ]
     },
     "metadata": {},
     "output_type": "display_data"
    },
    {
     "name": "stdout",
     "output_type": "stream",
     "text": [
      "root\n",
      " |-- assetid: string (nullable = true)\n",
      " |-- datum: date (nullable = true)"
     ]
    }
   ],
   "source": [
    "df_date_expanded.printSchema()"
   ]
  },
  {
   "cell_type": "code",
   "execution_count": 100,
   "metadata": {},
   "outputs": [
    {
     "data": {
      "application/vnd.jupyter.widget-view+json": {
       "model_id": "",
       "version_major": 2,
       "version_minor": 0
      },
      "text/plain": [
       "FloatProgress(value=0.0, bar_style='info', description='Progress:', layout=Layout(height='25px', width='50%'),…"
      ]
     },
     "metadata": {},
     "output_type": "display_data"
    }
   ],
   "source": [
    "df_date_expanded = df_date_expanded.join(df_cpe_healthy_10k, ['assetid', 'datum'], how = 'inner')"
   ]
  },
  {
   "cell_type": "code",
   "execution_count": 101,
   "metadata": {},
   "outputs": [
    {
     "data": {
      "application/vnd.jupyter.widget-view+json": {
       "model_id": "",
       "version_major": 2,
       "version_minor": 0
      },
      "text/plain": [
       "FloatProgress(value=0.0, bar_style='info', description='Progress:', layout=Layout(height='25px', width='50%'),…"
      ]
     },
     "metadata": {},
     "output_type": "display_data"
    },
    {
     "name": "stdout",
     "output_type": "stream",
     "text": [
      "640000"
     ]
    }
   ],
   "source": [
    "df_date_expanded.count()"
   ]
  },
  {
   "cell_type": "code",
   "execution_count": 102,
   "metadata": {},
   "outputs": [
    {
     "data": {
      "application/vnd.jupyter.widget-view+json": {
       "model_id": "",
       "version_major": 2,
       "version_minor": 0
      },
      "text/plain": [
       "FloatProgress(value=0.0, bar_style='info', description='Progress:', layout=Layout(height='25px', width='50%'),…"
      ]
     },
     "metadata": {},
     "output_type": "display_data"
    },
    {
     "name": "stdout",
     "output_type": "stream",
     "text": [
      "640000"
     ]
    }
   ],
   "source": [
    "20000*32"
   ]
  },
  {
   "cell_type": "code",
   "execution_count": 103,
   "metadata": {},
   "outputs": [
    {
     "data": {
      "application/vnd.jupyter.widget-view+json": {
       "model_id": "",
       "version_major": 2,
       "version_minor": 0
      },
      "text/plain": [
       "FloatProgress(value=0.0, bar_style='info', description='Progress:', layout=Layout(height='25px', width='50%'),…"
      ]
     },
     "metadata": {},
     "output_type": "display_data"
    },
    {
     "name": "stdout",
     "output_type": "stream",
     "text": [
      "root\n",
      " |-- assetid: string (nullable = true)\n",
      " |-- datum: date (nullable = true)\n",
      " |-- dslam_distinct_modulation: long (nullable = true)\n",
      " |-- dslam_no_of_dominant_modulation: long (nullable = true)\n",
      " |-- dslam_code_of_dominant_modulation: float (nullable = true)\n",
      " |-- dslam_avg_bitrate_us: double (nullable = true)\n",
      " |-- dslam_avg_bitrate_ds: double (nullable = true)\n",
      " |-- dslam_avg_attenuation_ds: double (nullable = true)\n",
      " |-- dslam_avg_attenuation_us: double (nullable = true)\n",
      " |-- dslam_avg_power_us: double (nullable = true)\n",
      " |-- dslam_avg_power_ds: double (nullable = true)\n",
      " |-- dslam_avg_att_bitrate_us: double (nullable = true)\n",
      " |-- dslam_avg_att_bitrate_ds: double (nullable = true)\n",
      " |-- dslam_avg_snr_us: double (nullable = true)\n",
      " |-- dslam_avg_snr_ds: double (nullable = true)\n",
      " |-- dslam_no_counts: long (nullable = true)\n",
      " |-- dslam_avg_bandline_ds: double (nullable = true)\n",
      " |-- dslam_avg_bandline_us: double (nullable = true)\n",
      " |-- dslam_sum_cv_us: double (nullable = true)\n",
      " |-- dslam_count_cv_us: long (nullable = true)\n",
      " |-- dslam_sum_cv_ds: double (nullable = true)\n",
      " |-- dslam_count_cv_ds: long (nullable = true)\n",
      " |-- dslam_sum_es_ds: double (nullable = true)\n",
      " |-- dslam_count_es_ds: long (nullable = true)\n",
      " |-- dslam_sum_es_us: double (nullable = true)\n",
      " |-- dslam_count_es_us: long (nullable = true)\n",
      " |-- dslam_sum_ses_ds: double (nullable = true)\n",
      " |-- dslam_count_ses_ds: long (nullable = true)\n",
      " |-- dslam_sum_ses_us: double (nullable = true)\n",
      " |-- dslam_count_ses_us: long (nullable = true)\n",
      " |-- dslam_sum_fec_ds: double (nullable = true)\n",
      " |-- dslam_count_fec_ds: long (nullable = true)\n",
      " |-- dslam_sum_fec_us: double (nullable = true)\n",
      " |-- dslam_count_fec_us: long (nullable = true)\n",
      " |-- dslam_inits: long (nullable = true)\n",
      " |-- dslam_port_inst_id: integer (nullable = true)\n",
      " |-- dslam_rg_port_inst_id: integer (nullable = true)\n",
      " |-- dslam_prim_izvod_inst_id: integer (nullable = true)\n",
      " |-- snmp_no_lossoflink: long (nullable = true)\n",
      " |-- snmp_no_linkup: long (nullable = true)\n",
      " |-- snmp_no_dyinggasp: long (nullable = true)\n",
      " |-- acs_xdslline_dslUptime: long (nullable = true)\n",
      " |-- acs_xdslline_cpeUptime: long (nullable = true)\n",
      " |-- acs_xdslline_cpuUsagePercentage: long (nullable = true)\n",
      " |-- acs_xdslline_freeMemoryKb: long (nullable = true)\n",
      " |-- acs_xdslline_totalMemoryKb: long (nullable = true)\n",
      " |-- acs_xdslline_usedMemoryKb: long (nullable = true)\n",
      " |-- acs_xdslline_natCurrent: long (nullable = true)\n",
      " |-- acs_xdslline_natMax: long (nullable = true)\n",
      " |-- acs_xdslline_crc: long (nullable = true)\n",
      " |-- acs_xdslline_fec: long (nullable = true)\n",
      " |-- acs_xdslline_hec: long (nullable = true)\n",
      " |-- acs_xdslline_cellDelin: long (nullable = true)\n",
      " |-- acs_xdslline_erroredSecs: long (nullable = true)\n",
      " |-- acs_xdslline_initErrors: long (nullable = true)\n",
      " |-- acs_xdslline_initTimeOuts: long (nullable = true)\n",
      " |-- acs_xdslline_severelyErroredSecs: long (nullable = true)\n",
      " |-- acs_xdslline_linkRetrain: long (nullable = true)\n",
      " |-- acs_xdslline_lossOfFraming: long (nullable = true)\n",
      " |-- acs_xdslline_lossOfPower: long (nullable = true)\n",
      " |-- acs_xdslline_transmitBlocks: long (nullable = true)\n",
      " |-- acs_xdslline_receiveBlocks: long (nullable = true)\n",
      " |-- acs_xdslline_downAttenuationDb: long (nullable = true)\n",
      " |-- acs_xdslline_downCurrRateKbps: long (nullable = true)\n",
      " |-- acs_xdslline_downMaxRateKbps: long (nullable = true)\n",
      " |-- acs_xdslline_downNoiseMarginDb: long (nullable = true)\n",
      " |-- acs_xdslline_downPowerDbm: long (nullable = true)\n",
      " |-- acs_xdslline_upAttenuationDb: long (nullable = true)\n",
      " |-- acs_xdslline_upCurrRateKbps: long (nullable = true)\n",
      " |-- acs_xdslline_upMaxRateKbps: long (nullable = true)\n",
      " |-- acs_xdslline_upNoiseMarginDb: long (nullable = true)\n",
      " |-- acs_xdslline_upPowerDbm: long (nullable = true)\n",
      " |-- acs_xdslline_atuccrc: long (nullable = true)\n",
      " |-- acs_xdslline_atucfec: long (nullable = true)\n",
      " |-- acs_xdslline_atuchec: long (nullable = true)\n",
      " |-- dslam_date_inserted: timestamp (nullable = true)\n",
      " |-- dslam_platforma: string (nullable = true)\n",
      " |-- dslam_model: string (nullable = true)\n",
      " |-- dslam_card_type: string (nullable = true)\n",
      " |-- dslam_status_porta: string (nullable = true)\n",
      " |-- dslam_bandwidth: string (nullable = true)\n",
      " |-- dslam_vdsl_adsl: string (nullable = true)\n",
      " |-- dslam_vendor: string (nullable = true)\n",
      " |-- dslam_status: string (nullable = true)\n",
      " |-- dslam_internet: string (nullable = true)\n",
      " |-- dslam_iptv: string (nullable = true)\n",
      " |-- dslam_voip: string (nullable = true)\n",
      " |-- dslam_regija: string (nullable = true)\n",
      " |-- acs_@type: string (nullable = true)\n",
      " |-- acs_status: string (nullable = true)\n",
      " |-- acs_description: string (nullable = true)\n",
      " |-- acs_crm_accessNetwork: string (nullable = true)\n",
      " |-- acs_crm_dslamFrame: string (nullable = true)\n",
      " |-- acs_crm_dslamSlot: string (nullable = true)\n",
      " |-- acs_crm_serviceName: string (nullable = true)\n",
      " |-- acs_xdslline_manufacturer: string (nullable = true)\n",
      " |-- acs_xdslline_manufacturerOui: string (nullable = true)\n",
      " |-- acs_xdslline_softwareVersion: string (nullable = true)\n",
      " |-- acs_xdslline_additionalSoftwareVersion: string (nullable = true)\n",
      " |-- acs_xdslline_anexType: string (nullable = true)\n",
      " |-- acs_xdslline_dslType: string (nullable = true)\n",
      " |-- acs_xdslline_linkEncapsulationType: string (nullable = true)\n",
      " |-- acs_xdslline_pppoEConnectionStatus: string (nullable = true)\n",
      " |-- acs_xdslline_pppoELastConnectionError: string (nullable = true)\n",
      " |-- acs_xdslline_pppoENATEnabled: string (nullable = true)\n",
      " |-- acs_xdslline_pppoEUsername: string (nullable = true)\n",
      " |-- acs_createdmsec: string (nullable = true)\n",
      " |-- cpetype: string (nullable = true)"
     ]
    }
   ],
   "source": [
    "df_date_expanded.printSchema()"
   ]
  },
  {
   "cell_type": "code",
   "execution_count": 104,
   "metadata": {},
   "outputs": [
    {
     "data": {
      "application/vnd.jupyter.widget-view+json": {
       "model_id": "",
       "version_major": 2,
       "version_minor": 0
      },
      "text/plain": [
       "FloatProgress(value=0.0, bar_style='info', description='Progress:', layout=Layout(height='25px', width='50%'),…"
      ]
     },
     "metadata": {},
     "output_type": "display_data"
    }
   ],
   "source": [
    "df_date_expanded.write.format(\"parquet\").mode('overwrite').option(\"header\",\"true\").save(\"hdfs://nameservicedev1//user/dt_srajan/predictive_care/cpe_replacement/data_w32_healthy/df_healty_sel_features_20k_new\")"
   ]
  },
  {
   "cell_type": "markdown",
   "metadata": {},
   "source": [
    "# 8. Building dataset related with `CPE` replacement events - issue dataset .\n",
    "<a class=\"anchor\" id=\"chapter8\"></a>"
   ]
  },
  {
   "cell_type": "markdown",
   "metadata": {},
   "source": [
    "Now we want to build a dataset which contains all the `cpes` which were replaced. But it has a mayor challenge we need to filter in a fix window (e.g one month before the issue raise)."
   ]
  },
  {
   "cell_type": "markdown",
   "metadata": {},
   "source": [
    "Now, we are going to select the data from `cpes` that were reported in the `replacement list`.\n",
    ">**Note:** it is important to take into account that the only dates of with data in the all the required tables are:\n"
   ]
  },
  {
   "cell_type": "markdown",
   "metadata": {},
   "source": [
    "| Hive Table / Dataset | Start date | End date |\n",
    "| :- | -: | :-: |\n",
    "| cdl_acscoll_wifi_params_prq | 2019-03-07 | 2020-09-04 |\n",
    "| cdl_acscoll_xdsl_line_prq | 2020-01-01 | 2020-10-28 |\n",
    "| tickets | 2020-06-0 | 2020-12-2 |\n",
    "| scan start | 2020-01-08 | 2021-01-25 |\n",
    "| scan end | 2020-06-18 | 2021-01-29 |"
   ]
  },
  {
   "cell_type": "markdown",
   "metadata": {},
   "source": [
    "In this case  the constrain is `cdl_acscoll_wifi_params_prq` becasuse it only has data until `2020-09-04`. Therefore, we only can work with tickets that were raise until `2020-09-04`."
   ]
  },
  {
   "cell_type": "code",
   "execution_count": 105,
   "metadata": {},
   "outputs": [
    {
     "data": {
      "application/vnd.jupyter.widget-view+json": {
       "model_id": "",
       "version_major": 2,
       "version_minor": 0
      },
      "text/plain": [
       "FloatProgress(value=0.0, bar_style='info', description='Progress:', layout=Layout(height='25px', width='50%'),…"
      ]
     },
     "metadata": {},
     "output_type": "display_data"
    },
    {
     "name": "stdout",
     "output_type": "stream",
     "text": [
      "root\n",
      " |-- CPE_SERIAL_NUMBER: string (nullable = true)\n",
      " |-- TICKET_ID: integer (nullable = true)\n",
      " |-- ASSET_ID: integer (nullable = true)\n",
      " |-- TICKET_TENTATIVE_ROOT_CAUSE: string (nullable = true)\n",
      " |-- START_DATE_TICKET: string (nullable = true)\n",
      " |-- DATE_SCAN_START: string (nullable = true)\n",
      " |-- DATE_SCAN_END: string (nullable = true)\n",
      " |-- CPE_ISSUE: string (nullable = true)"
     ]
    }
   ],
   "source": [
    "df_cpe_replace_scan.printSchema()"
   ]
  },
  {
   "cell_type": "markdown",
   "metadata": {},
   "source": [
    "In other words it means that we need to filter `df_cpe_replace_scan` by selecting the recods where `DATE_TICKET` is older than `2020-09-04`. \n",
    "let's do it!"
   ]
  },
  {
   "cell_type": "code",
   "execution_count": 110,
   "metadata": {},
   "outputs": [
    {
     "data": {
      "application/vnd.jupyter.widget-view+json": {
       "model_id": "",
       "version_major": 2,
       "version_minor": 0
      },
      "text/plain": [
       "FloatProgress(value=0.0, bar_style='info', description='Progress:', layout=Layout(height='25px', width='50%'),…"
      ]
     },
     "metadata": {},
     "output_type": "display_data"
    }
   ],
   "source": [
    "df_cpe_repl_flt = df_cpe_replace_scan.filter(F.col(\"START_DATE_TICKET\")<\"2021-04-30\")\\\n",
    "                                    .filter(F.col(\"START_DATE_TICKET\")>\"2020-02-02\")# we only found  data after 2020-05-14 then if window is 30 days"
   ]
  },
  {
   "cell_type": "markdown",
   "metadata": {},
   "source": [
    "## 8.1 Creating Windowing <a class=\"anchor\" id=\"section_8_1\"></a>"
   ]
  },
  {
   "cell_type": "markdown",
   "metadata": {},
   "source": [
    "Great! now we need to define a `history_window` that represents the amount of historical data we are use to predict the event `cpe damage` (excluding those cpes that were replace but no issue was found). Also we need to set `prediction_gap` that reflect how much time in advance we want to do our prediction (e.g one week a head). "
   ]
  },
  {
   "cell_type": "code",
   "execution_count": 111,
   "metadata": {},
   "outputs": [
    {
     "data": {
      "application/vnd.jupyter.widget-view+json": {
       "model_id": "",
       "version_major": 2,
       "version_minor": 0
      },
      "text/plain": [
       "FloatProgress(value=0.0, bar_style='info', description='Progress:', layout=Layout(height='25px', width='50%'),…"
      ]
     },
     "metadata": {},
     "output_type": "display_data"
    }
   ],
   "source": [
    "history_window = 32\n",
    "prediction_gap = 3"
   ]
  },
  {
   "cell_type": "markdown",
   "metadata": {},
   "source": [
    "Now, let's define some `UDF` to calculate the `WINDOW_START` and `WINDOW_END` with respect to `DATE_TICKET`."
   ]
  },
  {
   "cell_type": "code",
   "execution_count": 112,
   "metadata": {},
   "outputs": [
    {
     "data": {
      "application/vnd.jupyter.widget-view+json": {
       "model_id": "",
       "version_major": 2,
       "version_minor": 0
      },
      "text/plain": [
       "FloatProgress(value=0.0, bar_style='info', description='Progress:', layout=Layout(height='25px', width='50%'),…"
      ]
     },
     "metadata": {},
     "output_type": "display_data"
    },
    {
     "name": "stdout",
     "output_type": "stream",
     "text": [
      "+-------------------+-------------------+-------------------+\n",
      "|  START_DATE_TICKET|       WINDOW_START|         WINDOW_END|\n",
      "+-------------------+-------------------+-------------------+\n",
      "|2020-08-29 13:51:36|2020-07-25 00:00:00|2020-08-25 00:00:00|\n",
      "|2020-10-09 08:39:58|2020-09-04 00:00:00|2020-10-05 00:00:00|\n",
      "|2020-06-26 20:44:39|2020-05-22 00:00:00|2020-06-22 00:00:00|\n",
      "|2020-07-02 11:09:45|2020-05-28 00:00:00|2020-06-28 00:00:00|\n",
      "|2020-08-18 13:59:42|2020-07-14 00:00:00|2020-08-14 00:00:00|\n",
      "+-------------------+-------------------+-------------------+\n",
      "only showing top 5 rows"
     ]
    }
   ],
   "source": [
    "from pyspark.sql.functions import udf\n",
    "\n",
    "def get_window_end(event_dt, prediction_gap):\n",
    "    \"\"\"Function to extrat the prediction gap to the date in which the ticket was raise.\n",
    "    \n",
    "    Arg:\n",
    "        event_dt (str): Date in which the ticket was raise\n",
    "        prediction_gap (int): Predction gap in days.\n",
    "    \n",
    "    Returns:\n",
    "        str: date of the window end.\n",
    "    \"\"\"\n",
    "    event_dt = datetime.strptime(str(event_dt), \"%Y-%m-%d %H:%M:%S\").date()\n",
    "    end_time_dt = (event_dt - timedelta(days=prediction_gap+1))\n",
    "    end_time = end_time_dt.strftime(\"%Y-%m-%d %H:%M:%S\")\n",
    "    return end_time\n",
    "\n",
    "\n",
    "def get_window_start(event_dt, window_plus_gap):\n",
    "    \"\"\"Function to extrat the prediction gap plus the window of historical data\n",
    "    to the date in which the ticket was raised.\n",
    "    \n",
    "    Arg:\n",
    "        event_dt (str): Date in which the ticket was raise\n",
    "        window_plus_gap (int): Prediction gap plus window of historical data in days.\n",
    "    \n",
    "    Returns:\n",
    "        str: date of the window start.\n",
    "    \"\"\"\n",
    "    event_dt = datetime.strptime(str(event_dt), \"%Y-%m-%d %H:%M:%S\").date()\n",
    "    start_time_dt = (event_dt - timedelta(days=window_plus_gap))\n",
    "    start_time = start_time_dt.strftime(\"%Y-%m-%d %H:%M:%S\")\n",
    "    return start_time\n",
    "\n",
    "def udf_window_end(prediction_gap):\n",
    "    \"\"\"User Defined Funtion to calculate the window end with respect to the\n",
    "    date in which the ticket was raised\"\"\"\n",
    "    return F.udf(lambda l: get_window_end(l,prediction_gap))\n",
    "\n",
    "\n",
    "def udf_window_start(window_plus_gap):\n",
    "    \"\"\"User Defined Funtion to calculate the window start with respect to the\n",
    "    date in which the ticket was raised\"\"\"\n",
    "    return F.udf(lambda l: get_window_start(l,window_plus_gap))\n",
    "\n",
    "\n",
    "df_cpe_repl_flt = df_cpe_repl_flt.withColumn(\"WINDOW_END\", udf_window_end(prediction_gap)(F.col(\"START_DATE_TICKET\")))\\\n",
    "                                .withColumn(\"WINDOW_START\", udf_window_start(prediction_gap+history_window)(F.col(\"START_DATE_TICKET\")))\n",
    "\n",
    "df_cpe_repl_flt.select('START_DATE_TICKET', 'WINDOW_START', 'WINDOW_END').show(5)"
   ]
  },
  {
   "cell_type": "code",
   "execution_count": 113,
   "metadata": {},
   "outputs": [
    {
     "data": {
      "application/vnd.jupyter.widget-view+json": {
       "model_id": "",
       "version_major": 2,
       "version_minor": 0
      },
      "text/plain": [
       "FloatProgress(value=0.0, bar_style='info', description='Progress:', layout=Layout(height='25px', width='50%'),…"
      ]
     },
     "metadata": {},
     "output_type": "display_data"
    }
   ],
   "source": [
    "df_cpe_repl_flt.write.format(\"parquet\").mode('overwrite').option(\"header\",\"true\").save(\"hdfs://nameservicedev1//user/dt_srajan/predictive_care/cpe_replacement/data_w32_g3/df_cpe_repl_flt_new\")\n"
   ]
  },
  {
   "cell_type": "markdown",
   "metadata": {},
   "source": [
    "## 8.2 Join `CPE` replacement  with history data <a class=\"anchor\" id=\"section_8_2\"></a>"
   ]
  },
  {
   "cell_type": "markdown",
   "metadata": {},
   "source": [
    "Let' Joins teh data and apply the respective windowing and filter thunderstorm"
   ]
  },
  {
   "cell_type": "code",
   "execution_count": 114,
   "metadata": {},
   "outputs": [
    {
     "data": {
      "application/vnd.jupyter.widget-view+json": {
       "model_id": "",
       "version_major": 2,
       "version_minor": 0
      },
      "text/plain": [
       "FloatProgress(value=0.0, bar_style='info', description='Progress:', layout=Layout(height='25px', width='50%'),…"
      ]
     },
     "metadata": {},
     "output_type": "display_data"
    },
    {
     "name": "stdout",
     "output_type": "stream",
     "text": [
      "root\n",
      " |-- assetid: integer (nullable = true)\n",
      " |-- date: date (nullable = true)\n",
      "\n",
      "('df_key - printSchema', None)"
     ]
    }
   ],
   "source": [
    "start_time, end_time = '2020-01-01', '2021-04-30'\n",
    "df_stats  = gather_data (start_time, end_time,spark)\n",
    "df_stats.write.format(\"parquet\").mode('overwrite').option(\"header\",\"true\").save(\"hdfs://nameservicedev1//user/dt_srajan/predictive_care/cpe_replacement/data_w32_g3/df_stats_new\")\n",
    "\n"
   ]
  },
  {
   "cell_type": "code",
   "execution_count": 115,
   "metadata": {},
   "outputs": [
    {
     "data": {
      "application/vnd.jupyter.widget-view+json": {
       "model_id": "",
       "version_major": 2,
       "version_minor": 0
      },
      "text/plain": [
       "FloatProgress(value=0.0, bar_style='info', description='Progress:', layout=Layout(height='25px', width='50%'),…"
      ]
     },
     "metadata": {},
     "output_type": "display_data"
    }
   ],
   "source": [
    "df_cpe_repl_flt =  spark.read.parquet(\"hdfs://nameservicedev1//user/dt_srajan/predictive_care/cpe_replacement/data_w32_g3/df_cpe_repl_flt_new\")\n",
    "df_stats = spark.read.parquet(\"hdfs://nameservicedev1//user/dt_srajan/predictive_care/cpe_replacement/data_w32_g3/df_stats_new\")\n"
   ]
  },
  {
   "cell_type": "code",
   "execution_count": 116,
   "metadata": {},
   "outputs": [
    {
     "data": {
      "application/vnd.jupyter.widget-view+json": {
       "model_id": "",
       "version_major": 2,
       "version_minor": 0
      },
      "text/plain": [
       "FloatProgress(value=0.0, bar_style='info', description='Progress:', layout=Layout(height='25px', width='50%'),…"
      ]
     },
     "metadata": {},
     "output_type": "display_data"
    },
    {
     "name": "stdout",
     "output_type": "stream",
     "text": [
      "root\n",
      " |-- CPE_SERIAL_NUMBER: string (nullable = true)\n",
      " |-- TICKET_ID: integer (nullable = true)\n",
      " |-- ASSET_ID: integer (nullable = true)\n",
      " |-- TICKET_TENTATIVE_ROOT_CAUSE: string (nullable = true)\n",
      " |-- START_DATE_TICKET: string (nullable = true)\n",
      " |-- DATE_SCAN_START: string (nullable = true)\n",
      " |-- DATE_SCAN_END: string (nullable = true)\n",
      " |-- CPE_ISSUE: string (nullable = true)\n",
      " |-- WINDOW_END: string (nullable = true)\n",
      " |-- WINDOW_START: string (nullable = true)"
     ]
    }
   ],
   "source": [
    "df_cpe_repl_flt.printSchema()"
   ]
  },
  {
   "cell_type": "code",
   "execution_count": 146,
   "metadata": {},
   "outputs": [
    {
     "data": {
      "application/vnd.jupyter.widget-view+json": {
       "model_id": "",
       "version_major": 2,
       "version_minor": 0
      },
      "text/plain": [
       "FloatProgress(value=0.0, bar_style='info', description='Progress:', layout=Layout(height='25px', width='50%'),…"
      ]
     },
     "metadata": {},
     "output_type": "display_data"
    }
   ],
   "source": [
    "#df_stats.printSchema()"
   ]
  },
  {
   "cell_type": "code",
   "execution_count": 117,
   "metadata": {},
   "outputs": [
    {
     "data": {
      "application/vnd.jupyter.widget-view+json": {
       "model_id": "",
       "version_major": 2,
       "version_minor": 0
      },
      "text/plain": [
       "FloatProgress(value=0.0, bar_style='info', description='Progress:', layout=Layout(height='25px', width='50%'),…"
      ]
     },
     "metadata": {},
     "output_type": "display_data"
    }
   ],
   "source": [
    "df_issues  = df_cpe_repl_flt.join(df_stats, [(df_cpe_repl_flt.ASSET_ID==df_stats.assetid)], how='inner')#df_stats.crm_assetId\n"
   ]
  },
  {
   "cell_type": "code",
   "execution_count": 118,
   "metadata": {},
   "outputs": [
    {
     "data": {
      "application/vnd.jupyter.widget-view+json": {
       "model_id": "",
       "version_major": 2,
       "version_minor": 0
      },
      "text/plain": [
       "FloatProgress(value=0.0, bar_style='info', description='Progress:', layout=Layout(height='25px', width='50%'),…"
      ]
     },
     "metadata": {},
     "output_type": "display_data"
    }
   ],
   "source": [
    "df_issues = df_issues.withColumn('WINDOW_END',F.unix_timestamp(F.col(\"WINDOW_END\"), \"yyyy-MM-dd HH:mm:ss\").cast(TimestampType())) \\\n",
    "                     .withColumn('WINDOW_START',F.unix_timestamp(F.col(\"WINDOW_START\"), \"yyyy-MM-dd HH:mm:ss\").cast(TimestampType())) \\\n",
    "                     .withColumn('datum',F.unix_timestamp(F.col(\"datum\"), \"yyyy-MM-dd\").cast(TimestampType()))\n",
    "        \n",
    "df_issues = df_issues.filter(F.col(\"WINDOW_START\")<=F.col(\"datum\"))\\\n",
    "                        .filter(F.col(\"WINDOW_END\")>= F.col(\"datum\")) \n",
    "\n",
    "df_issues = df_issues.filter(F.col('TICKET_TENTATIVE_ROOT_CAUSE')!='Grmljavina - 7')\n",
    "df_issues = df_issues.dropDuplicates()\n"
   ]
  },
  {
   "cell_type": "markdown",
   "metadata": {},
   "source": [
    "It looks great! lets save the Dataframe as parquet!"
   ]
  },
  {
   "cell_type": "code",
   "execution_count": 119,
   "metadata": {},
   "outputs": [
    {
     "data": {
      "application/vnd.jupyter.widget-view+json": {
       "model_id": "",
       "version_major": 2,
       "version_minor": 0
      },
      "text/plain": [
       "FloatProgress(value=0.0, bar_style='info', description='Progress:', layout=Layout(height='25px', width='50%'),…"
      ]
     },
     "metadata": {},
     "output_type": "display_data"
    }
   ],
   "source": [
    "df_issues.write.format(\"parquet\").mode('overwrite').option(\"header\",\"true\").save(\"hdfs://nameservicedev1//user/dt_srajan/predictive_care/cpe_replacement/data_w32_g3/df_issues_Jan2020_Apr2021_new\")\n"
   ]
  },
  {
   "cell_type": "markdown",
   "metadata": {},
   "source": [
    "# 9. Combine healthy +  issue CPE's and label them <a class=\"anchor\" id=\"chapter9\"></a>"
   ]
  },
  {
   "cell_type": "markdown",
   "metadata": {},
   "source": [
    "## 9.1 Read CPE's  with issue and healthy <a class=\"anchor\" id=\"section_9_1\"></a>"
   ]
  },
  {
   "cell_type": "code",
   "execution_count": 120,
   "metadata": {},
   "outputs": [
    {
     "data": {
      "application/vnd.jupyter.widget-view+json": {
       "model_id": "",
       "version_major": 2,
       "version_minor": 0
      },
      "text/plain": [
       "FloatProgress(value=0.0, bar_style='info', description='Progress:', layout=Layout(height='25px', width='50%'),…"
      ]
     },
     "metadata": {},
     "output_type": "display_data"
    }
   ],
   "source": [
    "df_issues = spark.read.parquet('hdfs://nameservicedev1//user/dt_srajan/predictive_care/cpe_replacement/data_w32_g3/df_issues_Jan2020_Apr2021_new')\n",
    "\n",
    "df_healthy = spark.read.parquet(\"hdfs://nameservicedev1//user/dt_srajan/predictive_care/cpe_replacement/data_w32_healthy/df_healty_sel_features_20k_new\")"
   ]
  },
  {
   "cell_type": "code",
   "execution_count": 121,
   "metadata": {},
   "outputs": [
    {
     "data": {
      "application/vnd.jupyter.widget-view+json": {
       "model_id": "",
       "version_major": 2,
       "version_minor": 0
      },
      "text/plain": [
       "FloatProgress(value=0.0, bar_style='info', description='Progress:', layout=Layout(height='25px', width='50%'),…"
      ]
     },
     "metadata": {},
     "output_type": "display_data"
    },
    {
     "name": "stdout",
     "output_type": "stream",
     "text": [
      "root\n",
      " |-- CPE_SERIAL_NUMBER: string (nullable = true)\n",
      " |-- TICKET_ID: integer (nullable = true)\n",
      " |-- ASSET_ID: integer (nullable = true)\n",
      " |-- TICKET_TENTATIVE_ROOT_CAUSE: string (nullable = true)\n",
      " |-- START_DATE_TICKET: string (nullable = true)\n",
      " |-- DATE_SCAN_START: string (nullable = true)\n",
      " |-- DATE_SCAN_END: string (nullable = true)\n",
      " |-- CPE_ISSUE: string (nullable = true)\n",
      " |-- WINDOW_END: timestamp (nullable = true)\n",
      " |-- WINDOW_START: timestamp (nullable = true)\n",
      " |-- assetid: integer (nullable = true)\n",
      " |-- dslam_distinct_modulation: long (nullable = true)\n",
      " |-- dslam_no_of_dominant_modulation: long (nullable = true)\n",
      " |-- dslam_code_of_dominant_modulation: float (nullable = true)\n",
      " |-- dslam_avg_bitrate_us: double (nullable = true)\n",
      " |-- dslam_avg_bitrate_ds: double (nullable = true)\n",
      " |-- dslam_avg_attenuation_ds: double (nullable = true)\n",
      " |-- dslam_avg_attenuation_us: double (nullable = true)\n",
      " |-- dslam_avg_power_us: double (nullable = true)\n",
      " |-- dslam_avg_power_ds: double (nullable = true)\n",
      " |-- dslam_avg_att_bitrate_us: double (nullable = true)\n",
      " |-- dslam_avg_att_bitrate_ds: double (nullable = true)\n",
      " |-- dslam_avg_snr_us: double (nullable = true)\n",
      " |-- dslam_avg_snr_ds: double (nullable = true)\n",
      " |-- dslam_no_counts: long (nullable = true)\n",
      " |-- dslam_avg_bandline_ds: double (nullable = true)\n",
      " |-- dslam_avg_bandline_us: double (nullable = true)\n",
      " |-- dslam_sum_cv_us: double (nullable = true)\n",
      " |-- dslam_count_cv_us: long (nullable = true)\n",
      " |-- dslam_sum_cv_ds: double (nullable = true)\n",
      " |-- dslam_count_cv_ds: long (nullable = true)\n",
      " |-- dslam_sum_es_ds: double (nullable = true)\n",
      " |-- dslam_count_es_ds: long (nullable = true)\n",
      " |-- dslam_sum_es_us: double (nullable = true)\n",
      " |-- dslam_count_es_us: long (nullable = true)\n",
      " |-- dslam_sum_ses_ds: double (nullable = true)\n",
      " |-- dslam_count_ses_ds: long (nullable = true)\n",
      " |-- dslam_sum_ses_us: double (nullable = true)\n",
      " |-- dslam_count_ses_us: long (nullable = true)\n",
      " |-- dslam_sum_fec_ds: double (nullable = true)\n",
      " |-- dslam_count_fec_ds: long (nullable = true)\n",
      " |-- dslam_sum_fec_us: double (nullable = true)\n",
      " |-- dslam_count_fec_us: long (nullable = true)\n",
      " |-- dslam_inits: long (nullable = true)\n",
      " |-- dslam_port_inst_id: integer (nullable = true)\n",
      " |-- dslam_rg_port_inst_id: integer (nullable = true)\n",
      " |-- dslam_prim_izvod_inst_id: integer (nullable = true)\n",
      " |-- snmp_no_lossoflink: long (nullable = true)\n",
      " |-- snmp_no_linkup: long (nullable = true)\n",
      " |-- snmp_no_dyinggasp: long (nullable = true)\n",
      " |-- acs_xdslline_dslUptime: long (nullable = true)\n",
      " |-- acs_xdslline_cpeUptime: long (nullable = true)\n",
      " |-- acs_xdslline_cpuUsagePercentage: long (nullable = true)\n",
      " |-- acs_xdslline_freeMemoryKb: long (nullable = true)\n",
      " |-- acs_xdslline_totalMemoryKb: long (nullable = true)\n",
      " |-- acs_xdslline_usedMemoryKb: long (nullable = true)\n",
      " |-- acs_xdslline_natCurrent: long (nullable = true)\n",
      " |-- acs_xdslline_natMax: long (nullable = true)\n",
      " |-- acs_xdslline_crc: long (nullable = true)\n",
      " |-- acs_xdslline_fec: long (nullable = true)\n",
      " |-- acs_xdslline_hec: long (nullable = true)\n",
      " |-- acs_xdslline_cellDelin: long (nullable = true)\n",
      " |-- acs_xdslline_erroredSecs: long (nullable = true)\n",
      " |-- acs_xdslline_initErrors: long (nullable = true)\n",
      " |-- acs_xdslline_initTimeOuts: long (nullable = true)\n",
      " |-- acs_xdslline_severelyErroredSecs: long (nullable = true)\n",
      " |-- acs_xdslline_linkRetrain: long (nullable = true)\n",
      " |-- acs_xdslline_lossOfFraming: long (nullable = true)\n",
      " |-- acs_xdslline_lossOfPower: long (nullable = true)\n",
      " |-- acs_xdslline_transmitBlocks: long (nullable = true)\n",
      " |-- acs_xdslline_receiveBlocks: long (nullable = true)\n",
      " |-- acs_xdslline_downAttenuationDb: long (nullable = true)\n",
      " |-- acs_xdslline_downCurrRateKbps: long (nullable = true)\n",
      " |-- acs_xdslline_downMaxRateKbps: long (nullable = true)\n",
      " |-- acs_xdslline_downNoiseMarginDb: long (nullable = true)\n",
      " |-- acs_xdslline_downPowerDbm: long (nullable = true)\n",
      " |-- acs_xdslline_upAttenuationDb: long (nullable = true)\n",
      " |-- acs_xdslline_upCurrRateKbps: long (nullable = true)\n",
      " |-- acs_xdslline_upMaxRateKbps: long (nullable = true)\n",
      " |-- acs_xdslline_upNoiseMarginDb: long (nullable = true)\n",
      " |-- acs_xdslline_upPowerDbm: long (nullable = true)\n",
      " |-- acs_xdslline_atuccrc: long (nullable = true)\n",
      " |-- acs_xdslline_atucfec: long (nullable = true)\n",
      " |-- acs_xdslline_atuchec: long (nullable = true)\n",
      " |-- datum: timestamp (nullable = true)\n",
      " |-- dslam_date_inserted: timestamp (nullable = true)\n",
      " |-- dslam_platforma: string (nullable = true)\n",
      " |-- dslam_model: string (nullable = true)\n",
      " |-- dslam_card_type: string (nullable = true)\n",
      " |-- dslam_status_porta: string (nullable = true)\n",
      " |-- dslam_bandwidth: string (nullable = true)\n",
      " |-- dslam_vdsl_adsl: string (nullable = true)\n",
      " |-- dslam_vendor: string (nullable = true)\n",
      " |-- dslam_status: string (nullable = true)\n",
      " |-- dslam_internet: string (nullable = true)\n",
      " |-- dslam_iptv: string (nullable = true)\n",
      " |-- dslam_voip: string (nullable = true)\n",
      " |-- dslam_regija: string (nullable = true)\n",
      " |-- acs_@type: string (nullable = true)\n",
      " |-- acs_status: string (nullable = true)\n",
      " |-- acs_description: string (nullable = true)\n",
      " |-- acs_crm_accessNetwork: string (nullable = true)\n",
      " |-- acs_crm_dslamFrame: string (nullable = true)\n",
      " |-- acs_crm_dslamSlot: string (nullable = true)\n",
      " |-- acs_crm_serviceName: string (nullable = true)\n",
      " |-- acs_xdslline_manufacturer: string (nullable = true)\n",
      " |-- acs_xdslline_manufacturerOui: string (nullable = true)\n",
      " |-- acs_xdslline_softwareVersion: string (nullable = true)\n",
      " |-- acs_xdslline_additionalSoftwareVersion: string (nullable = true)\n",
      " |-- acs_xdslline_anexType: string (nullable = true)\n",
      " |-- acs_xdslline_dslType: string (nullable = true)\n",
      " |-- acs_xdslline_linkEncapsulationType: string (nullable = true)\n",
      " |-- acs_xdslline_pppoEConnectionStatus: string (nullable = true)\n",
      " |-- acs_xdslline_pppoELastConnectionError: string (nullable = true)\n",
      " |-- acs_xdslline_pppoENATEnabled: string (nullable = true)\n",
      " |-- acs_xdslline_pppoEUsername: string (nullable = true)\n",
      " |-- acs_createdmsec: string (nullable = true)\n",
      " |-- cpetype: string (nullable = true)"
     ]
    }
   ],
   "source": [
    "df_issues.printSchema()"
   ]
  },
  {
   "cell_type": "code",
   "execution_count": 122,
   "metadata": {},
   "outputs": [
    {
     "data": {
      "application/vnd.jupyter.widget-view+json": {
       "model_id": "",
       "version_major": 2,
       "version_minor": 0
      },
      "text/plain": [
       "FloatProgress(value=0.0, bar_style='info', description='Progress:', layout=Layout(height='25px', width='50%'),…"
      ]
     },
     "metadata": {},
     "output_type": "display_data"
    },
    {
     "name": "stdout",
     "output_type": "stream",
     "text": [
      "13853"
     ]
    }
   ],
   "source": [
    "df_issues.select('asset_id').distinct().count()"
   ]
  },
  {
   "cell_type": "code",
   "execution_count": 275,
   "metadata": {},
   "outputs": [
    {
     "data": {
      "application/vnd.jupyter.widget-view+json": {
       "model_id": "",
       "version_major": 2,
       "version_minor": 0
      },
      "text/plain": [
       "FloatProgress(value=0.0, bar_style='info', description='Progress:', layout=Layout(height='25px', width='50%'),…"
      ]
     },
     "metadata": {},
     "output_type": "display_data"
    }
   ],
   "source": [
    "#a = df_issues.groupby('asset_id').agg(F.count('asset_id').alias('cnt'))"
   ]
  },
  {
   "cell_type": "code",
   "execution_count": 281,
   "metadata": {},
   "outputs": [
    {
     "data": {
      "application/vnd.jupyter.widget-view+json": {
       "model_id": "",
       "version_major": 2,
       "version_minor": 0
      },
      "text/plain": [
       "FloatProgress(value=0.0, bar_style='info', description='Progress:', layout=Layout(height='25px', width='50%'),…"
      ]
     },
     "metadata": {},
     "output_type": "display_data"
    }
   ],
   "source": [
    "#a = a.filter(a.cnt < 32).select('asset_id', 'cnt')"
   ]
  },
  {
   "cell_type": "code",
   "execution_count": 282,
   "metadata": {},
   "outputs": [
    {
     "data": {
      "application/vnd.jupyter.widget-view+json": {
       "model_id": "",
       "version_major": 2,
       "version_minor": 0
      },
      "text/plain": [
       "FloatProgress(value=0.0, bar_style='info', description='Progress:', layout=Layout(height='25px', width='50%'),…"
      ]
     },
     "metadata": {},
     "output_type": "display_data"
    },
    {
     "name": "stdout",
     "output_type": "stream",
     "text": [
      "+--------+---+\n",
      "|asset_id|cnt|\n",
      "+--------+---+\n",
      "|32075047| 29|\n",
      "|77081221| 31|\n",
      "|87525043| 31|\n",
      "|61615062| 29|\n",
      "|46717835| 31|\n",
      "|66094686| 30|\n",
      "|84293478| 30|\n",
      "+--------+---+"
     ]
    }
   ],
   "source": [
    "#a.show()"
   ]
  },
  {
   "cell_type": "code",
   "execution_count": 124,
   "metadata": {},
   "outputs": [
    {
     "data": {
      "application/vnd.jupyter.widget-view+json": {
       "model_id": "",
       "version_major": 2,
       "version_minor": 0
      },
      "text/plain": [
       "FloatProgress(value=0.0, bar_style='info', description='Progress:', layout=Layout(height='25px', width='50%'),…"
      ]
     },
     "metadata": {},
     "output_type": "display_data"
    },
    {
     "name": "stdout",
     "output_type": "stream",
     "text": [
      "118"
     ]
    }
   ],
   "source": [
    "print(len(df_issues.columns))"
   ]
  },
  {
   "cell_type": "markdown",
   "metadata": {},
   "source": [
    "## 9.2 Add dummy columns to df_healthy <a class=\"anchor\" id=\"section_9_2\"></a>"
   ]
  },
  {
   "cell_type": "markdown",
   "metadata": {},
   "source": [
    "We are adding this to make sure the columns are aligned with issues. Thihs is required as we will union healthy and issues \n",
    "dataframe later. Also create a lable `healthy` under `CPE_ISSUE` type for healthy cpes. This is label for ml model"
   ]
  },
  {
   "cell_type": "code",
   "execution_count": 125,
   "metadata": {},
   "outputs": [
    {
     "data": {
      "application/vnd.jupyter.widget-view+json": {
       "model_id": "",
       "version_major": 2,
       "version_minor": 0
      },
      "text/plain": [
       "FloatProgress(value=0.0, bar_style='info', description='Progress:', layout=Layout(height='25px', width='50%'),…"
      ]
     },
     "metadata": {},
     "output_type": "display_data"
    }
   ],
   "source": [
    "from pyspark.sql.functions import lit\n",
    "df_healthy = df_healthy.withColumn('CPE_SERIAL_NUMBER', lit(None).cast(types.StringType()))\\\n",
    "                        .withColumn('TICKET_ID', lit(None).cast(types.IntegerType()))\\\n",
    "                        .withColumn('ASSET_ID', lit(None).cast(types.IntegerType()))\\\n",
    "                        .withColumn('TICKET_TENTATIVE_ROOT_CAUSE', lit(None).cast(types.StringType()))\\\n",
    "                        .withColumn('START_DATE_TICKET', lit(None).cast(types.StringType()))\\\n",
    "                        .withColumn('DATE_SCAN_START', lit(None).cast(types.StringType()))\\\n",
    "                        .withColumn('DATE_SCAN_END', lit(None).cast(types.StringType()))\\\n",
    "                        .withColumn('CPE_ISSUE', lit('healthy').cast(types.StringType()))\\\n",
    "                        .withColumn('WINDOW_END', lit(None).cast(types.StringType()))\\\n",
    "                        .withColumn('WINDOW_START', lit(None).cast(types.StringType()))\n",
    "                    "
   ]
  },
  {
   "cell_type": "code",
   "execution_count": 126,
   "metadata": {},
   "outputs": [
    {
     "data": {
      "application/vnd.jupyter.widget-view+json": {
       "model_id": "",
       "version_major": 2,
       "version_minor": 0
      },
      "text/plain": [
       "FloatProgress(value=0.0, bar_style='info', description='Progress:', layout=Layout(height='25px', width='50%'),…"
      ]
     },
     "metadata": {},
     "output_type": "display_data"
    },
    {
     "name": "stdout",
     "output_type": "stream",
     "text": [
      "118"
     ]
    }
   ],
   "source": [
    "print(len(df_healthy.columns))"
   ]
  },
  {
   "cell_type": "code",
   "execution_count": 127,
   "metadata": {},
   "outputs": [
    {
     "data": {
      "application/vnd.jupyter.widget-view+json": {
       "model_id": "",
       "version_major": 2,
       "version_minor": 0
      },
      "text/plain": [
       "FloatProgress(value=0.0, bar_style='info', description='Progress:', layout=Layout(height='25px', width='50%'),…"
      ]
     },
     "metadata": {},
     "output_type": "display_data"
    }
   ],
   "source": [
    "df_healthy = df_healthy.select(df_issues.columns)"
   ]
  },
  {
   "cell_type": "markdown",
   "metadata": {},
   "source": [
    "## 9.3 Concatenate issue and healthy CPE's <a class=\"anchor\" id=\"section_9_3\"></a>"
   ]
  },
  {
   "cell_type": "code",
   "execution_count": 128,
   "metadata": {},
   "outputs": [
    {
     "data": {
      "application/vnd.jupyter.widget-view+json": {
       "model_id": "",
       "version_major": 2,
       "version_minor": 0
      },
      "text/plain": [
       "FloatProgress(value=0.0, bar_style='info', description='Progress:', layout=Layout(height='25px', width='50%'),…"
      ]
     },
     "metadata": {},
     "output_type": "display_data"
    }
   ],
   "source": [
    "df_con = df_healthy.union(df_issues)\n"
   ]
  },
  {
   "cell_type": "code",
   "execution_count": 129,
   "metadata": {},
   "outputs": [
    {
     "data": {
      "application/vnd.jupyter.widget-view+json": {
       "model_id": "",
       "version_major": 2,
       "version_minor": 0
      },
      "text/plain": [
       "FloatProgress(value=0.0, bar_style='info', description='Progress:', layout=Layout(height='25px', width='50%'),…"
      ]
     },
     "metadata": {},
     "output_type": "display_data"
    },
    {
     "name": "stdout",
     "output_type": "stream",
     "text": [
      "33853"
     ]
    }
   ],
   "source": [
    "df_con.select('assetid').distinct().count()"
   ]
  },
  {
   "cell_type": "markdown",
   "metadata": {},
   "source": [
    "## 9.4 Check for No thunderstorm <a class=\"anchor\" id=\"section_9_4\"></a>"
   ]
  },
  {
   "cell_type": "markdown",
   "metadata": {},
   "source": [
    "Thunderstorm evenets are removed in the before section to reduce effort, but lets make sure there are no thunderstorm events "
   ]
  },
  {
   "cell_type": "code",
   "execution_count": 130,
   "metadata": {},
   "outputs": [
    {
     "data": {
      "application/vnd.jupyter.widget-view+json": {
       "model_id": "",
       "version_major": 2,
       "version_minor": 0
      },
      "text/plain": [
       "FloatProgress(value=0.0, bar_style='info', description='Progress:', layout=Layout(height='25px', width='50%'),…"
      ]
     },
     "metadata": {},
     "output_type": "display_data"
    },
    {
     "name": "stdout",
     "output_type": "stream",
     "text": [
      "+--------------------------------------------------------------------------------+\n",
      "|TICKET_TENTATIVE_ROOT_CAUSE                                                     |\n",
      "+--------------------------------------------------------------------------------+\n",
      "|slab/lo mobilni signal jer korisnik ne dozvoljava instalaciju vanjske antene - |\n",
      "|Nije utvrðen uzrok smetnje - 19                                                 |\n",
      "|slab/lo mobilni signal - 83                                                    |\n",
      "|NetCool alarm                                                                   |\n",
      "|Padaline (kia, snijeg, tuèa) - 45                                              |\n",
      "|null                                                                            |\n",
      "|Blokada - 39                                                                    |\n",
      "|Pogreka u konfiguraciji - 44                                                   |\n",
      "|Greka korisnièkog raèuna - 31                                                  |\n",
      "|Nepoznato                                                                       |\n",
      "|instalacija vanjske antene nije moguæa ili nema dobitka - 86                    |\n",
      "|Oteæenje zbog radova (Nisu radovi T-HT-a) - 35                                 |\n",
      "|Prevelika udaljenost od centrale - 42                                           |\n",
      "|Ispad naponske mree - 47                                                       |\n",
      "|Nestruèno rukovanje (korisnik) - 10                                             |\n",
      "|Oksidacija - 13                                                                 |\n",
      "|Neispravno kabliranje - 34                                                      |\n",
      "|Neispravna oprema ? DVB-T u IPTV STB-u - 81                                     |\n",
      "|Prekid; odvod; kratki spoj - 38                                                 |\n",
      "|neispravna konfiguracija za HA (kad se netoèni podaci spuste u HA HGW IAD putem |\n",
      "|Oteæenje zbog radova HT-a - 3                                                  |\n",
      "|Dotrajalost - 1                                                                 |\n",
      "|Neispravna oprema - 33                                                          |\n",
      "|Vjetar - 64                                                                     |\n",
      "+--------------------------------------------------------------------------------+"
     ]
    }
   ],
   "source": [
    "df_con.select('TICKET_TENTATIVE_ROOT_CAUSE').distinct().show(100, truncate=False)"
   ]
  },
  {
   "cell_type": "markdown",
   "metadata": {},
   "source": [
    "## 9.5 Get list of distinct issue types, to add new columns <a class=\"anchor\" id=\"section_9_5\"></a>"
   ]
  },
  {
   "cell_type": "code",
   "execution_count": 131,
   "metadata": {},
   "outputs": [
    {
     "data": {
      "application/vnd.jupyter.widget-view+json": {
       "model_id": "",
       "version_major": 2,
       "version_minor": 0
      },
      "text/plain": [
       "FloatProgress(value=0.0, bar_style='info', description='Progress:', layout=Layout(height='25px', width='50%'),…"
      ]
     },
     "metadata": {},
     "output_type": "display_data"
    }
   ],
   "source": [
    "from pyspark.sql.functions import udf\n",
    "\n",
    "#Read the refurb data\n",
    "path_cpe_refurbishment = \"hdfs://nameservicedev1//user/dt_srajan/predictive_care/replacement/CPE_refurbishment_2020_2021.csv\"\n",
    "df_refurb = spark.read.option(\"encoding\", \"ISO-8859-1\").option(\"inferSchema\", \"true\").csv(path_cpe_refurbishment,header = True,sep=\",\")\n",
    "df_refurb = df_refurb.withColumnRenamed('Vrsta kvara', 'Vrsta_kvara')\n",
    "\n",
    "#Remove spaces in issue types\n",
    "#spaceDeleteUDF = udf(lambda s: s.replace(\"/ \", \"/\"), types.StringType())\n",
    "#df_refurb = df_refurb.withColumn(\"Vrsta_kvara\", spaceDeleteUDF(\"Vrsta_kvara\"))\n",
    "\n",
    "#Remove null type issues\n",
    "df_refurb = df_refurb.filter(df_refurb.Vrsta_kvara != 'NULL')\n",
    "\n",
    "#transalate to english\n",
    "df_refurb = df_refurb.withColumn('Vrsta_kvara', F.regexp_replace('Vrsta_kvara', 'Napajanje', 'power_supply')) \\\n",
    "     .withColumn('Vrsta_kvara', F.regexp_replace('Vrsta_kvara', 'ZnaÄajno fiziÄko oÅ¡teÄenje - nepopravljivo', 'significant_physical_damage_irreparable')) \\\n",
    "     .withColumn('Vrsta_kvara', F.regexp_replace('Vrsta_kvara', 'Ne prijavljuje se u ACS', 'does_not_log_into_acs')) \\\n",
    "     .withColumn('Vrsta_kvara', F.regexp_replace('Vrsta_kvara', 'Reset ne radi', 'reset_not_work')) \\\n",
    "     .withColumn('Vrsta_kvara', F.regexp_replace('Vrsta_kvara', 'Manje fiziÄko ili toplinsko oÅ¡teÄenje', 'minor_physical_thermal_damage')) \\\n",
    "     .withColumn('Vrsta_kvara', F.regexp_replace('Vrsta_kvara', 'Ispravan', 'no_problem')) \\\n",
    "     .withColumn('Vrsta_kvara', F.regexp_replace('Vrsta_kvara', 'OptiÄki port', 'optical_port')) \\\n",
    "     .withColumn('Vrsta_kvara', F.regexp_replace('Vrsta_kvara', 'SIM utor', 'sim_slot')) \\\n",
    "     .withColumn('Vrsta_kvara', F.regexp_replace('Vrsta_kvara', 'WIFI', 'wifi')) \\\n",
    "     .withColumn('Vrsta_kvara', F.regexp_replace('Vrsta_kvara', 'Blokiran', 'blocked')) \\\n",
    "     .withColumn('Vrsta_kvara', F.regexp_replace('Vrsta_kvara', 'Resetira se sam', 'reset_itself')) \\\n",
    "     .withColumn('Vrsta_kvara', F.regexp_replace('Vrsta_kvara', 'Internet ne radi', 'internet_not_working')) \\\n",
    "     .withColumn('Vrsta_kvara', F.regexp_replace('Vrsta_kvara', 'DSL port', 'dsl_port')) \\\n",
    "     .withColumn('Vrsta_kvara', F.regexp_replace('Vrsta_kvara', 'Pregrijavanje ureÄaja', 'device_overheating')) \\\n",
    "     .withColumn('Vrsta_kvara', F.regexp_replace('Vrsta_kvara', 'LAN port', 'lan_port')) \\\n",
    "     .withColumn('Vrsta_kvara', F.regexp_replace('Vrsta_kvara', 'Slaba brzina', 'poor_speed')) \\\n",
    "     .withColumn('Vrsta_kvara', F.regexp_replace('Vrsta_kvara', 'Telefon port', 'telefon_port')) \\\n",
    "     .withColumn('Vrsta_kvara', F.regexp_replace('Vrsta_kvara', 'Software', 'software'))\n",
    "\n",
    "#Convert column to arry type having one or more issues\n",
    "df_refurb = df_refurb.withColumn(\"Vrsta_kvara\", F.split(\"Vrsta_kvara\", \"/ \")).select('Vrsta_kvara').distinct() #/\n",
    "\n",
    "#Collect all column values to list\n",
    "issue_list = df_refurb.select(F.collect_set('Vrsta_kvara').alias('Vrsta_kvara')).first()['Vrsta_kvara']\n",
    "\n",
    "#Flat the list\n",
    "issue_flat_list = ['healthy']\n",
    "for sublist in issue_list:\n",
    "    for item in sublist:\n",
    "        issue_flat_list.append(item)\n",
    "issue_flat_list = list(set(issue_flat_list))\n",
    "\n",
    "#issue_flat_list is the list of new columns that has to be added\n"
   ]
  },
  {
   "cell_type": "code",
   "execution_count": 132,
   "metadata": {},
   "outputs": [
    {
     "data": {
      "application/vnd.jupyter.widget-view+json": {
       "model_id": "",
       "version_major": 2,
       "version_minor": 0
      },
      "text/plain": [
       "FloatProgress(value=0.0, bar_style='info', description='Progress:', layout=Layout(height='25px', width='50%'),…"
      ]
     },
     "metadata": {},
     "output_type": "display_data"
    },
    {
     "name": "stdout",
     "output_type": "stream",
     "text": [
      "[u'internet_not_working', u'optical_port', u'reset_not_work', u'sim_slot', u'no_problem', 'healthy', u'reset_itself', u'wifi', u'significant_physical_damage_irreparable', u'lan_port', u'telefon_port', u'blocked', u'device_overheating', u'poor_speed', u'does_not_log_into_acs', u'software', u'dsl_port', u'minor_physical_thermal_damage', u'power_supply']"
     ]
    }
   ],
   "source": [
    "issue_flat_list"
   ]
  },
  {
   "cell_type": "code",
   "execution_count": 133,
   "metadata": {},
   "outputs": [
    {
     "data": {
      "application/vnd.jupyter.widget-view+json": {
       "model_id": "",
       "version_major": 2,
       "version_minor": 0
      },
      "text/plain": [
       "FloatProgress(value=0.0, bar_style='info', description='Progress:', layout=Layout(height='25px', width='50%'),…"
      ]
     },
     "metadata": {},
     "output_type": "display_data"
    },
    {
     "name": "stdout",
     "output_type": "stream",
     "text": [
      "[u'internet_not_working', u'optical_port', u'reset_not_work', u'sim_slot', u'no_problem', 'healthy', u'reset_itself', u'wifi', u'significant_physical_damage_irreparable', u'lan_port', u'telefon_port', u'blocked', u'device_overheating', u'poor_speed', u'does_not_log_into_acs', u'software', u'dsl_port', u'minor_physical_thermal_damage', u'power_supply']"
     ]
    }
   ],
   "source": [
    "issue_flat_list"
   ]
  },
  {
   "cell_type": "markdown",
   "metadata": {},
   "source": [
    "## 9.6 Add columns to the df and assign default values for now <a class=\"anchor\" id=\"section_9_6\"></a>"
   ]
  },
  {
   "cell_type": "code",
   "execution_count": 134,
   "metadata": {},
   "outputs": [
    {
     "data": {
      "application/vnd.jupyter.widget-view+json": {
       "model_id": "",
       "version_major": 2,
       "version_minor": 0
      },
      "text/plain": [
       "FloatProgress(value=0.0, bar_style='info', description='Progress:', layout=Layout(height='25px', width='50%'),…"
      ]
     },
     "metadata": {},
     "output_type": "display_data"
    }
   ],
   "source": [
    "for new_col in issue_flat_list:\n",
    "    df_con = df_con.withColumn('label_'+new_col, F.lit(0))\n"
   ]
  },
  {
   "cell_type": "code",
   "execution_count": 135,
   "metadata": {},
   "outputs": [
    {
     "data": {
      "application/vnd.jupyter.widget-view+json": {
       "model_id": "",
       "version_major": 2,
       "version_minor": 0
      },
      "text/plain": [
       "FloatProgress(value=0.0, bar_style='info', description='Progress:', layout=Layout(height='25px', width='50%'),…"
      ]
     },
     "metadata": {},
     "output_type": "display_data"
    },
    {
     "name": "stdout",
     "output_type": "stream",
     "text": [
      "root\n",
      " |-- CPE_SERIAL_NUMBER: string (nullable = true)\n",
      " |-- TICKET_ID: integer (nullable = true)\n",
      " |-- ASSET_ID: integer (nullable = true)\n",
      " |-- TICKET_TENTATIVE_ROOT_CAUSE: string (nullable = true)\n",
      " |-- START_DATE_TICKET: string (nullable = true)\n",
      " |-- DATE_SCAN_START: string (nullable = true)\n",
      " |-- DATE_SCAN_END: string (nullable = true)\n",
      " |-- CPE_ISSUE: string (nullable = true)\n",
      " |-- WINDOW_END: string (nullable = true)\n",
      " |-- WINDOW_START: string (nullable = true)\n",
      " |-- assetid: string (nullable = true)\n",
      " |-- dslam_distinct_modulation: long (nullable = true)\n",
      " |-- dslam_no_of_dominant_modulation: long (nullable = true)\n",
      " |-- dslam_code_of_dominant_modulation: float (nullable = true)\n",
      " |-- dslam_avg_bitrate_us: double (nullable = true)\n",
      " |-- dslam_avg_bitrate_ds: double (nullable = true)\n",
      " |-- dslam_avg_attenuation_ds: double (nullable = true)\n",
      " |-- dslam_avg_attenuation_us: double (nullable = true)\n",
      " |-- dslam_avg_power_us: double (nullable = true)\n",
      " |-- dslam_avg_power_ds: double (nullable = true)\n",
      " |-- dslam_avg_att_bitrate_us: double (nullable = true)\n",
      " |-- dslam_avg_att_bitrate_ds: double (nullable = true)\n",
      " |-- dslam_avg_snr_us: double (nullable = true)\n",
      " |-- dslam_avg_snr_ds: double (nullable = true)\n",
      " |-- dslam_no_counts: long (nullable = true)\n",
      " |-- dslam_avg_bandline_ds: double (nullable = true)\n",
      " |-- dslam_avg_bandline_us: double (nullable = true)\n",
      " |-- dslam_sum_cv_us: double (nullable = true)\n",
      " |-- dslam_count_cv_us: long (nullable = true)\n",
      " |-- dslam_sum_cv_ds: double (nullable = true)\n",
      " |-- dslam_count_cv_ds: long (nullable = true)\n",
      " |-- dslam_sum_es_ds: double (nullable = true)\n",
      " |-- dslam_count_es_ds: long (nullable = true)\n",
      " |-- dslam_sum_es_us: double (nullable = true)\n",
      " |-- dslam_count_es_us: long (nullable = true)\n",
      " |-- dslam_sum_ses_ds: double (nullable = true)\n",
      " |-- dslam_count_ses_ds: long (nullable = true)\n",
      " |-- dslam_sum_ses_us: double (nullable = true)\n",
      " |-- dslam_count_ses_us: long (nullable = true)\n",
      " |-- dslam_sum_fec_ds: double (nullable = true)\n",
      " |-- dslam_count_fec_ds: long (nullable = true)\n",
      " |-- dslam_sum_fec_us: double (nullable = true)\n",
      " |-- dslam_count_fec_us: long (nullable = true)\n",
      " |-- dslam_inits: long (nullable = true)\n",
      " |-- dslam_port_inst_id: integer (nullable = true)\n",
      " |-- dslam_rg_port_inst_id: integer (nullable = true)\n",
      " |-- dslam_prim_izvod_inst_id: integer (nullable = true)\n",
      " |-- snmp_no_lossoflink: long (nullable = true)\n",
      " |-- snmp_no_linkup: long (nullable = true)\n",
      " |-- snmp_no_dyinggasp: long (nullable = true)\n",
      " |-- acs_xdslline_dslUptime: long (nullable = true)\n",
      " |-- acs_xdslline_cpeUptime: long (nullable = true)\n",
      " |-- acs_xdslline_cpuUsagePercentage: long (nullable = true)\n",
      " |-- acs_xdslline_freeMemoryKb: long (nullable = true)\n",
      " |-- acs_xdslline_totalMemoryKb: long (nullable = true)\n",
      " |-- acs_xdslline_usedMemoryKb: long (nullable = true)\n",
      " |-- acs_xdslline_natCurrent: long (nullable = true)\n",
      " |-- acs_xdslline_natMax: long (nullable = true)\n",
      " |-- acs_xdslline_crc: long (nullable = true)\n",
      " |-- acs_xdslline_fec: long (nullable = true)\n",
      " |-- acs_xdslline_hec: long (nullable = true)\n",
      " |-- acs_xdslline_cellDelin: long (nullable = true)\n",
      " |-- acs_xdslline_erroredSecs: long (nullable = true)\n",
      " |-- acs_xdslline_initErrors: long (nullable = true)\n",
      " |-- acs_xdslline_initTimeOuts: long (nullable = true)\n",
      " |-- acs_xdslline_severelyErroredSecs: long (nullable = true)\n",
      " |-- acs_xdslline_linkRetrain: long (nullable = true)\n",
      " |-- acs_xdslline_lossOfFraming: long (nullable = true)\n",
      " |-- acs_xdslline_lossOfPower: long (nullable = true)\n",
      " |-- acs_xdslline_transmitBlocks: long (nullable = true)\n",
      " |-- acs_xdslline_receiveBlocks: long (nullable = true)\n",
      " |-- acs_xdslline_downAttenuationDb: long (nullable = true)\n",
      " |-- acs_xdslline_downCurrRateKbps: long (nullable = true)\n",
      " |-- acs_xdslline_downMaxRateKbps: long (nullable = true)\n",
      " |-- acs_xdslline_downNoiseMarginDb: long (nullable = true)\n",
      " |-- acs_xdslline_downPowerDbm: long (nullable = true)\n",
      " |-- acs_xdslline_upAttenuationDb: long (nullable = true)\n",
      " |-- acs_xdslline_upCurrRateKbps: long (nullable = true)\n",
      " |-- acs_xdslline_upMaxRateKbps: long (nullable = true)\n",
      " |-- acs_xdslline_upNoiseMarginDb: long (nullable = true)\n",
      " |-- acs_xdslline_upPowerDbm: long (nullable = true)\n",
      " |-- acs_xdslline_atuccrc: long (nullable = true)\n",
      " |-- acs_xdslline_atucfec: long (nullable = true)\n",
      " |-- acs_xdslline_atuchec: long (nullable = true)\n",
      " |-- datum: timestamp (nullable = true)\n",
      " |-- dslam_date_inserted: timestamp (nullable = true)\n",
      " |-- dslam_platforma: string (nullable = true)\n",
      " |-- dslam_model: string (nullable = true)\n",
      " |-- dslam_card_type: string (nullable = true)\n",
      " |-- dslam_status_porta: string (nullable = true)\n",
      " |-- dslam_bandwidth: string (nullable = true)\n",
      " |-- dslam_vdsl_adsl: string (nullable = true)\n",
      " |-- dslam_vendor: string (nullable = true)\n",
      " |-- dslam_status: string (nullable = true)\n",
      " |-- dslam_internet: string (nullable = true)\n",
      " |-- dslam_iptv: string (nullable = true)\n",
      " |-- dslam_voip: string (nullable = true)\n",
      " |-- dslam_regija: string (nullable = true)\n",
      " |-- acs_@type: string (nullable = true)\n",
      " |-- acs_status: string (nullable = true)\n",
      " |-- acs_description: string (nullable = true)\n",
      " |-- acs_crm_accessNetwork: string (nullable = true)\n",
      " |-- acs_crm_dslamFrame: string (nullable = true)\n",
      " |-- acs_crm_dslamSlot: string (nullable = true)\n",
      " |-- acs_crm_serviceName: string (nullable = true)\n",
      " |-- acs_xdslline_manufacturer: string (nullable = true)\n",
      " |-- acs_xdslline_manufacturerOui: string (nullable = true)\n",
      " |-- acs_xdslline_softwareVersion: string (nullable = true)\n",
      " |-- acs_xdslline_additionalSoftwareVersion: string (nullable = true)\n",
      " |-- acs_xdslline_anexType: string (nullable = true)\n",
      " |-- acs_xdslline_dslType: string (nullable = true)\n",
      " |-- acs_xdslline_linkEncapsulationType: string (nullable = true)\n",
      " |-- acs_xdslline_pppoEConnectionStatus: string (nullable = true)\n",
      " |-- acs_xdslline_pppoELastConnectionError: string (nullable = true)\n",
      " |-- acs_xdslline_pppoENATEnabled: string (nullable = true)\n",
      " |-- acs_xdslline_pppoEUsername: string (nullable = true)\n",
      " |-- acs_createdmsec: string (nullable = true)\n",
      " |-- cpetype: string (nullable = true)\n",
      " |-- label_internet_not_working: integer (nullable = false)\n",
      " |-- label_optical_port: integer (nullable = false)\n",
      " |-- label_reset_not_work: integer (nullable = false)\n",
      " |-- label_sim_slot: integer (nullable = false)\n",
      " |-- label_no_problem: integer (nullable = false)\n",
      " |-- label_healthy: integer (nullable = false)\n",
      " |-- label_reset_itself: integer (nullable = false)\n",
      " |-- label_wifi: integer (nullable = false)\n",
      " |-- label_significant_physical_damage_irreparable: integer (nullable = false)\n",
      " |-- label_lan_port: integer (nullable = false)\n",
      " |-- label_telefon_port: integer (nullable = false)\n",
      " |-- label_blocked: integer (nullable = false)\n",
      " |-- label_device_overheating: integer (nullable = false)\n",
      " |-- label_poor_speed: integer (nullable = false)\n",
      " |-- label_does_not_log_into_acs: integer (nullable = false)\n",
      " |-- label_software: integer (nullable = false)\n",
      " |-- label_dsl_port: integer (nullable = false)\n",
      " |-- label_minor_physical_thermal_damage: integer (nullable = false)\n",
      " |-- label_power_supply: integer (nullable = false)"
     ]
    }
   ],
   "source": [
    "df_con.printSchema()"
   ]
  },
  {
   "cell_type": "markdown",
   "metadata": {},
   "source": [
    "## 9.7 Fill labels bases on issues <a class=\"anchor\" id=\"sectoin_9_7\"></a>"
   ]
  },
  {
   "cell_type": "code",
   "execution_count": 136,
   "metadata": {},
   "outputs": [
    {
     "data": {
      "application/vnd.jupyter.widget-view+json": {
       "model_id": "",
       "version_major": 2,
       "version_minor": 0
      },
      "text/plain": [
       "FloatProgress(value=0.0, bar_style='info', description='Progress:', layout=Layout(height='25px', width='50%'),…"
      ]
     },
     "metadata": {},
     "output_type": "display_data"
    }
   ],
   "source": [
    "df_con = df_con.withColumn('label_internet_not_working', F.col(\"CPE_ISSUE\").rlike(\"internet_not_working\").cast(\"Integer\")) \\\n",
    "     .withColumn('label_optical_port', F.col(\"CPE_ISSUE\").rlike(\"optical_port\").cast(\"Integer\")) \\\n",
    "     .withColumn('label_reset_not_work', F.col(\"CPE_ISSUE\").rlike(\"reset_not_work\").cast(\"Integer\")) \\\n",
    "     .withColumn('label_sim_slot', F.col(\"CPE_ISSUE\").rlike(\"sim_slot\").cast(\"Integer\")) \\\n",
    "     .withColumn('label_no_problem', F.col(\"CPE_ISSUE\").rlike(\"no_problem\").cast(\"Integer\")) \\\n",
    "     .withColumn('label_does_not_log_into_acs', F.col(\"CPE_ISSUE\").rlike(\"does_not_log_into_acs\").cast(\"Integer\")) \\\n",
    "     .withColumn('label_reset_itself',F.col(\"CPE_ISSUE\").rlike(\"reset_itself\").cast(\"Integer\")) \\\n",
    "     .withColumn('label_wifi',F.col(\"CPE_ISSUE\").rlike(\"wifi\").cast(\"Integer\")) \\\n",
    "     .withColumn('label_significant_physical_damage_irreparable', F.col(\"CPE_ISSUE\").rlike(\"significant_physical_damage_irreparable\").cast(\"Integer\")) \\\n",
    "     .withColumn('label_lan_port',F.col(\"CPE_ISSUE\").rlike(\"lan_port\").cast(\"Integer\")) \\\n",
    "     .withColumn('label_telefon_port', F.col(\"CPE_ISSUE\").rlike(\"telefon_port\").cast(\"Integer\")) \\\n",
    "     .withColumn('label_device_overheating', F.col(\"CPE_ISSUE\").rlike(\"device_overheating\").cast(\"Integer\")) \\\n",
    "     .withColumn('label_poor_speed',F.col(\"CPE_ISSUE\").rlike(\"poor_speed\").cast(\"Integer\")) \\\n",
    "     .withColumn('label_blocked', F.col(\"CPE_ISSUE\").rlike(\"blocked\").cast(\"Integer\")) \\\n",
    "     .withColumn('label_software', F.col(\"CPE_ISSUE\").rlike(\"software\").cast(\"Integer\")) \\\n",
    "     .withColumn('label_dsl_port', F.col(\"CPE_ISSUE\").rlike(\"dsl_port\").cast(\"Integer\")) \\\n",
    "     .withColumn('label_minor_physical_thermal_damage', F.col(\"CPE_ISSUE\").rlike(\"minor_physical_thermal_damage\").cast(\"Integer\")) \\\n",
    "     .withColumn('label_power_supply',F.col(\"CPE_ISSUE\").rlike(\"power_supply\").cast(\"Integer\"))\\\n",
    "     .withColumn('label_healthy',F.col(\"CPE_ISSUE\").rlike(\"healthy\").cast(\"Integer\")) "
   ]
  },
  {
   "cell_type": "code",
   "execution_count": 137,
   "metadata": {},
   "outputs": [
    {
     "data": {
      "application/vnd.jupyter.widget-view+json": {
       "model_id": "",
       "version_major": 2,
       "version_minor": 0
      },
      "text/plain": [
       "FloatProgress(value=0.0, bar_style='info', description='Progress:', layout=Layout(height='25px', width='50%'),…"
      ]
     },
     "metadata": {},
     "output_type": "display_data"
    },
    {
     "name": "stdout",
     "output_type": "stream",
     "text": [
      "['CPE_SERIAL_NUMBER', 'TICKET_ID', 'ASSET_ID', 'TICKET_TENTATIVE_ROOT_CAUSE', 'START_DATE_TICKET', 'DATE_SCAN_START', 'DATE_SCAN_END', 'CPE_ISSUE', 'WINDOW_END', 'WINDOW_START', 'assetid', 'dslam_distinct_modulation', 'dslam_no_of_dominant_modulation', 'dslam_code_of_dominant_modulation', 'dslam_avg_bitrate_us', 'dslam_avg_bitrate_ds', 'dslam_avg_attenuation_ds', 'dslam_avg_attenuation_us', 'dslam_avg_power_us', 'dslam_avg_power_ds', 'dslam_avg_att_bitrate_us', 'dslam_avg_att_bitrate_ds', 'dslam_avg_snr_us', 'dslam_avg_snr_ds', 'dslam_no_counts', 'dslam_avg_bandline_ds', 'dslam_avg_bandline_us', 'dslam_sum_cv_us', 'dslam_count_cv_us', 'dslam_sum_cv_ds', 'dslam_count_cv_ds', 'dslam_sum_es_ds', 'dslam_count_es_ds', 'dslam_sum_es_us', 'dslam_count_es_us', 'dslam_sum_ses_ds', 'dslam_count_ses_ds', 'dslam_sum_ses_us', 'dslam_count_ses_us', 'dslam_sum_fec_ds', 'dslam_count_fec_ds', 'dslam_sum_fec_us', 'dslam_count_fec_us', 'dslam_inits', 'dslam_port_inst_id', 'dslam_rg_port_inst_id', 'dslam_prim_izvod_inst_id', 'snmp_no_lossoflink', 'snmp_no_linkup', 'snmp_no_dyinggasp', 'acs_xdslline_dslUptime', 'acs_xdslline_cpeUptime', 'acs_xdslline_cpuUsagePercentage', 'acs_xdslline_freeMemoryKb', 'acs_xdslline_totalMemoryKb', 'acs_xdslline_usedMemoryKb', 'acs_xdslline_natCurrent', 'acs_xdslline_natMax', 'acs_xdslline_crc', 'acs_xdslline_fec', 'acs_xdslline_hec', 'acs_xdslline_cellDelin', 'acs_xdslline_erroredSecs', 'acs_xdslline_initErrors', 'acs_xdslline_initTimeOuts', 'acs_xdslline_severelyErroredSecs', 'acs_xdslline_linkRetrain', 'acs_xdslline_lossOfFraming', 'acs_xdslline_lossOfPower', 'acs_xdslline_transmitBlocks', 'acs_xdslline_receiveBlocks', 'acs_xdslline_downAttenuationDb', 'acs_xdslline_downCurrRateKbps', 'acs_xdslline_downMaxRateKbps', 'acs_xdslline_downNoiseMarginDb', 'acs_xdslline_downPowerDbm', 'acs_xdslline_upAttenuationDb', 'acs_xdslline_upCurrRateKbps', 'acs_xdslline_upMaxRateKbps', 'acs_xdslline_upNoiseMarginDb', 'acs_xdslline_upPowerDbm', 'acs_xdslline_atuccrc', 'acs_xdslline_atucfec', 'acs_xdslline_atuchec', 'datum', 'dslam_date_inserted', 'dslam_platforma', 'dslam_model', 'dslam_card_type', 'dslam_status_porta', 'dslam_bandwidth', 'dslam_vdsl_adsl', 'dslam_vendor', 'dslam_status', 'dslam_internet', 'dslam_iptv', 'dslam_voip', 'dslam_regija', 'acs_@type', 'acs_status', 'acs_description', 'acs_crm_accessNetwork', 'acs_crm_dslamFrame', 'acs_crm_dslamSlot', 'acs_crm_serviceName', 'acs_xdslline_manufacturer', 'acs_xdslline_manufacturerOui', 'acs_xdslline_softwareVersion', 'acs_xdslline_additionalSoftwareVersion', 'acs_xdslline_anexType', 'acs_xdslline_dslType', 'acs_xdslline_linkEncapsulationType', 'acs_xdslline_pppoEConnectionStatus', 'acs_xdslline_pppoELastConnectionError', 'acs_xdslline_pppoENATEnabled', 'acs_xdslline_pppoEUsername', 'acs_createdmsec', 'cpetype', 'label_internet_not_working', 'label_optical_port', 'label_reset_not_work', 'label_sim_slot', 'label_no_problem', 'label_healthy', 'label_reset_itself', 'label_wifi', 'label_significant_physical_damage_irreparable', 'label_lan_port', 'label_telefon_port', 'label_blocked', 'label_device_overheating', 'label_poor_speed', 'label_does_not_log_into_acs', 'label_software', 'label_dsl_port', 'label_minor_physical_thermal_damage', 'label_power_supply']"
     ]
    }
   ],
   "source": [
    "df_con.columns"
   ]
  },
  {
   "cell_type": "code",
   "execution_count": 138,
   "metadata": {},
   "outputs": [
    {
     "data": {
      "application/vnd.jupyter.widget-view+json": {
       "model_id": "",
       "version_major": 2,
       "version_minor": 0
      },
      "text/plain": [
       "FloatProgress(value=0.0, bar_style='info', description='Progress:', layout=Layout(height='25px', width='50%'),…"
      ]
     },
     "metadata": {},
     "output_type": "display_data"
    },
    {
     "name": "stdout",
     "output_type": "stream",
     "text": [
      "-RECORD 0-----------------------------------------------------------------------\n",
      " CPE_ISSUE                                     | power_supply/lan_port/dsl_port \n",
      " label_internet_not_working                    | 0                              \n",
      " label_optical_port                            | 0                              \n",
      " label_reset_not_work                          | 0                              \n",
      " label_sim_slot                                | 0                              \n",
      " label_no_problem                              | 0                              \n",
      " label_healthy                                 | 0                              \n",
      " label_reset_itself                            | 0                              \n",
      " label_wifi                                    | 0                              \n",
      " label_significant_physical_damage_irreparable | 0                              \n",
      " label_lan_port                                | 1                              \n",
      " label_telefon_port                            | 0                              \n",
      " label_blocked                                 | 0                              \n",
      " label_device_overheating                      | 0                              \n",
      " label_poor_speed                              | 0                              \n",
      " label_does_not_log_into_acs                   | 0                              \n",
      " label_software                                | 0                              \n",
      " label_dsl_port                                | 1                              \n",
      " label_minor_physical_thermal_damage           | 0                              \n",
      " label_power_supply                            | 1                              \n",
      "only showing top 1 row"
     ]
    }
   ],
   "source": [
    "df_con.filter((df_con.label_dsl_port == 1) & (df_con.label_lan_port == 1)).select('CPE_ISSUE', 'label_internet_not_working', 'label_optical_port', 'label_reset_not_work', 'label_sim_slot', 'label_no_problem', 'label_healthy', 'label_reset_itself', 'label_wifi', 'label_significant_physical_damage_irreparable', 'label_lan_port', 'label_telefon_port', 'label_blocked', 'label_device_overheating', 'label_poor_speed', 'label_does_not_log_into_acs', 'label_software', 'label_dsl_port', 'label_minor_physical_thermal_damage', 'label_power_supply' ).show(1, truncate=False, vertical=True)"
   ]
  },
  {
   "cell_type": "code",
   "execution_count": 139,
   "metadata": {},
   "outputs": [
    {
     "data": {
      "application/vnd.jupyter.widget-view+json": {
       "model_id": "",
       "version_major": 2,
       "version_minor": 0
      },
      "text/plain": [
       "FloatProgress(value=0.0, bar_style='info', description='Progress:', layout=Layout(height='25px', width='50%'),…"
      ]
     },
     "metadata": {},
     "output_type": "display_data"
    }
   ],
   "source": [
    "df_con =  df_con.withColumn('assetid', F.col('assetid').cast(types.StringType()))"
   ]
  },
  {
   "cell_type": "code",
   "execution_count": 140,
   "metadata": {},
   "outputs": [
    {
     "data": {
      "application/vnd.jupyter.widget-view+json": {
       "model_id": "",
       "version_major": 2,
       "version_minor": 0
      },
      "text/plain": [
       "FloatProgress(value=0.0, bar_style='info', description='Progress:', layout=Layout(height='25px', width='50%'),…"
      ]
     },
     "metadata": {},
     "output_type": "display_data"
    },
    {
     "name": "stdout",
     "output_type": "stream",
     "text": [
      "root\n",
      " |-- assetid: string (nullable = true)"
     ]
    }
   ],
   "source": [
    "df_con.select('assetid').printSchema()"
   ]
  },
  {
   "cell_type": "code",
   "execution_count": 141,
   "metadata": {},
   "outputs": [
    {
     "data": {
      "application/vnd.jupyter.widget-view+json": {
       "model_id": "",
       "version_major": 2,
       "version_minor": 0
      },
      "text/plain": [
       "FloatProgress(value=0.0, bar_style='info', description='Progress:', layout=Layout(height='25px', width='50%'),…"
      ]
     },
     "metadata": {},
     "output_type": "display_data"
    }
   ],
   "source": [
    "df_con.repartition(1).write.format(\"parquet\").mode('overwrite').save(\"hdfs://nameservicedev1//user/dt_srajan/predictive_care/cpe_replacement/data_w32_g3/df_wo_split_new\")\n"
   ]
  },
  {
   "cell_type": "markdown",
   "metadata": {},
   "source": [
    "## 9.8 Stratified split <a class=\"anchor\" id=\"chapter_9_8\"></a>"
   ]
  },
  {
   "cell_type": "markdown",
   "metadata": {},
   "source": [
    "Let's try to split the data in stratified fashion for train and test"
   ]
  },
  {
   "cell_type": "code",
   "execution_count": 142,
   "metadata": {},
   "outputs": [
    {
     "data": {
      "application/vnd.jupyter.widget-view+json": {
       "model_id": "",
       "version_major": 2,
       "version_minor": 0
      },
      "text/plain": [
       "FloatProgress(value=0.0, bar_style='info', description='Progress:', layout=Layout(height='25px', width='50%'),…"
      ]
     },
     "metadata": {},
     "output_type": "display_data"
    }
   ],
   "source": [
    "df_distinct = df_con.select('assetid', 'CPE_ISSUE')"
   ]
  },
  {
   "cell_type": "code",
   "execution_count": 143,
   "metadata": {},
   "outputs": [
    {
     "data": {
      "application/vnd.jupyter.widget-view+json": {
       "model_id": "",
       "version_major": 2,
       "version_minor": 0
      },
      "text/plain": [
       "FloatProgress(value=0.0, bar_style='info', description='Progress:', layout=Layout(height='25px', width='50%'),…"
      ]
     },
     "metadata": {},
     "output_type": "display_data"
    },
    {
     "name": "stdout",
     "output_type": "stream",
     "text": [
      "root\n",
      " |-- assetid: string (nullable = true)\n",
      " |-- CPE_ISSUE: string (nullable = true)"
     ]
    }
   ],
   "source": [
    "df_distinct.printSchema()"
   ]
  },
  {
   "cell_type": "code",
   "execution_count": 144,
   "metadata": {},
   "outputs": [
    {
     "data": {
      "application/vnd.jupyter.widget-view+json": {
       "model_id": "",
       "version_major": 2,
       "version_minor": 0
      },
      "text/plain": [
       "FloatProgress(value=0.0, bar_style='info', description='Progress:', layout=Layout(height='25px', width='50%'),…"
      ]
     },
     "metadata": {},
     "output_type": "display_data"
    }
   ],
   "source": [
    "df_distinct = df_distinct.dropDuplicates()"
   ]
  },
  {
   "cell_type": "code",
   "execution_count": 145,
   "metadata": {},
   "outputs": [
    {
     "data": {
      "application/vnd.jupyter.widget-view+json": {
       "model_id": "",
       "version_major": 2,
       "version_minor": 0
      },
      "text/plain": [
       "FloatProgress(value=0.0, bar_style='info', description='Progress:', layout=Layout(height='25px', width='50%'),…"
      ]
     },
     "metadata": {},
     "output_type": "display_data"
    },
    {
     "name": "stdout",
     "output_type": "stream",
     "text": [
      "33853"
     ]
    }
   ],
   "source": [
    "df_distinct.count()"
   ]
  },
  {
   "cell_type": "code",
   "execution_count": 146,
   "metadata": {},
   "outputs": [
    {
     "data": {
      "application/vnd.jupyter.widget-view+json": {
       "model_id": "",
       "version_major": 2,
       "version_minor": 0
      },
      "text/plain": [
       "FloatProgress(value=0.0, bar_style='info', description='Progress:', layout=Layout(height='25px', width='50%'),…"
      ]
     },
     "metadata": {},
     "output_type": "display_data"
    },
    {
     "name": "stdout",
     "output_type": "stream",
     "text": [
      "33853"
     ]
    }
   ],
   "source": [
    "df_distinct.select('assetid').distinct().count()"
   ]
  },
  {
   "cell_type": "markdown",
   "metadata": {},
   "source": [
    "Lets set 90% for train set and 10% for test ser"
   ]
  },
  {
   "cell_type": "code",
   "execution_count": 147,
   "metadata": {},
   "outputs": [
    {
     "data": {
      "application/vnd.jupyter.widget-view+json": {
       "model_id": "",
       "version_major": 2,
       "version_minor": 0
      },
      "text/plain": [
       "FloatProgress(value=0.0, bar_style='info', description='Progress:', layout=Layout(height='25px', width='50%'),…"
      ]
     },
     "metadata": {},
     "output_type": "display_data"
    }
   ],
   "source": [
    "fractions = df_distinct.select(\"CPE_ISSUE\").distinct().withColumn(\"fraction\", lit(0.9)).rdd.collectAsMap()\n"
   ]
  },
  {
   "cell_type": "code",
   "execution_count": 148,
   "metadata": {},
   "outputs": [
    {
     "data": {
      "application/vnd.jupyter.widget-view+json": {
       "model_id": "",
       "version_major": 2,
       "version_minor": 0
      },
      "text/plain": [
       "FloatProgress(value=0.0, bar_style='info', description='Progress:', layout=Layout(height='25px', width='50%'),…"
      ]
     },
     "metadata": {},
     "output_type": "display_data"
    },
    {
     "name": "stdout",
     "output_type": "stream",
     "text": [
      "{u'does_not_log_into_acs/lan_port': 0.9, u'no_problem': 0.9, u'reset_itself': 0.9, u'telefon_port/power_supply/lan_port': 0.9, u'telefon_port/power_supply': 0.9, u'power_supply/lan_port': 0.9, u'poor_speed': 0.9, u'reset_not_work': 0.9, u'telefon_port/internet_not_working': 0.9, u'dsl_port': 0.9, u'minor_physical_thermal_damage': 0.9, u'power_supply': 0.9, u'reset_itself/dsl_port': 0.9, u'telefon_port/power_supply/dsl_port': 0.9, u'telefon_port/dsl_port': 0.9, u'reset_itself/power_supply': 0.9, u'device_overheating/power_supply': 0.9, u'device_overheating': 0.9, u'blocked': 0.9, u'device_overheating/dsl_port': 0.9, u'minor_physical_thermal_damage/dsl_port': 0.9, u'lan_port': 0.9, u'telefon_port/lan_port': 0.9, u'reset_itself/device_overheating': 0.9, u'internet_not_working': 0.9, u'lan_port/dsl_port': 0.9, u'telefon_port': 0.9, u'healthy': 0.9, u'wifi': 0.9, u'significant_physical_damage_irreparable': 0.9, u'power_supply/lan_port/dsl_port': 0.9, u'power_supply/dsl_port': 0.9, u'does_not_log_into_acs': 0.9, u'software': 0.9}"
     ]
    }
   ],
   "source": [
    "fractions"
   ]
  },
  {
   "cell_type": "code",
   "execution_count": 149,
   "metadata": {},
   "outputs": [
    {
     "data": {
      "application/vnd.jupyter.widget-view+json": {
       "model_id": "",
       "version_major": 2,
       "version_minor": 0
      },
      "text/plain": [
       "FloatProgress(value=0.0, bar_style='info', description='Progress:', layout=Layout(height='25px', width='50%'),…"
      ]
     },
     "metadata": {},
     "output_type": "display_data"
    }
   ],
   "source": [
    "train = df_distinct.sampleBy(\"CPE_ISSUE\", fractions=fractions, seed=10)"
   ]
  },
  {
   "cell_type": "code",
   "execution_count": 150,
   "metadata": {},
   "outputs": [
    {
     "data": {
      "application/vnd.jupyter.widget-view+json": {
       "model_id": "",
       "version_major": 2,
       "version_minor": 0
      },
      "text/plain": [
       "FloatProgress(value=0.0, bar_style='info', description='Progress:', layout=Layout(height='25px', width='50%'),…"
      ]
     },
     "metadata": {},
     "output_type": "display_data"
    },
    {
     "name": "stdout",
     "output_type": "stream",
     "text": [
      "30453"
     ]
    }
   ],
   "source": [
    "train.select('assetid').distinct().count()"
   ]
  },
  {
   "cell_type": "markdown",
   "metadata": {},
   "source": [
    "Lets save df_distinct and train into parquet files. Because to obtain test set the join of df_distinct and train is reuired. Surprisngly the join with df_distinct and train is not working in right way if we do not save and re-read the file again. So lets save it "
   ]
  },
  {
   "cell_type": "code",
   "execution_count": 151,
   "metadata": {},
   "outputs": [
    {
     "data": {
      "application/vnd.jupyter.widget-view+json": {
       "model_id": "",
       "version_major": 2,
       "version_minor": 0
      },
      "text/plain": [
       "FloatProgress(value=0.0, bar_style='info', description='Progress:', layout=Layout(height='25px', width='50%'),…"
      ]
     },
     "metadata": {},
     "output_type": "display_data"
    }
   ],
   "source": [
    "df_distinct.repartition(1).write.format(\"parquet\").option('header', 'true').mode('overwrite').save(\"hdfs://nameservicedev1//user/dt_srajan/predictive_care/cpe_replacement/data_w32_g3/df_distinct_new\")\n"
   ]
  },
  {
   "cell_type": "code",
   "execution_count": 152,
   "metadata": {},
   "outputs": [
    {
     "data": {
      "application/vnd.jupyter.widget-view+json": {
       "model_id": "",
       "version_major": 2,
       "version_minor": 0
      },
      "text/plain": [
       "FloatProgress(value=0.0, bar_style='info', description='Progress:', layout=Layout(height='25px', width='50%'),…"
      ]
     },
     "metadata": {},
     "output_type": "display_data"
    }
   ],
   "source": [
    "train.repartition(1).write.format(\"parquet\").option('header', 'true').mode('overwrite').save(\"hdfs://nameservicedev1//user/dt_srajan/predictive_care/cpe_replacement/data_w32_g3/train_new\")\n"
   ]
  },
  {
   "cell_type": "code",
   "execution_count": 101,
   "metadata": {},
   "outputs": [
    {
     "data": {
      "application/vnd.jupyter.widget-view+json": {
       "model_id": "",
       "version_major": 2,
       "version_minor": 0
      },
      "text/plain": [
       "FloatProgress(value=0.0, bar_style='info', description='Progress:', layout=Layout(height='25px', width='50%'),…"
      ]
     },
     "metadata": {},
     "output_type": "display_data"
    }
   ],
   "source": [
    "# Read the above files again"
   ]
  },
  {
   "cell_type": "code",
   "execution_count": 153,
   "metadata": {},
   "outputs": [
    {
     "data": {
      "application/vnd.jupyter.widget-view+json": {
       "model_id": "",
       "version_major": 2,
       "version_minor": 0
      },
      "text/plain": [
       "FloatProgress(value=0.0, bar_style='info', description='Progress:', layout=Layout(height='25px', width='50%'),…"
      ]
     },
     "metadata": {},
     "output_type": "display_data"
    }
   ],
   "source": [
    "df_distinct = spark.read.parquet('hdfs://nameservicedev1//user/dt_srajan/predictive_care/cpe_replacement/data_w32_g3/df_distinct_new')\n",
    "train = spark.read.parquet('hdfs://nameservicedev1//user/dt_srajan/predictive_care/cpe_replacement/data_w32_g3/train_new')"
   ]
  },
  {
   "cell_type": "markdown",
   "metadata": {},
   "source": [
    "Generate the test set"
   ]
  },
  {
   "cell_type": "code",
   "execution_count": 154,
   "metadata": {},
   "outputs": [
    {
     "data": {
      "application/vnd.jupyter.widget-view+json": {
       "model_id": "",
       "version_major": 2,
       "version_minor": 0
      },
      "text/plain": [
       "FloatProgress(value=0.0, bar_style='info', description='Progress:', layout=Layout(height='25px', width='50%'),…"
      ]
     },
     "metadata": {},
     "output_type": "display_data"
    }
   ],
   "source": [
    "test = df_distinct.join(train, ['assetid'], how='left_anti')"
   ]
  },
  {
   "cell_type": "markdown",
   "metadata": {},
   "source": [
    "Lets check the distribution if its stratified across train and test\n",
    "\n",
    "\n",
    "* df_distinct - whole base from which train and test is split\n",
    "\n",
    "\n",
    "* train - train set\n",
    "\n",
    "\n",
    "* test - test set"
   ]
  },
  {
   "cell_type": "code",
   "execution_count": 156,
   "metadata": {},
   "outputs": [
    {
     "data": {
      "application/vnd.jupyter.widget-view+json": {
       "model_id": "",
       "version_major": 2,
       "version_minor": 0
      },
      "text/plain": [
       "FloatProgress(value=0.0, bar_style='info', description='Progress:', layout=Layout(height='25px', width='50%'),…"
      ]
     },
     "metadata": {},
     "output_type": "display_data"
    },
    {
     "name": "stdout",
     "output_type": "stream",
     "text": [
      "+--------------------+-----+\n",
      "|           CPE_ISSUE|count|\n",
      "+--------------------+-----+\n",
      "|power_supply/lan_...|   15|\n",
      "|             healthy|20000|\n",
      "|          no_problem| 9689|\n",
      "|minor_physical_th...|  808|\n",
      "|power_supply/dsl_...|   64|\n",
      "|telefon_port/powe...|    3|\n",
      "|telefon_port/inte...|    1|\n",
      "|                wifi|  129|\n",
      "|does_not_log_into...|   75|\n",
      "|reset_itself/dsl_...|    3|\n",
      "|telefon_port/dsl_...|    3|\n",
      "|telefon_port/lan_...|    2|\n",
      "|            software|    1|\n",
      "|        power_supply|  974|\n",
      "|reset_itself/powe...|    1|\n",
      "|            dsl_port|  987|\n",
      "|            lan_port|  118|\n",
      "|  device_overheating|   25|\n",
      "|telefon_port/powe...|    5|\n",
      "|minor_physical_th...|    1|\n",
      "+--------------------+-----+\n",
      "only showing top 20 rows"
     ]
    }
   ],
   "source": [
    "df_distinct.groupby('CPE_ISSUE').count().show()"
   ]
  },
  {
   "cell_type": "code",
   "execution_count": 157,
   "metadata": {},
   "outputs": [
    {
     "data": {
      "application/vnd.jupyter.widget-view+json": {
       "model_id": "",
       "version_major": 2,
       "version_minor": 0
      },
      "text/plain": [
       "FloatProgress(value=0.0, bar_style='info', description='Progress:', layout=Layout(height='25px', width='50%'),…"
      ]
     },
     "metadata": {},
     "output_type": "display_data"
    },
    {
     "name": "stdout",
     "output_type": "stream",
     "text": [
      "+--------------------+-----+\n",
      "|           CPE_ISSUE|count|\n",
      "+--------------------+-----+\n",
      "|power_supply/lan_...|   14|\n",
      "|             healthy|17971|\n",
      "|          no_problem| 8724|\n",
      "|minor_physical_th...|  723|\n",
      "|power_supply/dsl_...|   58|\n",
      "|telefon_port/powe...|    3|\n",
      "|                wifi|  117|\n",
      "|does_not_log_into...|   73|\n",
      "|reset_itself/dsl_...|    3|\n",
      "|telefon_port/dsl_...|    3|\n",
      "|telefon_port/lan_...|    2|\n",
      "|            software|    1|\n",
      "|        power_supply|  884|\n",
      "|reset_itself/powe...|    1|\n",
      "|            dsl_port|  898|\n",
      "|            lan_port|  105|\n",
      "|  device_overheating|   20|\n",
      "|telefon_port/powe...|    5|\n",
      "|minor_physical_th...|    1|\n",
      "|          poor_speed|    1|\n",
      "+--------------------+-----+\n",
      "only showing top 20 rows"
     ]
    }
   ],
   "source": [
    "train.groupby('CPE_ISSUE').count().show()"
   ]
  },
  {
   "cell_type": "code",
   "execution_count": 158,
   "metadata": {},
   "outputs": [
    {
     "data": {
      "application/vnd.jupyter.widget-view+json": {
       "model_id": "",
       "version_major": 2,
       "version_minor": 0
      },
      "text/plain": [
       "FloatProgress(value=0.0, bar_style='info', description='Progress:', layout=Layout(height='25px', width='50%'),…"
      ]
     },
     "metadata": {},
     "output_type": "display_data"
    },
    {
     "name": "stdout",
     "output_type": "stream",
     "text": [
      "+--------------------+-----+\n",
      "|           CPE_ISSUE|count|\n",
      "+--------------------+-----+\n",
      "|power_supply/lan_...|    1|\n",
      "|             healthy| 2029|\n",
      "|          no_problem|  965|\n",
      "|minor_physical_th...|   85|\n",
      "|power_supply/dsl_...|    6|\n",
      "|telefon_port/inte...|    1|\n",
      "|                wifi|   12|\n",
      "|does_not_log_into...|    2|\n",
      "|        power_supply|   90|\n",
      "|            dsl_port|   89|\n",
      "|            lan_port|   13|\n",
      "|  device_overheating|    5|\n",
      "|reset_itself/devi...|    1|\n",
      "|internet_not_working|    3|\n",
      "|telefon_port/powe...|    2|\n",
      "|significant_physi...|    8|\n",
      "|   lan_port/dsl_port|    1|\n",
      "|power_supply/lan_...|    1|\n",
      "|        reset_itself|   22|\n",
      "|        telefon_port|   62|\n",
      "+--------------------+-----+\n",
      "only showing top 20 rows"
     ]
    }
   ],
   "source": [
    "test.groupby('CPE_ISSUE').count().show()"
   ]
  },
  {
   "cell_type": "markdown",
   "metadata": {},
   "source": [
    "Let's check if there are overlapping id in both train and test set ? Count when innerjoin should be 0"
   ]
  },
  {
   "cell_type": "code",
   "execution_count": 159,
   "metadata": {},
   "outputs": [
    {
     "data": {
      "application/vnd.jupyter.widget-view+json": {
       "model_id": "",
       "version_major": 2,
       "version_minor": 0
      },
      "text/plain": [
       "FloatProgress(value=0.0, bar_style='info', description='Progress:', layout=Layout(height='25px', width='50%'),…"
      ]
     },
     "metadata": {},
     "output_type": "display_data"
    },
    {
     "name": "stdout",
     "output_type": "stream",
     "text": [
      "0"
     ]
    }
   ],
   "source": [
    "train.join(test, ['assetid'], how = 'inner').count()"
   ]
  },
  {
   "cell_type": "markdown",
   "metadata": {},
   "source": [
    "ok, we know that there are no overlapping assetid in train and test set"
   ]
  },
  {
   "cell_type": "markdown",
   "metadata": {},
   "source": [
    "Let us join the asset id with df_con to get the tech stats data"
   ]
  },
  {
   "cell_type": "code",
   "execution_count": 160,
   "metadata": {},
   "outputs": [
    {
     "data": {
      "application/vnd.jupyter.widget-view+json": {
       "model_id": "",
       "version_major": 2,
       "version_minor": 0
      },
      "text/plain": [
       "FloatProgress(value=0.0, bar_style='info', description='Progress:', layout=Layout(height='25px', width='50%'),…"
      ]
     },
     "metadata": {},
     "output_type": "display_data"
    }
   ],
   "source": [
    "df_train = train.select('assetid')\n",
    "df_test = test.select('assetid')\n"
   ]
  },
  {
   "cell_type": "code",
   "execution_count": 161,
   "metadata": {},
   "outputs": [
    {
     "data": {
      "application/vnd.jupyter.widget-view+json": {
       "model_id": "",
       "version_major": 2,
       "version_minor": 0
      },
      "text/plain": [
       "FloatProgress(value=0.0, bar_style='info', description='Progress:', layout=Layout(height='25px', width='50%'),…"
      ]
     },
     "metadata": {},
     "output_type": "display_data"
    }
   ],
   "source": [
    "df_train = df_train.join(df_con, ['assetid'], how = 'inner')\n",
    "df_test = df_test.join(df_con, ['assetid'], how = 'inner')"
   ]
  },
  {
   "cell_type": "code",
   "execution_count": 162,
   "metadata": {},
   "outputs": [
    {
     "data": {
      "application/vnd.jupyter.widget-view+json": {
       "model_id": "",
       "version_major": 2,
       "version_minor": 0
      },
      "text/plain": [
       "FloatProgress(value=0.0, bar_style='info', description='Progress:', layout=Layout(height='25px', width='50%'),…"
      ]
     },
     "metadata": {},
     "output_type": "display_data"
    }
   ],
   "source": [
    "df_train.repartition(1).write.format(\"parquet\").mode('overwrite').save(\"hdfs://nameservicedev1//user/dt_srajan/predictive_care/cpe_replacement/data_w32_g3/df_train_new\")\n"
   ]
  },
  {
   "cell_type": "code",
   "execution_count": 164,
   "metadata": {},
   "outputs": [
    {
     "data": {
      "application/vnd.jupyter.widget-view+json": {
       "model_id": "",
       "version_major": 2,
       "version_minor": 0
      },
      "text/plain": [
       "FloatProgress(value=0.0, bar_style='info', description='Progress:', layout=Layout(height='25px', width='50%'),…"
      ]
     },
     "metadata": {},
     "output_type": "display_data"
    }
   ],
   "source": [
    "df_test.repartition(1).write.format(\"parquet\").mode('overwrite').save(\"hdfs://nameservicedev1//user/dt_srajan/predictive_care/cpe_replacement/data_w32_g3/df_test_new\")\n"
   ]
  },
  {
   "cell_type": "markdown",
   "metadata": {},
   "source": [
    "Now lets filter if there are not 32 records in train and test"
   ]
  },
  {
   "cell_type": "code",
   "execution_count": 261,
   "metadata": {},
   "outputs": [
    {
     "data": {
      "application/vnd.jupyter.widget-view+json": {
       "model_id": "",
       "version_major": 2,
       "version_minor": 0
      },
      "text/plain": [
       "FloatProgress(value=0.0, bar_style='info', description='Progress:', layout=Layout(height='25px', width='50%'),…"
      ]
     },
     "metadata": {},
     "output_type": "display_data"
    }
   ],
   "source": [
    "train_new = spark.read.parquet('hdfs://nameservicedev1//user/dt_srajan/predictive_care/cpe_replacement/data_w32_g3/df_train_new')"
   ]
  },
  {
   "cell_type": "code",
   "execution_count": 262,
   "metadata": {},
   "outputs": [
    {
     "data": {
      "application/vnd.jupyter.widget-view+json": {
       "model_id": "",
       "version_major": 2,
       "version_minor": 0
      },
      "text/plain": [
       "FloatProgress(value=0.0, bar_style='info', description='Progress:', layout=Layout(height='25px', width='50%'),…"
      ]
     },
     "metadata": {},
     "output_type": "display_data"
    }
   ],
   "source": [
    "train_new_grp = train_new.groupby('assetid').count().select(F.col(\"assetid\"),F.col(\"count\").alias(\"cnt\"))\n",
    "#.alias('cnt')\n"
   ]
  },
  {
   "cell_type": "code",
   "execution_count": 263,
   "metadata": {},
   "outputs": [
    {
     "data": {
      "application/vnd.jupyter.widget-view+json": {
       "model_id": "",
       "version_major": 2,
       "version_minor": 0
      },
      "text/plain": [
       "FloatProgress(value=0.0, bar_style='info', description='Progress:', layout=Layout(height='25px', width='50%'),…"
      ]
     },
     "metadata": {},
     "output_type": "display_data"
    },
    {
     "name": "stdout",
     "output_type": "stream",
     "text": [
      "30453"
     ]
    }
   ],
   "source": [
    "train_new_grp.count()"
   ]
  },
  {
   "cell_type": "code",
   "execution_count": 264,
   "metadata": {},
   "outputs": [
    {
     "data": {
      "application/vnd.jupyter.widget-view+json": {
       "model_id": "",
       "version_major": 2,
       "version_minor": 0
      },
      "text/plain": [
       "FloatProgress(value=0.0, bar_style='info', description='Progress:', layout=Layout(height='25px', width='50%'),…"
      ]
     },
     "metadata": {},
     "output_type": "display_data"
    }
   ],
   "source": [
    "train_new_grp = train_new_grp.filter(train_new_grp.cnt < 32)"
   ]
  },
  {
   "cell_type": "code",
   "execution_count": 265,
   "metadata": {},
   "outputs": [
    {
     "data": {
      "application/vnd.jupyter.widget-view+json": {
       "model_id": "",
       "version_major": 2,
       "version_minor": 0
      },
      "text/plain": [
       "FloatProgress(value=0.0, bar_style='info', description='Progress:', layout=Layout(height='25px', width='50%'),…"
      ]
     },
     "metadata": {},
     "output_type": "display_data"
    }
   ],
   "source": [
    "train_new_list = train_new_grp.select(\"assetid\").rdd.flatMap(lambda x: x).collect()"
   ]
  },
  {
   "cell_type": "code",
   "execution_count": 266,
   "metadata": {},
   "outputs": [
    {
     "data": {
      "application/vnd.jupyter.widget-view+json": {
       "model_id": "",
       "version_major": 2,
       "version_minor": 0
      },
      "text/plain": [
       "FloatProgress(value=0.0, bar_style='info', description='Progress:', layout=Layout(height='25px', width='50%'),…"
      ]
     },
     "metadata": {},
     "output_type": "display_data"
    },
    {
     "name": "stdout",
     "output_type": "stream",
     "text": [
      "[u'105647124', u'46989894', u'40035791', u'42345339', u'104416957', u'47884552', u'100384047', u'46682428', u'28787722', u'75972343', u'32226468', u'51510167', u'64957179', u'36600151', u'33217095', u'104214304', u'36377824', u'62190746', u'63863421', u'103066490', u'54010030', u'93328799', u'45984635', u'44514478', u'55411804', u'68381420', u'52236398', u'80320355', u'52956518', u'71675586', u'97314226', u'49532656', u'99966878']"
     ]
    }
   ],
   "source": [
    "train_new_list"
   ]
  },
  {
   "cell_type": "code",
   "execution_count": 268,
   "metadata": {},
   "outputs": [
    {
     "data": {
      "application/vnd.jupyter.widget-view+json": {
       "model_id": "",
       "version_major": 2,
       "version_minor": 0
      },
      "text/plain": [
       "FloatProgress(value=0.0, bar_style='info', description='Progress:', layout=Layout(height='25px', width='50%'),…"
      ]
     },
     "metadata": {},
     "output_type": "display_data"
    }
   ],
   "source": [
    "train_new = train_new.filter(~train_new.assetid.isin(train_new_list))"
   ]
  },
  {
   "cell_type": "code",
   "execution_count": 269,
   "metadata": {},
   "outputs": [
    {
     "data": {
      "application/vnd.jupyter.widget-view+json": {
       "model_id": "",
       "version_major": 2,
       "version_minor": 0
      },
      "text/plain": [
       "FloatProgress(value=0.0, bar_style='info', description='Progress:', layout=Layout(height='25px', width='50%'),…"
      ]
     },
     "metadata": {},
     "output_type": "display_data"
    },
    {
     "name": "stdout",
     "output_type": "stream",
     "text": [
      "973440"
     ]
    }
   ],
   "source": [
    "train_new.count()"
   ]
  },
  {
   "cell_type": "code",
   "execution_count": 270,
   "metadata": {},
   "outputs": [
    {
     "data": {
      "application/vnd.jupyter.widget-view+json": {
       "model_id": "",
       "version_major": 2,
       "version_minor": 0
      },
      "text/plain": [
       "FloatProgress(value=0.0, bar_style='info', description='Progress:', layout=Layout(height='25px', width='50%'),…"
      ]
     },
     "metadata": {},
     "output_type": "display_data"
    },
    {
     "name": "stdout",
     "output_type": "stream",
     "text": [
      "30420"
     ]
    }
   ],
   "source": [
    "train_new.select('assetid').distinct().count()"
   ]
  },
  {
   "cell_type": "code",
   "execution_count": 271,
   "metadata": {},
   "outputs": [
    {
     "data": {
      "application/vnd.jupyter.widget-view+json": {
       "model_id": "",
       "version_major": 2,
       "version_minor": 0
      },
      "text/plain": [
       "FloatProgress(value=0.0, bar_style='info', description='Progress:', layout=Layout(height='25px', width='50%'),…"
      ]
     },
     "metadata": {},
     "output_type": "display_data"
    },
    {
     "name": "stdout",
     "output_type": "stream",
     "text": [
      "973440"
     ]
    }
   ],
   "source": [
    "30420*32"
   ]
  },
  {
   "cell_type": "code",
   "execution_count": 272,
   "metadata": {},
   "outputs": [
    {
     "data": {
      "application/vnd.jupyter.widget-view+json": {
       "model_id": "",
       "version_major": 2,
       "version_minor": 0
      },
      "text/plain": [
       "FloatProgress(value=0.0, bar_style='info', description='Progress:', layout=Layout(height='25px', width='50%'),…"
      ]
     },
     "metadata": {},
     "output_type": "display_data"
    }
   ],
   "source": [
    "train_new.repartition(1).write.format(\"parquet\").mode('overwrite').save(\"hdfs://nameservicedev1//user/dt_srajan/predictive_care/cpe_replacement/data_w32_g3/df_train_new_filtered\")\n"
   ]
  },
  {
   "cell_type": "markdown",
   "metadata": {},
   "source": [
    "test"
   ]
  },
  {
   "cell_type": "code",
   "execution_count": 276,
   "metadata": {},
   "outputs": [
    {
     "data": {
      "application/vnd.jupyter.widget-view+json": {
       "model_id": "",
       "version_major": 2,
       "version_minor": 0
      },
      "text/plain": [
       "FloatProgress(value=0.0, bar_style='info', description='Progress:', layout=Layout(height='25px', width='50%'),…"
      ]
     },
     "metadata": {},
     "output_type": "display_data"
    }
   ],
   "source": [
    "test_new = spark.read.parquet('hdfs://nameservicedev1//user/dt_srajan/predictive_care/cpe_replacement/data_w32_g3/df_test_new')"
   ]
  },
  {
   "cell_type": "code",
   "execution_count": 277,
   "metadata": {},
   "outputs": [
    {
     "data": {
      "application/vnd.jupyter.widget-view+json": {
       "model_id": "",
       "version_major": 2,
       "version_minor": 0
      },
      "text/plain": [
       "FloatProgress(value=0.0, bar_style='info', description='Progress:', layout=Layout(height='25px', width='50%'),…"
      ]
     },
     "metadata": {},
     "output_type": "display_data"
    }
   ],
   "source": [
    "test_new_grp = test_new.groupby('assetid').count().select(F.col(\"assetid\"),F.col(\"count\").alias(\"cnt\"))\n"
   ]
  },
  {
   "cell_type": "code",
   "execution_count": 278,
   "metadata": {},
   "outputs": [
    {
     "data": {
      "application/vnd.jupyter.widget-view+json": {
       "model_id": "",
       "version_major": 2,
       "version_minor": 0
      },
      "text/plain": [
       "FloatProgress(value=0.0, bar_style='info', description='Progress:', layout=Layout(height='25px', width='50%'),…"
      ]
     },
     "metadata": {},
     "output_type": "display_data"
    },
    {
     "name": "stdout",
     "output_type": "stream",
     "text": [
      "3400"
     ]
    }
   ],
   "source": [
    "test_new_grp.count()"
   ]
  },
  {
   "cell_type": "code",
   "execution_count": 279,
   "metadata": {},
   "outputs": [
    {
     "data": {
      "application/vnd.jupyter.widget-view+json": {
       "model_id": "",
       "version_major": 2,
       "version_minor": 0
      },
      "text/plain": [
       "FloatProgress(value=0.0, bar_style='info', description='Progress:', layout=Layout(height='25px', width='50%'),…"
      ]
     },
     "metadata": {},
     "output_type": "display_data"
    }
   ],
   "source": [
    "test_new_grp = test_new_grp.filter(test_new_grp.cnt < 32)"
   ]
  },
  {
   "cell_type": "code",
   "execution_count": 280,
   "metadata": {},
   "outputs": [
    {
     "data": {
      "application/vnd.jupyter.widget-view+json": {
       "model_id": "",
       "version_major": 2,
       "version_minor": 0
      },
      "text/plain": [
       "FloatProgress(value=0.0, bar_style='info', description='Progress:', layout=Layout(height='25px', width='50%'),…"
      ]
     },
     "metadata": {},
     "output_type": "display_data"
    },
    {
     "name": "stdout",
     "output_type": "stream",
     "text": [
      "3"
     ]
    }
   ],
   "source": [
    "test_new_grp.count()"
   ]
  },
  {
   "cell_type": "code",
   "execution_count": 281,
   "metadata": {},
   "outputs": [
    {
     "data": {
      "application/vnd.jupyter.widget-view+json": {
       "model_id": "",
       "version_major": 2,
       "version_minor": 0
      },
      "text/plain": [
       "FloatProgress(value=0.0, bar_style='info', description='Progress:', layout=Layout(height='25px', width='50%'),…"
      ]
     },
     "metadata": {},
     "output_type": "display_data"
    }
   ],
   "source": [
    "test_new_list = test_new_grp.select(\"assetid\").rdd.flatMap(lambda x: x).collect()"
   ]
  },
  {
   "cell_type": "code",
   "execution_count": 282,
   "metadata": {},
   "outputs": [
    {
     "data": {
      "application/vnd.jupyter.widget-view+json": {
       "model_id": "",
       "version_major": 2,
       "version_minor": 0
      },
      "text/plain": [
       "FloatProgress(value=0.0, bar_style='info', description='Progress:', layout=Layout(height='25px', width='50%'),…"
      ]
     },
     "metadata": {},
     "output_type": "display_data"
    },
    {
     "name": "stdout",
     "output_type": "stream",
     "text": [
      "[u'78214434', u'75831186', u'83560337']"
     ]
    }
   ],
   "source": [
    "test_new_list"
   ]
  },
  {
   "cell_type": "code",
   "execution_count": 283,
   "metadata": {},
   "outputs": [
    {
     "data": {
      "application/vnd.jupyter.widget-view+json": {
       "model_id": "",
       "version_major": 2,
       "version_minor": 0
      },
      "text/plain": [
       "FloatProgress(value=0.0, bar_style='info', description='Progress:', layout=Layout(height='25px', width='50%'),…"
      ]
     },
     "metadata": {},
     "output_type": "display_data"
    }
   ],
   "source": [
    "test_new = test_new.filter(~test_new.assetid.isin(test_new_list))"
   ]
  },
  {
   "cell_type": "code",
   "execution_count": 284,
   "metadata": {},
   "outputs": [
    {
     "data": {
      "application/vnd.jupyter.widget-view+json": {
       "model_id": "",
       "version_major": 2,
       "version_minor": 0
      },
      "text/plain": [
       "FloatProgress(value=0.0, bar_style='info', description='Progress:', layout=Layout(height='25px', width='50%'),…"
      ]
     },
     "metadata": {},
     "output_type": "display_data"
    },
    {
     "name": "stdout",
     "output_type": "stream",
     "text": [
      "108704"
     ]
    }
   ],
   "source": [
    "test_new.count()"
   ]
  },
  {
   "cell_type": "code",
   "execution_count": 285,
   "metadata": {},
   "outputs": [
    {
     "data": {
      "application/vnd.jupyter.widget-view+json": {
       "model_id": "",
       "version_major": 2,
       "version_minor": 0
      },
      "text/plain": [
       "FloatProgress(value=0.0, bar_style='info', description='Progress:', layout=Layout(height='25px', width='50%'),…"
      ]
     },
     "metadata": {},
     "output_type": "display_data"
    },
    {
     "name": "stdout",
     "output_type": "stream",
     "text": [
      "3397"
     ]
    }
   ],
   "source": [
    "test_new.select('assetid').distinct().count()"
   ]
  },
  {
   "cell_type": "code",
   "execution_count": 286,
   "metadata": {},
   "outputs": [
    {
     "data": {
      "application/vnd.jupyter.widget-view+json": {
       "model_id": "",
       "version_major": 2,
       "version_minor": 0
      },
      "text/plain": [
       "FloatProgress(value=0.0, bar_style='info', description='Progress:', layout=Layout(height='25px', width='50%'),…"
      ]
     },
     "metadata": {},
     "output_type": "display_data"
    },
    {
     "name": "stdout",
     "output_type": "stream",
     "text": [
      "108704"
     ]
    }
   ],
   "source": [
    "3397*32"
   ]
  },
  {
   "cell_type": "code",
   "execution_count": 287,
   "metadata": {},
   "outputs": [
    {
     "data": {
      "application/vnd.jupyter.widget-view+json": {
       "model_id": "",
       "version_major": 2,
       "version_minor": 0
      },
      "text/plain": [
       "FloatProgress(value=0.0, bar_style='info', description='Progress:', layout=Layout(height='25px', width='50%'),…"
      ]
     },
     "metadata": {},
     "output_type": "display_data"
    }
   ],
   "source": [
    "test_new.repartition(1).write.format(\"parquet\").mode('overwrite').save(\"hdfs://nameservicedev1//user/dt_srajan/predictive_care/cpe_replacement/data_w32_g3/df_test_new_filtered\")\n"
   ]
  },
  {
   "cell_type": "code",
   "execution_count": null,
   "metadata": {},
   "outputs": [],
   "source": [
    "## Check"
   ]
  },
  {
   "cell_type": "code",
   "execution_count": 241,
   "metadata": {},
   "outputs": [
    {
     "data": {
      "application/vnd.jupyter.widget-view+json": {
       "model_id": "",
       "version_major": 2,
       "version_minor": 0
      },
      "text/plain": [
       "FloatProgress(value=0.0, bar_style='info', description='Progress:', layout=Layout(height='25px', width='50%'),…"
      ]
     },
     "metadata": {},
     "output_type": "display_data"
    }
   ],
   "source": [
    "a = spark.read.parquet('hdfs://nameservicedev1//user/dt_srajan/predictive_care/cpe_replacement/data_w32_g3/df_train_new')\n",
    "b = spark.read.parquet('hdfs://nameservicedev1//user/dt_srajan/predictive_care/cpe_replacement/data_w30_g3/df_test')"
   ]
  },
  {
   "cell_type": "code",
   "execution_count": 242,
   "metadata": {},
   "outputs": [
    {
     "data": {
      "application/vnd.jupyter.widget-view+json": {
       "model_id": "",
       "version_major": 2,
       "version_minor": 0
      },
      "text/plain": [
       "FloatProgress(value=0.0, bar_style='info', description='Progress:', layout=Layout(height='25px', width='50%'),…"
      ]
     },
     "metadata": {},
     "output_type": "display_data"
    },
    {
     "name": "stdout",
     "output_type": "stream",
     "text": [
      "137"
     ]
    }
   ],
   "source": [
    "print(len(b.columns))"
   ]
  },
  {
   "cell_type": "code",
   "execution_count": 169,
   "metadata": {},
   "outputs": [
    {
     "data": {
      "application/vnd.jupyter.widget-view+json": {
       "model_id": "",
       "version_major": 2,
       "version_minor": 0
      },
      "text/plain": [
       "FloatProgress(value=0.0, bar_style='info', description='Progress:', layout=Layout(height='25px', width='50%'),…"
      ]
     },
     "metadata": {},
     "output_type": "display_data"
    },
    {
     "name": "stdout",
     "output_type": "stream",
     "text": [
      "True"
     ]
    }
   ],
   "source": [
    "a.columns == b.columns"
   ]
  },
  {
   "cell_type": "code",
   "execution_count": 16,
   "metadata": {},
   "outputs": [
    {
     "data": {
      "application/vnd.jupyter.widget-view+json": {
       "model_id": "",
       "version_major": 2,
       "version_minor": 0
      },
      "text/plain": [
       "FloatProgress(value=0.0, bar_style='info', description='Progress:', layout=Layout(height='25px', width='50%'),…"
      ]
     },
     "metadata": {},
     "output_type": "display_data"
    }
   ],
   "source": [
    "c = spark.sql('select * from cdl_tdata_model.networkdevice2 limit 2')"
   ]
  },
  {
   "cell_type": "code",
   "execution_count": 17,
   "metadata": {},
   "outputs": [
    {
     "data": {
      "application/vnd.jupyter.widget-view+json": {
       "model_id": "",
       "version_major": 2,
       "version_minor": 0
      },
      "text/plain": [
       "FloatProgress(value=0.0, bar_style='info', description='Progress:', layout=Layout(height='25px', width='50%'),…"
      ]
     },
     "metadata": {},
     "output_type": "display_data"
    },
    {
     "name": "stdout",
     "output_type": "stream",
     "text": [
      "+--------+-------------------+------------+--------------------+-----------------+--------------------+---------------+-----+-----------------+---------+----+\n",
      "|      id|          eventtime|productclass|        serialnumber|customerproductid|             eventid|softwareversion|model|      description|eventdate|type|\n",
      "+--------+-------------------+------------+--------------------+-----------------+--------------------+---------------+-----+-----------------+---------+----+\n",
      "|19645353|2021-05-06 01:08:06|        NULL|8fec70258857f1eb2...|             null|002ad72b0d451eb80...|            346|VQE-S|MAXTV set top box| 20210506| STB|\n",
      "|19645353|2021-05-06 13:00:10|        NULL|8fec70258857f1eb2...|             null|002ad72b0d451eb80...|            346|VQE-S|MAXTV set top box| 20210506| STB|\n",
      "+--------+-------------------+------------+--------------------+-----------------+--------------------+---------------+-----+-----------------+---------+----+"
     ]
    }
   ],
   "source": [
    "c.show(2)"
   ]
  },
  {
   "cell_type": "code",
   "execution_count": 252,
   "metadata": {},
   "outputs": [
    {
     "data": {
      "application/vnd.jupyter.widget-view+json": {
       "model_id": "",
       "version_major": 2,
       "version_minor": 0
      },
      "text/plain": [
       "FloatProgress(value=0.0, bar_style='info', description='Progress:', layout=Layout(height='25px', width='50%'),…"
      ]
     },
     "metadata": {},
     "output_type": "display_data"
    }
   ],
   "source": [
    "#a.printSchema()"
   ]
  },
  {
   "cell_type": "code",
   "execution_count": 292,
   "metadata": {},
   "outputs": [
    {
     "data": {
      "application/vnd.jupyter.widget-view+json": {
       "model_id": "",
       "version_major": 2,
       "version_minor": 0
      },
      "text/plain": [
       "FloatProgress(value=0.0, bar_style='info', description='Progress:', layout=Layout(height='25px', width='50%'),…"
      ]
     },
     "metadata": {},
     "output_type": "display_data"
    },
    {
     "name": "stdout",
     "output_type": "stream",
     "text": [
      "26097"
     ]
    }
   ],
   "source": [
    "a.select('assetid').distinct().count()"
   ]
  },
  {
   "cell_type": "markdown",
   "metadata": {},
   "source": [
    "# Appendix"
   ]
  },
  {
   "cell_type": "markdown",
   "metadata": {},
   "source": [
    "## A. `CPEs` without any issue"
   ]
  },
  {
   "cell_type": "markdown",
   "metadata": {},
   "source": [
    "Here we are going to select the relevant data only for those `cpes` atht has not raise any ticket."
   ]
  },
  {
   "cell_type": "code",
   "execution_count": null,
   "metadata": {},
   "outputs": [],
   "source": [
    "path_tickets = \"hdfs://nameservicedev1//user/dt_srajan/predictive_care/tickets/Smetnje_0107-1510_2020.csv\"\n",
    "df_tickets = spark.read.option(\"encoding\", \"ISO-8859-1\").option(\"inferSchema\", \"true\").csv(path_tickets,header = True,sep=\";\")"
   ]
  },
  {
   "cell_type": "markdown",
   "metadata": {},
   "source": [
    "Let's take a look into the schema"
   ]
  },
  {
   "cell_type": "code",
   "execution_count": null,
   "metadata": {},
   "outputs": [],
   "source": [
    "df_tickets.printSchema()"
   ]
  },
  {
   "cell_type": "markdown",
   "metadata": {},
   "source": [
    "Now we can check how many unique `ASSET_ID` and in this dataset and we can create also alist for further filtering"
   ]
  },
  {
   "cell_type": "code",
   "execution_count": null,
   "metadata": {},
   "outputs": [],
   "source": [
    "cpe_tickets = spark.read.option(\"encoding\", \"ISO-8859-1\").option(\"inferSchema\", \"true\").csv(path_tickets,header = True,sep=\";\").select(\"ASSET_ID\").distinct().toPandas().values\n",
    "cpe_tickets = cpe_tickets.T[0].tolist()\n",
    "cpe_tickets = [str(cpe_id) for cpe_id in  cpe_tickets]\n",
    "len(cpe_tickets)"
   ]
  },
  {
   "cell_type": "markdown",
   "metadata": {},
   "source": [
    "Then the only overlapping months in all datasets are July and Agust. For the following example we are goin to use July only"
   ]
  },
  {
   "cell_type": "code",
   "execution_count": null,
   "metadata": {},
   "outputs": [],
   "source": [
    "start_time, end_time = '2020-07-01', '2020-07-30'\n",
    "df_stats_healty_any_issue  = gather_data (start_time, end_time,spark)\n",
    "df_stats_healty_any_issue = df_stats_healty_any_issue.filter(~df_stats_healty_any_issue.crm_assetId.isin(cpe_tickets)).cache()\n",
    "df_stats_healty_any_issue.count()"
   ]
  },
  {
   "cell_type": "markdown",
   "metadata": {},
   "source": [
    "how many unique Healthy `cpes` we have in july?"
   ]
  },
  {
   "cell_type": "code",
   "execution_count": null,
   "metadata": {},
   "outputs": [],
   "source": [
    "df_stats_healty_any_issue.select('crm_assetId').distinct().count()"
   ]
  },
  {
   "cell_type": "markdown",
   "metadata": {},
   "source": [
    "Let's print some results"
   ]
  },
  {
   "cell_type": "code",
   "execution_count": null,
   "metadata": {},
   "outputs": [],
   "source": [
    "df_stats_healty_any_issue.limit(10).show(200,truncate=False, vertical=True)"
   ]
  },
  {
   "cell_type": "markdown",
   "metadata": {},
   "source": [
    "Saving parquet file in `HDFS`"
   ]
  },
  {
   "cell_type": "code",
   "execution_count": null,
   "metadata": {},
   "outputs": [],
   "source": [
    "df_stats_healty_any_issue.write.format(\"parquet\").mode('overwrite').option(\"header\",\"true\").save(\"hdfs://nameservicedev1//user/dt_srajan/predictive_care/healthy/cpe_healty_any_issue\")"
   ]
  },
  {
   "cell_type": "code",
   "execution_count": null,
   "metadata": {},
   "outputs": [],
   "source": []
  }
 ],
 "metadata": {
  "kernelspec": {
   "display_name": "PySpark",
   "language": "",
   "name": "pysparkkernel"
  },
  "language_info": {
   "codemirror_mode": {
    "name": "python",
    "version": 3
   },
   "mimetype": "text/x-python",
   "name": "pyspark",
   "pygments_lexer": "python3"
  }
 },
 "nbformat": 4,
 "nbformat_minor": 4
}
